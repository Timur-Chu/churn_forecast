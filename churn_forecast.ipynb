{
 "cells": [
  {
   "cell_type": "markdown",
   "metadata": {
    "toc": true
   },
   "source": [
    "<h1>Содержание<span class=\"tocSkip\"></span></h1>\n",
    "<div class=\"toc\"><ul class=\"toc-item\"><li><span><a href=\"#Подготовка-данных\" data-toc-modified-id=\"Подготовка-данных-1\"><span class=\"toc-item-num\">1&nbsp;&nbsp;</span>Подготовка данных</a></span></li><li><span><a href=\"#Исследование-задачи\" data-toc-modified-id=\"Исследование-задачи-2\"><span class=\"toc-item-num\">2&nbsp;&nbsp;</span>Исследование задачи</a></span></li><li><span><a href=\"#Борьба-с-дисбалансом\" data-toc-modified-id=\"Борьба-с-дисбалансом-3\"><span class=\"toc-item-num\">3&nbsp;&nbsp;</span>Борьба с дисбалансом</a></span></li><li><span><a href=\"#Тестирование-модели\" data-toc-modified-id=\"Тестирование-модели-4\"><span class=\"toc-item-num\">4&nbsp;&nbsp;</span>Тестирование модели</a></span></li><li><span><a href=\"#Общий-вывод\" data-toc-modified-id=\"Общий-вывод-5\"><span class=\"toc-item-num\">5&nbsp;&nbsp;</span>Общий вывод</a></span></li></ul></div>"
   ]
  },
  {
   "cell_type": "markdown",
   "metadata": {},
   "source": [
    "# Отток клиентов"
   ]
  },
  {
   "cell_type": "markdown",
   "metadata": {},
   "source": [
    "Из «Бета-Банка» стали уходить клиенты. Каждый месяц. Немного, но заметно. Банковские маркетологи посчитали: сохранять текущих клиентов дешевле, чем привлекать новых.\n",
    "\n",
    "Нужно спрогнозировать, уйдёт клиент из банка в ближайшее время или нет. Вам предоставлены исторические данные о поведении клиентов и расторжении договоров с банком. \n",
    "\n",
    "Постройте модель с предельно большим значением *F1*-меры. Чтобы сдать проект успешно, нужно довести метрику до 0.59. Проверьте *F1*-меру на тестовой выборке самостоятельно.\n",
    "\n",
    "Дополнительно измеряйте *AUC-ROC*, сравнивайте её значение с *F1*-мерой.\n",
    "\n",
    "Источник данных: [https://www.kaggle.com/barelydedicated/bank-customer-churn-modeling](https://www.kaggle.com/barelydedicated/bank-customer-churn-modeling)"
   ]
  },
  {
   "cell_type": "markdown",
   "metadata": {},
   "source": [
    "## Подготовка данных"
   ]
  },
  {
   "cell_type": "code",
   "execution_count": 1,
   "metadata": {},
   "outputs": [],
   "source": [
    "import pandas as pd\n",
    "import matplotlib.pyplot as plt\n",
    "from scipy import stats as st\n",
    "import numpy as np\n",
    "import random\n",
    "import seaborn as sb\n",
    "from sklearn.model_selection import train_test_split\n",
    "from sklearn.tree import DecisionTreeClassifier\n",
    "from sklearn.ensemble import RandomForestClassifier\n",
    "from sklearn.linear_model import LogisticRegression \n",
    "from sklearn.metrics import confusion_matrix\n",
    "from sklearn.preprocessing import StandardScaler \n",
    "from sklearn.metrics import f1_score \n",
    "from sklearn.metrics import roc_auc_score\n",
    "from sklearn.utils import shuffle\n",
    "from sklearn.metrics import roc_curve\n",
    "from sklearn.model_selection import cross_val_score"
   ]
  },
  {
   "cell_type": "code",
   "execution_count": 2,
   "metadata": {
    "scrolled": false
   },
   "outputs": [
    {
     "name": "stdout",
     "output_type": "stream",
     "text": [
      "<class 'pandas.core.frame.DataFrame'>\n",
      "RangeIndex: 10000 entries, 0 to 9999\n",
      "Data columns (total 14 columns):\n",
      " #   Column           Non-Null Count  Dtype  \n",
      "---  ------           --------------  -----  \n",
      " 0   RowNumber        10000 non-null  int64  \n",
      " 1   CustomerId       10000 non-null  int64  \n",
      " 2   Surname          10000 non-null  object \n",
      " 3   CreditScore      10000 non-null  int64  \n",
      " 4   Geography        10000 non-null  object \n",
      " 5   Gender           10000 non-null  object \n",
      " 6   Age              10000 non-null  int64  \n",
      " 7   Tenure           9091 non-null   float64\n",
      " 8   Balance          10000 non-null  float64\n",
      " 9   NumOfProducts    10000 non-null  int64  \n",
      " 10  HasCrCard        10000 non-null  int64  \n",
      " 11  IsActiveMember   10000 non-null  int64  \n",
      " 12  EstimatedSalary  10000 non-null  float64\n",
      " 13  Exited           10000 non-null  int64  \n",
      "dtypes: float64(3), int64(8), object(3)\n",
      "memory usage: 1.1+ MB\n"
     ]
    },
    {
     "data": {
      "text/html": [
       "<div>\n",
       "<style scoped>\n",
       "    .dataframe tbody tr th:only-of-type {\n",
       "        vertical-align: middle;\n",
       "    }\n",
       "\n",
       "    .dataframe tbody tr th {\n",
       "        vertical-align: top;\n",
       "    }\n",
       "\n",
       "    .dataframe thead th {\n",
       "        text-align: right;\n",
       "    }\n",
       "</style>\n",
       "<table border=\"1\" class=\"dataframe\">\n",
       "  <thead>\n",
       "    <tr style=\"text-align: right;\">\n",
       "      <th></th>\n",
       "      <th>RowNumber</th>\n",
       "      <th>CustomerId</th>\n",
       "      <th>Surname</th>\n",
       "      <th>CreditScore</th>\n",
       "      <th>Geography</th>\n",
       "      <th>Gender</th>\n",
       "      <th>Age</th>\n",
       "      <th>Tenure</th>\n",
       "      <th>Balance</th>\n",
       "      <th>NumOfProducts</th>\n",
       "      <th>HasCrCard</th>\n",
       "      <th>IsActiveMember</th>\n",
       "      <th>EstimatedSalary</th>\n",
       "      <th>Exited</th>\n",
       "    </tr>\n",
       "  </thead>\n",
       "  <tbody>\n",
       "    <tr>\n",
       "      <th>0</th>\n",
       "      <td>1</td>\n",
       "      <td>15634602</td>\n",
       "      <td>Hargrave</td>\n",
       "      <td>619</td>\n",
       "      <td>France</td>\n",
       "      <td>Female</td>\n",
       "      <td>42</td>\n",
       "      <td>2.0</td>\n",
       "      <td>0.00</td>\n",
       "      <td>1</td>\n",
       "      <td>1</td>\n",
       "      <td>1</td>\n",
       "      <td>101348.88</td>\n",
       "      <td>1</td>\n",
       "    </tr>\n",
       "    <tr>\n",
       "      <th>1</th>\n",
       "      <td>2</td>\n",
       "      <td>15647311</td>\n",
       "      <td>Hill</td>\n",
       "      <td>608</td>\n",
       "      <td>Spain</td>\n",
       "      <td>Female</td>\n",
       "      <td>41</td>\n",
       "      <td>1.0</td>\n",
       "      <td>83807.86</td>\n",
       "      <td>1</td>\n",
       "      <td>0</td>\n",
       "      <td>1</td>\n",
       "      <td>112542.58</td>\n",
       "      <td>0</td>\n",
       "    </tr>\n",
       "    <tr>\n",
       "      <th>2</th>\n",
       "      <td>3</td>\n",
       "      <td>15619304</td>\n",
       "      <td>Onio</td>\n",
       "      <td>502</td>\n",
       "      <td>France</td>\n",
       "      <td>Female</td>\n",
       "      <td>42</td>\n",
       "      <td>8.0</td>\n",
       "      <td>159660.80</td>\n",
       "      <td>3</td>\n",
       "      <td>1</td>\n",
       "      <td>0</td>\n",
       "      <td>113931.57</td>\n",
       "      <td>1</td>\n",
       "    </tr>\n",
       "    <tr>\n",
       "      <th>3</th>\n",
       "      <td>4</td>\n",
       "      <td>15701354</td>\n",
       "      <td>Boni</td>\n",
       "      <td>699</td>\n",
       "      <td>France</td>\n",
       "      <td>Female</td>\n",
       "      <td>39</td>\n",
       "      <td>1.0</td>\n",
       "      <td>0.00</td>\n",
       "      <td>2</td>\n",
       "      <td>0</td>\n",
       "      <td>0</td>\n",
       "      <td>93826.63</td>\n",
       "      <td>0</td>\n",
       "    </tr>\n",
       "    <tr>\n",
       "      <th>4</th>\n",
       "      <td>5</td>\n",
       "      <td>15737888</td>\n",
       "      <td>Mitchell</td>\n",
       "      <td>850</td>\n",
       "      <td>Spain</td>\n",
       "      <td>Female</td>\n",
       "      <td>43</td>\n",
       "      <td>2.0</td>\n",
       "      <td>125510.82</td>\n",
       "      <td>1</td>\n",
       "      <td>1</td>\n",
       "      <td>1</td>\n",
       "      <td>79084.10</td>\n",
       "      <td>0</td>\n",
       "    </tr>\n",
       "  </tbody>\n",
       "</table>\n",
       "</div>"
      ],
      "text/plain": [
       "   RowNumber  CustomerId   Surname  CreditScore Geography  Gender  Age  \\\n",
       "0          1    15634602  Hargrave          619    France  Female   42   \n",
       "1          2    15647311      Hill          608     Spain  Female   41   \n",
       "2          3    15619304      Onio          502    France  Female   42   \n",
       "3          4    15701354      Boni          699    France  Female   39   \n",
       "4          5    15737888  Mitchell          850     Spain  Female   43   \n",
       "\n",
       "   Tenure    Balance  NumOfProducts  HasCrCard  IsActiveMember  \\\n",
       "0     2.0       0.00              1          1               1   \n",
       "1     1.0   83807.86              1          0               1   \n",
       "2     8.0  159660.80              3          1               0   \n",
       "3     1.0       0.00              2          0               0   \n",
       "4     2.0  125510.82              1          1               1   \n",
       "\n",
       "   EstimatedSalary  Exited  \n",
       "0        101348.88       1  \n",
       "1        112542.58       0  \n",
       "2        113931.57       1  \n",
       "3         93826.63       0  \n",
       "4         79084.10       0  "
      ]
     },
     "execution_count": 2,
     "metadata": {},
     "output_type": "execute_result"
    }
   ],
   "source": [
    "df = pd.read_csv('/datasets/Churn.csv')\n",
    "df.info()\n",
    "df.head()"
   ]
  },
  {
   "cell_type": "markdown",
   "metadata": {},
   "source": [
    "В столбце Tenure присутствуют пропуски, восстановим их, предполагаея, что клиенты в одних странах в зависимости возраста имеют одинаковый срок жизни в качестве клиента банка.\n"
   ]
  },
  {
   "cell_type": "code",
   "execution_count": 3,
   "metadata": {
    "scrolled": true
   },
   "outputs": [
    {
     "data": {
      "text/html": [
       "<div>\n",
       "<style scoped>\n",
       "    .dataframe tbody tr th:only-of-type {\n",
       "        vertical-align: middle;\n",
       "    }\n",
       "\n",
       "    .dataframe tbody tr th {\n",
       "        vertical-align: top;\n",
       "    }\n",
       "\n",
       "    .dataframe thead th {\n",
       "        text-align: right;\n",
       "    }\n",
       "</style>\n",
       "<table border=\"1\" class=\"dataframe\">\n",
       "  <thead>\n",
       "    <tr style=\"text-align: right;\">\n",
       "      <th></th>\n",
       "      <th>RowNumber</th>\n",
       "      <th>CustomerId</th>\n",
       "      <th>Surname</th>\n",
       "      <th>CreditScore</th>\n",
       "      <th>Geography</th>\n",
       "      <th>Gender</th>\n",
       "      <th>Age</th>\n",
       "      <th>Tenure</th>\n",
       "      <th>Balance</th>\n",
       "      <th>NumOfProducts</th>\n",
       "      <th>HasCrCard</th>\n",
       "      <th>IsActiveMember</th>\n",
       "      <th>EstimatedSalary</th>\n",
       "      <th>Exited</th>\n",
       "    </tr>\n",
       "  </thead>\n",
       "  <tbody>\n",
       "    <tr>\n",
       "      <th>30</th>\n",
       "      <td>31</td>\n",
       "      <td>15589475</td>\n",
       "      <td>Azikiwe</td>\n",
       "      <td>591</td>\n",
       "      <td>Spain</td>\n",
       "      <td>Female</td>\n",
       "      <td>39</td>\n",
       "      <td>NaN</td>\n",
       "      <td>0.00</td>\n",
       "      <td>3</td>\n",
       "      <td>1</td>\n",
       "      <td>0</td>\n",
       "      <td>140469.38</td>\n",
       "      <td>1</td>\n",
       "    </tr>\n",
       "    <tr>\n",
       "      <th>48</th>\n",
       "      <td>49</td>\n",
       "      <td>15766205</td>\n",
       "      <td>Yin</td>\n",
       "      <td>550</td>\n",
       "      <td>Germany</td>\n",
       "      <td>Male</td>\n",
       "      <td>38</td>\n",
       "      <td>NaN</td>\n",
       "      <td>103391.38</td>\n",
       "      <td>1</td>\n",
       "      <td>0</td>\n",
       "      <td>1</td>\n",
       "      <td>90878.13</td>\n",
       "      <td>0</td>\n",
       "    </tr>\n",
       "    <tr>\n",
       "      <th>51</th>\n",
       "      <td>52</td>\n",
       "      <td>15768193</td>\n",
       "      <td>Trevisani</td>\n",
       "      <td>585</td>\n",
       "      <td>Germany</td>\n",
       "      <td>Male</td>\n",
       "      <td>36</td>\n",
       "      <td>NaN</td>\n",
       "      <td>146050.97</td>\n",
       "      <td>2</td>\n",
       "      <td>0</td>\n",
       "      <td>0</td>\n",
       "      <td>86424.57</td>\n",
       "      <td>0</td>\n",
       "    </tr>\n",
       "    <tr>\n",
       "      <th>53</th>\n",
       "      <td>54</td>\n",
       "      <td>15702298</td>\n",
       "      <td>Parkhill</td>\n",
       "      <td>655</td>\n",
       "      <td>Germany</td>\n",
       "      <td>Male</td>\n",
       "      <td>41</td>\n",
       "      <td>NaN</td>\n",
       "      <td>125561.97</td>\n",
       "      <td>1</td>\n",
       "      <td>0</td>\n",
       "      <td>0</td>\n",
       "      <td>164040.94</td>\n",
       "      <td>1</td>\n",
       "    </tr>\n",
       "    <tr>\n",
       "      <th>60</th>\n",
       "      <td>61</td>\n",
       "      <td>15651280</td>\n",
       "      <td>Hunter</td>\n",
       "      <td>742</td>\n",
       "      <td>Germany</td>\n",
       "      <td>Male</td>\n",
       "      <td>35</td>\n",
       "      <td>NaN</td>\n",
       "      <td>136857.00</td>\n",
       "      <td>1</td>\n",
       "      <td>0</td>\n",
       "      <td>0</td>\n",
       "      <td>84509.57</td>\n",
       "      <td>0</td>\n",
       "    </tr>\n",
       "  </tbody>\n",
       "</table>\n",
       "</div>"
      ],
      "text/plain": [
       "    RowNumber  CustomerId    Surname  CreditScore Geography  Gender  Age  \\\n",
       "30         31    15589475    Azikiwe          591     Spain  Female   39   \n",
       "48         49    15766205        Yin          550   Germany    Male   38   \n",
       "51         52    15768193  Trevisani          585   Germany    Male   36   \n",
       "53         54    15702298   Parkhill          655   Germany    Male   41   \n",
       "60         61    15651280     Hunter          742   Germany    Male   35   \n",
       "\n",
       "    Tenure    Balance  NumOfProducts  HasCrCard  IsActiveMember  \\\n",
       "30     NaN       0.00              3          1               0   \n",
       "48     NaN  103391.38              1          0               1   \n",
       "51     NaN  146050.97              2          0               0   \n",
       "53     NaN  125561.97              1          0               0   \n",
       "60     NaN  136857.00              1          0               0   \n",
       "\n",
       "    EstimatedSalary  Exited  \n",
       "30        140469.38       1  \n",
       "48         90878.13       0  \n",
       "51         86424.57       0  \n",
       "53        164040.94       1  \n",
       "60         84509.57       0  "
      ]
     },
     "execution_count": 3,
     "metadata": {},
     "output_type": "execute_result"
    }
   ],
   "source": [
    "df[df['Tenure'].isna()].head()"
   ]
  },
  {
   "cell_type": "code",
   "execution_count": 4,
   "metadata": {},
   "outputs": [
    {
     "data": {
      "image/png": "[encoded data removed]",
      "text/plain": [
       "<Figure size 432x288 with 1 Axes>"
      ]
     },
     "metadata": {
      "needs_background": "light"
     },
     "output_type": "display_data"
    }
   ],
   "source": [
    "plt.hist(df['Tenure'])\n",
    "plt.show()"
   ]
  },
  {
   "cell_type": "code",
   "execution_count": 5,
   "metadata": {
    "scrolled": true
   },
   "outputs": [],
   "source": [
    "df['Tenure'] = df['Tenure'].fillna(df.groupby(['Geography','Age'])['Tenure'].transform('median'))"
   ]
  },
  {
   "cell_type": "code",
   "execution_count": 6,
   "metadata": {},
   "outputs": [
    {
     "data": {
      "image/png": "[encoded data removed]",
      "text/plain": [
       "<Figure size 432x288 with 1 Axes>"
      ]
     },
     "metadata": {
      "needs_background": "light"
     },
     "output_type": "display_data"
    }
   ],
   "source": [
    "plt.hist(df['Tenure'])\n",
    "plt.show()"
   ]
  },
  {
   "cell_type": "markdown",
   "metadata": {},
   "source": [
    "Преобразуем значения столбцов в целочисленные"
   ]
  },
  {
   "cell_type": "code",
   "execution_count": 7,
   "metadata": {},
   "outputs": [],
   "source": [
    "df['Tenure'] = df['Tenure'].round()\n",
    "df['Tenure'] = df['Tenure'].astype('int64')"
   ]
  },
  {
   "cell_type": "code",
   "execution_count": 8,
   "metadata": {},
   "outputs": [
    {
     "data": {
      "text/plain": [
       "RowNumber            int64\n",
       "CustomerId           int64\n",
       "Surname             object\n",
       "CreditScore          int64\n",
       "Geography           object\n",
       "Gender              object\n",
       "Age                  int64\n",
       "Tenure               int64\n",
       "Balance            float64\n",
       "NumOfProducts        int64\n",
       "HasCrCard            int64\n",
       "IsActiveMember       int64\n",
       "EstimatedSalary    float64\n",
       "Exited               int64\n",
       "dtype: object"
      ]
     },
     "execution_count": 8,
     "metadata": {},
     "output_type": "execute_result"
    }
   ],
   "source": [
    "df.dtypes"
   ]
  },
  {
   "cell_type": "markdown",
   "metadata": {},
   "source": [
    " Удалим из таблицы столбцы RowNumber, CustomerId,  Surname, т.к. они не несут никакой пользы для исследования"
   ]
  },
  {
   "cell_type": "code",
   "execution_count": 9,
   "metadata": {
    "scrolled": true
   },
   "outputs": [
    {
     "name": "stdout",
     "output_type": "stream",
     "text": [
      "<class 'pandas.core.frame.DataFrame'>\n",
      "RangeIndex: 10000 entries, 0 to 9999\n",
      "Data columns (total 11 columns):\n",
      " #   Column           Non-Null Count  Dtype  \n",
      "---  ------           --------------  -----  \n",
      " 0   CreditScore      10000 non-null  int64  \n",
      " 1   Geography        10000 non-null  object \n",
      " 2   Gender           10000 non-null  object \n",
      " 3   Age              10000 non-null  int64  \n",
      " 4   Tenure           10000 non-null  int64  \n",
      " 5   Balance          10000 non-null  float64\n",
      " 6   NumOfProducts    10000 non-null  int64  \n",
      " 7   HasCrCard        10000 non-null  int64  \n",
      " 8   IsActiveMember   10000 non-null  int64  \n",
      " 9   EstimatedSalary  10000 non-null  float64\n",
      " 10  Exited           10000 non-null  int64  \n",
      "dtypes: float64(2), int64(7), object(2)\n",
      "memory usage: 859.5+ KB\n"
     ]
    }
   ],
   "source": [
    "df = df.drop(['RowNumber','CustomerId','Surname'],axis=1)\n",
    "df.info()"
   ]
  },
  {
   "cell_type": "markdown",
   "metadata": {},
   "source": [
    "Преобразуем категориальные признаки в численные с помощью техники OHE"
   ]
  },
  {
   "cell_type": "code",
   "execution_count": 10,
   "metadata": {},
   "outputs": [],
   "source": [
    "df = pd.get_dummies(df, drop_first=True)"
   ]
  },
  {
   "cell_type": "code",
   "execution_count": 11,
   "metadata": {},
   "outputs": [
    {
     "data": {
      "text/html": [
       "<div>\n",
       "<style scoped>\n",
       "    .dataframe tbody tr th:only-of-type {\n",
       "        vertical-align: middle;\n",
       "    }\n",
       "\n",
       "    .dataframe tbody tr th {\n",
       "        vertical-align: top;\n",
       "    }\n",
       "\n",
       "    .dataframe thead th {\n",
       "        text-align: right;\n",
       "    }\n",
       "</style>\n",
       "<table border=\"1\" class=\"dataframe\">\n",
       "  <thead>\n",
       "    <tr style=\"text-align: right;\">\n",
       "      <th></th>\n",
       "      <th>CreditScore</th>\n",
       "      <th>Age</th>\n",
       "      <th>Tenure</th>\n",
       "      <th>Balance</th>\n",
       "      <th>NumOfProducts</th>\n",
       "      <th>HasCrCard</th>\n",
       "      <th>IsActiveMember</th>\n",
       "      <th>EstimatedSalary</th>\n",
       "      <th>Exited</th>\n",
       "      <th>Geography_Germany</th>\n",
       "      <th>Geography_Spain</th>\n",
       "      <th>Gender_Male</th>\n",
       "    </tr>\n",
       "  </thead>\n",
       "  <tbody>\n",
       "    <tr>\n",
       "      <th>0</th>\n",
       "      <td>619</td>\n",
       "      <td>42</td>\n",
       "      <td>2</td>\n",
       "      <td>0.00</td>\n",
       "      <td>1</td>\n",
       "      <td>1</td>\n",
       "      <td>1</td>\n",
       "      <td>101348.88</td>\n",
       "      <td>1</td>\n",
       "      <td>0</td>\n",
       "      <td>0</td>\n",
       "      <td>0</td>\n",
       "    </tr>\n",
       "    <tr>\n",
       "      <th>1</th>\n",
       "      <td>608</td>\n",
       "      <td>41</td>\n",
       "      <td>1</td>\n",
       "      <td>83807.86</td>\n",
       "      <td>1</td>\n",
       "      <td>0</td>\n",
       "      <td>1</td>\n",
       "      <td>112542.58</td>\n",
       "      <td>0</td>\n",
       "      <td>0</td>\n",
       "      <td>1</td>\n",
       "      <td>0</td>\n",
       "    </tr>\n",
       "    <tr>\n",
       "      <th>2</th>\n",
       "      <td>502</td>\n",
       "      <td>42</td>\n",
       "      <td>8</td>\n",
       "      <td>159660.80</td>\n",
       "      <td>3</td>\n",
       "      <td>1</td>\n",
       "      <td>0</td>\n",
       "      <td>113931.57</td>\n",
       "      <td>1</td>\n",
       "      <td>0</td>\n",
       "      <td>0</td>\n",
       "      <td>0</td>\n",
       "    </tr>\n",
       "    <tr>\n",
       "      <th>3</th>\n",
       "      <td>699</td>\n",
       "      <td>39</td>\n",
       "      <td>1</td>\n",
       "      <td>0.00</td>\n",
       "      <td>2</td>\n",
       "      <td>0</td>\n",
       "      <td>0</td>\n",
       "      <td>93826.63</td>\n",
       "      <td>0</td>\n",
       "      <td>0</td>\n",
       "      <td>0</td>\n",
       "      <td>0</td>\n",
       "    </tr>\n",
       "    <tr>\n",
       "      <th>4</th>\n",
       "      <td>850</td>\n",
       "      <td>43</td>\n",
       "      <td>2</td>\n",
       "      <td>125510.82</td>\n",
       "      <td>1</td>\n",
       "      <td>1</td>\n",
       "      <td>1</td>\n",
       "      <td>79084.10</td>\n",
       "      <td>0</td>\n",
       "      <td>0</td>\n",
       "      <td>1</td>\n",
       "      <td>0</td>\n",
       "    </tr>\n",
       "  </tbody>\n",
       "</table>\n",
       "</div>"
      ],
      "text/plain": [
       "   CreditScore  Age  Tenure    Balance  NumOfProducts  HasCrCard  \\\n",
       "0          619   42       2       0.00              1          1   \n",
       "1          608   41       1   83807.86              1          0   \n",
       "2          502   42       8  159660.80              3          1   \n",
       "3          699   39       1       0.00              2          0   \n",
       "4          850   43       2  125510.82              1          1   \n",
       "\n",
       "   IsActiveMember  EstimatedSalary  Exited  Geography_Germany  \\\n",
       "0               1        101348.88       1                  0   \n",
       "1               1        112542.58       0                  0   \n",
       "2               0        113931.57       1                  0   \n",
       "3               0         93826.63       0                  0   \n",
       "4               1         79084.10       0                  0   \n",
       "\n",
       "   Geography_Spain  Gender_Male  \n",
       "0                0            0  \n",
       "1                1            0  \n",
       "2                0            0  \n",
       "3                0            0  \n",
       "4                1            0  "
      ]
     },
     "execution_count": 11,
     "metadata": {},
     "output_type": "execute_result"
    }
   ],
   "source": [
    "# Код ревьюера\n",
    "\n",
    "df.head()"
   ]
  },
  {
   "cell_type": "code",
   "execution_count": 12,
   "metadata": {},
   "outputs": [
    {
     "name": "stdout",
     "output_type": "stream",
     "text": [
      "<class 'pandas.core.frame.DataFrame'>\n",
      "RangeIndex: 10000 entries, 0 to 9999\n",
      "Data columns (total 12 columns):\n",
      " #   Column             Non-Null Count  Dtype  \n",
      "---  ------             --------------  -----  \n",
      " 0   CreditScore        10000 non-null  int64  \n",
      " 1   Age                10000 non-null  int64  \n",
      " 2   Tenure             10000 non-null  int64  \n",
      " 3   Balance            10000 non-null  float64\n",
      " 4   NumOfProducts      10000 non-null  int64  \n",
      " 5   HasCrCard          10000 non-null  int64  \n",
      " 6   IsActiveMember     10000 non-null  int64  \n",
      " 7   EstimatedSalary    10000 non-null  float64\n",
      " 8   Exited             10000 non-null  int64  \n",
      " 9   Geography_Germany  10000 non-null  uint8  \n",
      " 10  Geography_Spain    10000 non-null  uint8  \n",
      " 11  Gender_Male        10000 non-null  uint8  \n",
      "dtypes: float64(2), int64(7), uint8(3)\n",
      "memory usage: 732.5 KB\n"
     ]
    }
   ],
   "source": [
    "df.info()"
   ]
  },
  {
   "cell_type": "code",
   "execution_count": 13,
   "metadata": {},
   "outputs": [
    {
     "data": {
      "text/plain": [
       "0    7963\n",
       "1    2037\n",
       "Name: Exited, dtype: int64"
      ]
     },
     "execution_count": 13,
     "metadata": {},
     "output_type": "execute_result"
    }
   ],
   "source": [
    "df['Exited'].value_counts()"
   ]
  },
  {
   "cell_type": "markdown",
   "metadata": {},
   "source": [
    "Доля положительных ответов в 4 раза меньше отрицательных. Налицо дисбаланс классов в пользу отрицательного класса в соотношении 8:2. Если мы будем всех людей прогнозировать, что они не уйдут из банка, то в 80% случаев мы будем правы"
   ]
  },
  {
   "cell_type": "markdown",
   "metadata": {},
   "source": [
    "Разобьем данные на обучающую, валидационную и тестовую выборки в соотношении 60-20-20."
   ]
  },
  {
   "cell_type": "code",
   "execution_count": 14,
   "metadata": {},
   "outputs": [
    {
     "name": "stdout",
     "output_type": "stream",
     "text": [
      "Размер получившихся выборок: \n",
      "\n",
      "train: (6000, 11) (6000,)\n",
      "valid: (2000, 11) (2000,)\n",
      "test: (2000, 11) (2000,)\n"
     ]
    }
   ],
   "source": [
    "features = df.drop('Exited',axis=1) # создаем переменную с признаками\n",
    "target = df['Exited']  # создаем переменную с  целевым признаком\n",
    "\n",
    "features_t, features_valid, target_t, target_valid = train_test_split(\n",
    "    features, target, test_size=0.2,train_size=0.8, random_state=12345)\n",
    "features_train, features_test, target_train, target_test = train_test_split(\n",
    "    features_t, target_t, test_size=0.25,train_size=0.75, random_state=12345)\n",
    "print('Размер получившихся выборок: \\n')\n",
    "print('train:',features_train.shape,target_train.shape)\n",
    "print('valid:',features_valid.shape,target_valid.shape)\n",
    "print('test:',features_test.shape,target_test.shape)"
   ]
  },
  {
   "cell_type": "markdown",
   "metadata": {},
   "source": [
    "Масштабируем количественные признаки"
   ]
  },
  {
   "cell_type": "code",
   "execution_count": 15,
   "metadata": {},
   "outputs": [],
   "source": [
    "pd.options.mode.chained_assignment = None # игнорируем предупреждение SettingsWithCopy\n",
    "numeric = ['CreditScore', 'Age', 'Tenure', 'Balance', 'NumOfProducts','HasCrCard','IsActiveMember','EstimatedSalary']\n",
    "scaler  = StandardScaler()\n",
    "scaler.fit(features_train[numeric])\n",
    "features_train[numeric] = scaler.transform(features_train[numeric])\n",
    "features_valid[numeric] = scaler.transform(features_valid[numeric]) \n",
    "features_test[numeric] = scaler.transform(features_test[numeric]) \n"
   ]
  },
  {
   "cell_type": "markdown",
   "metadata": {},
   "source": [
    "## Исследование задачи\n",
    "\n",
    "На данном этапе рассмотрим 3 алгоритма классификации:\n",
    "- Решающее дерево\n",
    "- Случайный лес\n",
    "- Логистическая регрессия\n",
    "\n",
    "Найдем наилучший алгоритм, определяя в процессе оптимальные гиперпараметры каждого метода."
   ]
  },
  {
   "cell_type": "code",
   "execution_count": 16,
   "metadata": {
    "scrolled": false
   },
   "outputs": [
    {
     "name": "stdout",
     "output_type": "stream",
     "text": [
      "F1 мера наилучшей модели алгоритма Решающее дерево равна: 0.619 \n",
      "при гиперпараметрах: max_depth = 10 и min_samples_leaf= 39\n"
     ]
    }
   ],
   "source": [
    "best_model_tree = None\n",
    "best_f1_tree = 0\n",
    "best_max_depth=0\n",
    "best_min_samples_leaf = 0\n",
    "for leaf in range(1,100,38):\n",
    "    for depth in range(1,16):\n",
    "        model_tree = DecisionTreeClassifier(random_state=12345, min_samples_leaf=leaf, max_depth=depth)\n",
    "        model_tree.fit(features_train,target_train)\n",
    "        predicted_valid_tree = model_tree.predict(features_valid)\n",
    "        f1_tree = f1_score(target_valid,predicted_valid_tree)\n",
    "        #print(\"min_samples_leaf =\",leaf,\": \",result)\n",
    "        if f1_tree > best_f1_tree:\n",
    "            best_model_tree = model_tree # сохраняем наилучшую модель\n",
    "            best_f1_tree = f1_tree #  сохраняем наилучшее значение метрики F1 на валидационных данных\n",
    "            best_predicted_valid_tree = predicted_valid_tree\n",
    "            best_max_depth = depth\n",
    "            best_min_samples_leaf = leaf\n",
    "print(\"F1 мера наилучшей модели алгоритма Решающее дерево равна:\", best_f1_tree.round(3),'\\nпри гиперпараметрах: max_depth =',best_max_depth,'и min_samples_leaf=', best_min_samples_leaf)\n",
    "#print(\"Матрица ошибок: \\n\",confusion_matrix(target_valid, best_predicted_valid_tree))"
   ]
  },
  {
   "cell_type": "code",
   "execution_count": 17,
   "metadata": {},
   "outputs": [
    {
     "name": "stdout",
     "output_type": "stream",
     "text": [
      "F1 мера наилучшей модели алгоритма Случайный Лес равна: 0.583 \n",
      "при гиперпараметрах: max_depth = 12 и n_estimators= 14\n"
     ]
    }
   ],
   "source": [
    "best_model_forest = None\n",
    "best_f1_forest= 0\n",
    "best_max_depth=0\n",
    "best_n_estimators = 0\n",
    "for est in range(1,51,13):\n",
    "    for depth in range(1,16):\n",
    "        model_forest = RandomForestClassifier(random_state=12345, n_estimators=est, max_depth=depth)\n",
    "        model_forest.fit(features_train,target_train)\n",
    "        predicted_valid_forest = model_forest.predict(features_valid)\n",
    "        f1_forest = f1_score(target_valid,predicted_valid_forest)\n",
    "        #print(\"min_samples_leaf =\",leaf,\": \",result)\n",
    "        if f1_forest > best_f1_forest:\n",
    "            best_model_forest = model_forest# сохраните наилучшую модель\n",
    "            best_f1_forest = f1_forest#  сохраните наилучшее значение метрики accuracy на валидационных данных\n",
    "            best_predicted_valid_forest = predicted_valid_forest\n",
    "            best_max_depth = depth\n",
    "            best_n_estimators = est\n",
    "print(\"F1 мера наилучшей модели алгоритма Случайный Лес равна:\", best_f1_forest.round(3),'\\nпри гиперпараметрах: max_depth =',best_max_depth,'и n_estimators=', best_n_estimators)\n",
    "#print(\"Матрица ошибок: \\n\",confusion_matrix(target_valid, best_predicted_valid_forest))"
   ]
  },
  {
   "cell_type": "code",
   "execution_count": 18,
   "metadata": {
    "scrolled": false
   },
   "outputs": [
    {
     "name": "stdout",
     "output_type": "stream",
     "text": [
      "F1 мера модели алгоритма Логистическая регрессия равна: 0.304\n"
     ]
    }
   ],
   "source": [
    "model_lr = LogisticRegression(random_state=12345, solver='lbfgs')\n",
    "model_lr.fit(features_train,target_train)\n",
    "predicted_valid_lr = model_lr.predict(features_valid)\n",
    "f1_lr = f1_score(target_valid,predicted_valid_lr)\n",
    "print(\"F1 мера модели алгоритма Логистическая регрессия равна:\", f1_lr.round(3))\n",
    "#print(\"Матрица ошибок: \\n\",confusion_matrix(target_valid, predicted_valid_lr))"
   ]
  },
  {
   "cell_type": "markdown",
   "metadata": {},
   "source": [
    "Без учета дисбаланса лучшая модель получилась при алгоритме Случайное дерево. "
   ]
  },
  {
   "cell_type": "markdown",
   "metadata": {},
   "source": [
    "Судя по полученным матрицам, во всех трех методах отстутсвует баланс классов, в каждоим из них высока доля ответов True Negative"
   ]
  },
  {
   "cell_type": "markdown",
   "metadata": {},
   "source": [
    "## Борьба с дисбалансом"
   ]
  },
  {
   "cell_type": "markdown",
   "metadata": {},
   "source": [
    "Теперь для всех вышеописанных алгоритмов сделаем веса классов сбалансированными, т.е. применим в методах аргумент class_weight='balanced'. Дополнительно к параметру F1 рассчитаем параметр roc_auc_score"
   ]
  },
  {
   "cell_type": "code",
   "execution_count": 19,
   "metadata": {},
   "outputs": [
    {
     "name": "stdout",
     "output_type": "stream",
     "text": [
      "F1 мера наилучшей модели алгоритма Решающее дерево равна: 0.611 \n",
      "при гиперпараметрах: max_depth = 6 и min_samples_leaf= 30\n",
      "Auc_roc: 0.845\n"
     ]
    }
   ],
   "source": [
    "best_model_tree_balanced = None\n",
    "best_f1_tree_balanced = 0\n",
    "best_max_depth=0\n",
    "best_min_samples_leaf = 0\n",
    "for leaf in range(10,101,10):\n",
    "    for depth in range(1,16):\n",
    "        model_tree_balanced = DecisionTreeClassifier(random_state=12345, min_samples_leaf=leaf, max_depth=depth,class_weight='balanced')\n",
    "        model_tree_balanced.fit(features_train,target_train)\n",
    "        predicted_valid_tree_balanced = model_tree_balanced.predict(features_valid)\n",
    "        f1_tree = f1_score(target_valid,predicted_valid_tree_balanced)\n",
    "        #print(\"min_samples_leaf =\",leaf,\": \",result)\n",
    "        if f1_tree > best_f1_tree_balanced:\n",
    "            best_model_tree_balanced = model_tree_balanced # сохраняем наилучшую модель\n",
    "            best_f1_tree_balanced = f1_tree #  сохраняем наилучшее значение метрики F1 на валидационных данных\n",
    "            best_predicted_valid_tree_balanced = predicted_valid_tree_balanced\n",
    "            best_max_depth = depth\n",
    "            best_min_samples_leaf = leaf\n",
    "print(\"F1 мера наилучшей модели алгоритма Решающее дерево равна:\", best_f1_tree_balanced.round(3),'\\nпри гиперпараметрах: max_depth =',best_max_depth,'и min_samples_leaf=', best_min_samples_leaf)\n",
    "probabilities_valid = best_model_tree_balanced.predict_proba(features_valid)\n",
    "probabilities_one_valid = probabilities_valid[:, 1]\n",
    "auc_roc = roc_auc_score(target_valid, probabilities_one_valid)\n",
    "print('Auc_roc:',auc_roc.round(3))"
   ]
  },
  {
   "cell_type": "code",
   "execution_count": 20,
   "metadata": {},
   "outputs": [
    {
     "name": "stdout",
     "output_type": "stream",
     "text": [
      "F1 мера наилучшей модели алгоритма Случайный Лес равна: 0.652 \n",
      "при гиперпараметрах: max_depth = 8 и n_estimators= 50\n",
      "Auc_roc: 0.871\n"
     ]
    }
   ],
   "source": [
    "best_model_forest_balanced = None\n",
    "best_f1_forest_balanced= 0\n",
    "best_max_depth=0\n",
    "best_n_estimators = 0\n",
    "for est in range(10,101,10):\n",
    "    for depth in range(1,16):\n",
    "        model_forest_balanced = RandomForestClassifier(random_state=12345, n_estimators=est, max_depth=depth,class_weight='balanced')\n",
    "        model_forest_balanced.fit(features_train,target_train)\n",
    "        predicted_valid_forest_balanced = model_forest_balanced.predict(features_valid)\n",
    "        f1_forest_balanced = f1_score(target_valid,predicted_valid_forest_balanced)\n",
    "        #print(\"min_samples_leaf =\",leaf,\": \",result)\n",
    "        if f1_forest_balanced > best_f1_forest_balanced:\n",
    "            best_model_forest_balanced = model_forest_balanced# сохраните наилучшую модель\n",
    "            best_f1_forest_balanced = f1_forest_balanced#  сохраните наилучшее значение метрики accuracy на валидационных данных\n",
    "            best_predicted_valid_forest_balanced = predicted_valid_forest_balanced\n",
    "            best_max_depth = depth\n",
    "            best_n_estimators = est\n",
    "print(\"F1 мера наилучшей модели алгоритма Случайный Лес равна:\", best_f1_forest_balanced.round(3),'\\nпри гиперпараметрах: max_depth =',best_max_depth,'и n_estimators=', best_n_estimators)\n",
    "best_model_forest_balanced\n",
    "probabilities_valid = best_model_forest_balanced.predict_proba(features_valid)\n",
    "probabilities_one_valid = probabilities_valid[:, 1]\n",
    "auc_roc = roc_auc_score(target_valid, probabilities_one_valid)\n",
    "print('Auc_roc:',auc_roc.round(3))"
   ]
  },
  {
   "cell_type": "code",
   "execution_count": 21,
   "metadata": {},
   "outputs": [
    {
     "name": "stdout",
     "output_type": "stream",
     "text": [
      "F1 мера модели алгоритма Логистическая регрессия равна: 0.502\n",
      "Auc_roc: 0.764\n"
     ]
    }
   ],
   "source": [
    "model_lr_balanced = LogisticRegression(random_state=12345, solver='liblinear',class_weight='balanced')\n",
    "model_lr_balanced.fit(features_train,target_train)\n",
    "predicted_valid_lr_balanced = model_lr_balanced.predict(features_valid)\n",
    "f1_lr_balanced = f1_score(target_valid,predicted_valid_lr_balanced)\n",
    "print(\"F1 мера модели алгоритма Логистическая регрессия равна:\", f1_lr_balanced.round(3))\n",
    "\n",
    "probabilities_valid = model_lr_balanced.predict_proba(features_valid)\n",
    "probabilities_one_valid = probabilities_valid[:, 1]\n",
    "auc_roc = roc_auc_score(target_valid, probabilities_one_valid)\n",
    "print('Auc_roc:',auc_roc.round(3))"
   ]
  },
  {
   "cell_type": "markdown",
   "metadata": {},
   "source": [
    "Проведем поочередно увелечение выборок и рассчитаем значения меры F1. Значение для repeat 4."
   ]
  },
  {
   "cell_type": "code",
   "execution_count": 22,
   "metadata": {},
   "outputs": [],
   "source": [
    "def upsample(features, target, repeat):\n",
    "    features_zeros = features[target == 0]\n",
    "    features_ones = features[target == 1]\n",
    "    target_zeros = target[target == 0]\n",
    "    target_ones = target[target == 1]\n",
    "\n",
    "    features_upsampled = pd.concat([features_zeros] + [features_ones] * repeat)\n",
    "    target_upsampled = pd.concat([target_zeros] + [target_ones] * repeat)\n",
    "    \n",
    "    features_upsampled, target_upsampled = shuffle(\n",
    "        features_upsampled, target_upsampled, random_state=12345)\n",
    "    \n",
    "    return features_upsampled, target_upsampled\n",
    "features_upsampled, target_upsampled = upsample(features_train, target_train,4)"
   ]
  },
  {
   "cell_type": "code",
   "execution_count": 23,
   "metadata": {},
   "outputs": [
    {
     "name": "stdout",
     "output_type": "stream",
     "text": [
      "F1 мера наилучшей модели алгоритма Решающее дерево равна: 0.623 \n",
      "при гиперпараметрах: max_depth = 8 и min_samples_leaf= 80\n",
      "Auc_roc: 0.854\n"
     ]
    }
   ],
   "source": [
    "best_model_tree_ups = None\n",
    "best_f1_tree_ups = 0\n",
    "best_max_depth=0\n",
    "best_min_samples_leaf = 0\n",
    "for leaf in range(10,101,10):\n",
    "    for depth in range(1,16):\n",
    "        model_tree_ups = DecisionTreeClassifier(random_state=12345, min_samples_leaf=leaf, max_depth=depth)\n",
    "        model_tree_ups.fit(features_upsampled, target_upsampled)\n",
    "        predicted_valid_tree_ups = model_tree_ups.predict(features_valid)\n",
    "        f1_tree_ups = f1_score(target_valid,predicted_valid_tree_ups)\n",
    "        #print(\"min_samples_leaf =\",leaf,\": \",result)\n",
    "        if f1_tree_ups > best_f1_tree_ups:\n",
    "            best_model_tree_ups = model_tree_ups # сохраняем наилучшую модель\n",
    "            best_f1_tree_ups = f1_tree_ups #  сохраняем наилучшее значение метрики F1 на валидационных данных\n",
    "            best_predicted_valid_tree_ups = predicted_valid_tree_ups\n",
    "            best_max_depth = depth\n",
    "            best_min_samples_leaf = leaf\n",
    "print(\"F1 мера наилучшей модели алгоритма Решающее дерево равна:\", best_f1_tree_ups.round(3),'\\nпри гиперпараметрах: max_depth =',best_max_depth,'и min_samples_leaf=', best_min_samples_leaf)\n",
    "probabilities_valid = best_model_tree_ups.predict_proba(features_valid)\n",
    "probabilities_one_valid = probabilities_valid[:, 1]\n",
    "auc_roc = roc_auc_score(target_valid, probabilities_one_valid)\n",
    "print('Auc_roc:',auc_roc.round(3))"
   ]
  },
  {
   "cell_type": "code",
   "execution_count": 24,
   "metadata": {},
   "outputs": [
    {
     "name": "stdout",
     "output_type": "stream",
     "text": [
      "F1 мера наилучшей модели алгоритма Случайный Лес равна: 0.647 \n",
      "при гиперпараметрах: max_depth = 11 и n_estimators= 90\n",
      "Auc_roc: 0.865\n"
     ]
    }
   ],
   "source": [
    "best_model_forest_ups = None\n",
    "best_f1_forest_ups= 0\n",
    "best_max_depth=0\n",
    "best_n_estimators = 0\n",
    "for est in range(10,101,10):\n",
    "    for depth in range(1,16):\n",
    "        model_forest_ups = RandomForestClassifier(random_state=12345, n_estimators=est, max_depth=depth)\n",
    "        model_forest_ups.fit(features_upsampled, target_upsampled)\n",
    "        predicted_valid_forest_ups = model_forest_ups.predict(features_valid)\n",
    "        f1_forest_ups = f1_score(target_valid,predicted_valid_forest_ups)\n",
    "        #print(\"min_samples_leaf =\",leaf,\": \",result)\n",
    "        if f1_forest_ups > best_f1_forest_ups:\n",
    "            best_model_forest_ups = model_forest_ups# сохраните наилучшую модель\n",
    "            best_f1_forest_ups = f1_forest_ups #  сохраним наилучшее значение метрики accuracy на валидационных данных\n",
    "            best_predicted_valid_forest_ups = predicted_valid_forest_ups\n",
    "            best_max_depth = depth\n",
    "            best_n_estimators = est\n",
    "print(\"F1 мера наилучшей модели алгоритма Случайный Лес равна:\", best_f1_forest_ups.round(3),'\\nпри гиперпараметрах: max_depth =',best_max_depth,'и n_estimators=', best_n_estimators)\n",
    "\n",
    "probabilities_valid = best_model_forest_ups.predict_proba(features_valid)\n",
    "probabilities_one_valid = probabilities_valid[:, 1]\n",
    "auc_roc = roc_auc_score(target_valid, probabilities_one_valid)\n",
    "print('Auc_roc:',auc_roc.round(3))"
   ]
  },
  {
   "cell_type": "code",
   "execution_count": 25,
   "metadata": {},
   "outputs": [
    {
     "name": "stdout",
     "output_type": "stream",
     "text": [
      "F1 мера модели алгоритма Логистическая регрессия при увеличении выборки равна: 0.504\n",
      "Auc_roc: 0.764\n"
     ]
    }
   ],
   "source": [
    "model_lr_ups = LogisticRegression(random_state=12345, solver='liblinear')\n",
    "model_lr_ups.fit(features_upsampled, target_upsampled)\n",
    "predicted_valid_ups = model_lr_ups.predict(features_valid)  \n",
    "\n",
    "print(\"F1 мера модели алгоритма Логистическая регрессия при увеличении выборки равна:\", f1_score(target_valid, predicted_valid_ups).round(3))\n",
    "\n",
    "probabilities_valid = model_lr_ups.predict_proba(features_valid)\n",
    "probabilities_one_valid = probabilities_valid[:, 1]\n",
    "auc_roc = roc_auc_score(target_valid, probabilities_one_valid)\n",
    "print('Auc_roc:',auc_roc.round(3))"
   ]
  },
  {
   "cell_type": "markdown",
   "metadata": {},
   "source": [
    "Проведем поочередно уменьшение выборок и рассчитаем значения меры F1. Значение для repeat 0,25"
   ]
  },
  {
   "cell_type": "code",
   "execution_count": 26,
   "metadata": {},
   "outputs": [],
   "source": [
    "def downsample(features, target, fraction):\n",
    "    features_zeros = features[target == 0]\n",
    "    features_ones = features[target == 1]\n",
    "    target_zeros = target[target == 0]\n",
    "    target_ones = target[target == 1]\n",
    "\n",
    "    features_downsampled = pd.concat(\n",
    "        [features_zeros.sample(frac=fraction, random_state=12345)] + [features_ones])\n",
    "    target_downsampled = pd.concat(\n",
    "        [target_zeros.sample(frac=fraction, random_state=12345)] + [target_ones])\n",
    "    \n",
    "    features_downsampled, target_downsampled = shuffle(\n",
    "        features_downsampled, target_downsampled, random_state=12345)\n",
    "    \n",
    "    return features_downsampled, target_downsampled\n",
    "features_downsampled, target_downsampled = downsample(features_train, target_train, 0.25)"
   ]
  },
  {
   "cell_type": "code",
   "execution_count": 27,
   "metadata": {},
   "outputs": [
    {
     "name": "stdout",
     "output_type": "stream",
     "text": [
      "F1 мера наилучшей модели алгоритма Решающее дерево равна: 0.583 \n",
      "при гиперпараметрах: max_depth = 6 и min_samples_leaf= 10\n",
      "Auc_roc: 0.828\n"
     ]
    }
   ],
   "source": [
    "best_model_tree_ds = None\n",
    "best_f1_tree_ds = 0\n",
    "best_max_depth=0\n",
    "best_min_samples_leaf = 0\n",
    "for leaf in range(10,101,10):\n",
    "    for depth in range(1,16):\n",
    "        model_tree_ds = DecisionTreeClassifier(random_state=12345, min_samples_leaf=leaf, max_depth=depth)\n",
    "        model_tree_ds.fit(features_downsampled,target_downsampled)\n",
    "        predicted_valid_tree_ds = model_tree_ds.predict(features_valid)\n",
    "        f1_tree_ds = f1_score(target_valid,predicted_valid_tree_ds)\n",
    "        #print(\"min_samples_leaf =\",leaf,\": \",result)\n",
    "        if f1_tree_ds > best_f1_tree_ds:\n",
    "            best_model_tree_ds = model_tree_ds # сохраняем наилучшую модель\n",
    "            best_f1_tree_ds = f1_tree_ds #  сохраняем наилучшее значение метрики F1 на валидационных данных\n",
    "            best_predicted_valid_tree_ds = predicted_valid_tree_ds\n",
    "            best_max_depth = depth\n",
    "            best_min_samples_leaf = leaf\n",
    "print(\"F1 мера наилучшей модели алгоритма Решающее дерево равна:\", best_f1_tree_ds.round(3),'\\nпри гиперпараметрах: max_depth =',best_max_depth,'и min_samples_leaf=', best_min_samples_leaf)\n",
    "probabilities_valid = best_model_tree_ds.predict_proba(features_valid)\n",
    "probabilities_one_valid = probabilities_valid[:, 1]\n",
    "auc_roc = roc_auc_score(target_valid, probabilities_one_valid)\n",
    "print('Auc_roc:',auc_roc.round(3))"
   ]
  },
  {
   "cell_type": "code",
   "execution_count": 28,
   "metadata": {},
   "outputs": [
    {
     "name": "stdout",
     "output_type": "stream",
     "text": [
      "F1 мера наилучшей модели алгоритма Случайный Лес равна: 0.623 при гиперпараметрах: max_depth = 8 и n_estimators= 90\n",
      "Auc_roc: 0.863\n"
     ]
    }
   ],
   "source": [
    "best_model_forest_ds = None\n",
    "best_f1_forest_ds= 0\n",
    "best_max_depth=0\n",
    "best_n_estimators = 0\n",
    "for est in range(10,101,10):\n",
    "    for depth in range(1,16):\n",
    "        model_forest_ds = RandomForestClassifier(random_state=12345, n_estimators=est, max_depth=depth)\n",
    "        model_forest_ds.fit(features_downsampled, target_downsampled)\n",
    "        predicted_valid_forest_ds = model_forest_ds.predict(features_valid)\n",
    "        f1_forest_ds = f1_score(target_valid,predicted_valid_forest_ds)\n",
    "        #print(\"min_samples_leaf =\",leaf,\": \",result)\n",
    "        if f1_forest_ds > best_f1_forest_ds:\n",
    "            best_model_forest_ds = model_forest_ds# сохраните наилучшую модель\n",
    "            best_f1_forest_ds = f1_forest_ds #  сохраним наилучшее значение метрики accuracy на валидационных данных\n",
    "            best_predicted_valid_forest_ds = predicted_valid_forest_ds\n",
    "            best_max_depth = depth\n",
    "            best_n_estimators = est\n",
    "print(\"F1 мера наилучшей модели алгоритма Случайный Лес равна:\", best_f1_forest_ds.round(3),'при гиперпараметрах: max_depth =',best_max_depth,'и n_estimators=', best_n_estimators)\n",
    "probabilities_valid = best_model_forest_ds.predict_proba(features_valid)\n",
    "probabilities_one_valid = probabilities_valid[:, 1]\n",
    "auc_roc = roc_auc_score(target_valid, probabilities_one_valid)\n",
    "print('Auc_roc:',auc_roc.round(3))"
   ]
  },
  {
   "cell_type": "code",
   "execution_count": 29,
   "metadata": {},
   "outputs": [
    {
     "name": "stdout",
     "output_type": "stream",
     "text": [
      "F1 мера модели алгоритма Логистическая регрессия при уменьшении выборки равна: 0.497\n",
      "Auc_roc: 0.766\n"
     ]
    }
   ],
   "source": [
    "model_lr_ds = LogisticRegression(random_state=12345, solver='liblinear')\n",
    "model_lr_ds.fit(features_downsampled, target_downsampled)\n",
    "predicted_valid_ds= model_lr_ds.predict(features_valid)\n",
    "\n",
    "print(\"F1 мера модели алгоритма Логистическая регрессия при уменьшении выборки равна:\", f1_score(target_valid, predicted_valid_ds).round(3))\n",
    "\n",
    "probabilities_valid = model_lr_ds.predict_proba(features_valid)\n",
    "probabilities_one_valid = probabilities_valid[:, 1]\n",
    "auc_roc = roc_auc_score(target_valid, probabilities_one_valid)\n",
    "print('Auc_roc:',auc_roc.round(3))"
   ]
  },
  {
   "cell_type": "markdown",
   "metadata": {},
   "source": [
    "Наилучшая F1 мера наблюдается при алгоритме Случайный лес, применяя сбалансированные веса классов."
   ]
  },
  {
   "cell_type": "code",
   "execution_count": 30,
   "metadata": {},
   "outputs": [
    {
     "name": "stdout",
     "output_type": "stream",
     "text": [
      "F1 мера наилучшей модели равна: 0.652 \n",
      "при использовании алгоритма: \n",
      " RandomForestClassifier(class_weight='balanced', max_depth=8, n_estimators=50,\n",
      "                       random_state=12345)\n"
     ]
    }
   ],
   "source": [
    "print(\"F1 мера наилучшей модели равна:\", best_f1_forest_balanced.round(3),'\\nпри использовании алгоритма:\\n',best_model_forest_balanced)"
   ]
  },
  {
   "cell_type": "markdown",
   "metadata": {},
   "source": [
    "## Тестирование модели"
   ]
  },
  {
   "cell_type": "code",
   "execution_count": 31,
   "metadata": {},
   "outputs": [
    {
     "name": "stdout",
     "output_type": "stream",
     "text": [
      "F1 мера модели тестовой выборки равна: 0.596\n",
      "Auc_roc: 0.8709457457594566\n"
     ]
    }
   ],
   "source": [
    "model_test = best_model_forest_balanced\n",
    "model_test.fit(features_train,target_train)\n",
    "predictions_test = model_test.predict(features_test)\n",
    "\n",
    "print(\"F1 мера модели тестовой выборки равна:\", f1_score(target_test,predictions_test).round(3)) \n",
    "\n",
    "probabilities_valid = model_test.predict_proba(features_valid)\n",
    "probabilities_one_valid = probabilities_valid[:, 1]\n",
    "auc_roc = roc_auc_score(target_valid, probabilities_one_valid)\n",
    "print('Auc_roc:',auc_roc)"
   ]
  },
  {
   "cell_type": "markdown",
   "metadata": {},
   "source": [
    "По условию проекта метрика F1 должна быть не менее 0.59. Цель достигнута"
   ]
  },
  {
   "cell_type": "markdown",
   "metadata": {},
   "source": [
    "Визуализируем ROC-кривую. "
   ]
  },
  {
   "cell_type": "code",
   "execution_count": 32,
   "metadata": {},
   "outputs": [
    {
     "data": {
      "image/png": "[encoded data removed]",
      "text/plain": [
       "<Figure size 432x288 with 1 Axes>"
      ]
     },
     "metadata": {
      "needs_background": "light"
     },
     "output_type": "display_data"
    }
   ],
   "source": [
    "fpr, tpr, thresholds = roc_curve(target_valid,probabilities_one_valid)\n",
    "plt.plot([0, 1], [0, 1], linestyle='--')\n",
    "plt.plot(fpr, tpr)\n",
    "plt.xlim([0.0, 1.0])\n",
    "plt.ylim([0.0, 1.0])\n",
    "plt.xlabel('False Positive Rate')\n",
    "plt.ylabel('True Positive Rate')\n",
    "plt.title('ROC-кривая')\n",
    "plt.show() "
   ]
  },
  {
   "cell_type": "markdown",
   "metadata": {},
   "source": [
    "## Общий вывод\n",
    "\n",
    "\n",
    "В ходе исследования была обработана информация по клиентам «Бета-Банка» для прогнозирования их оттока. \n",
    "\n",
    "Для определения максимального значения *F1*-меры были построены разные модели с использованием различных алгоритмов и их параметров. Была выявлена лучшая модель алгоритма Случайный Лес и протестирована на тестовой выборке. Результат достигнут,   метрика F1 равна 0.596. Значние показателя ROC-AUC: 0.86.\n"
   ]
  }
 ],
 "metadata": {
  "ExecuteTimeLog": [
   {
    "duration": 69,
    "start_time": "2022-03-25T03:37:59.245Z"
   },
   {
    "duration": 1432,
    "start_time": "2022-03-25T03:38:03.699Z"
   },
   {
    "duration": 71,
    "start_time": "2022-03-25T03:38:06.108Z"
   },
   {
    "duration": 100,
    "start_time": "2022-03-25T03:47:27.738Z"
   },
   {
    "duration": 7,
    "start_time": "2022-03-25T03:47:41.863Z"
   },
   {
    "duration": 20,
    "start_time": "2022-03-25T03:48:35.778Z"
   },
   {
    "duration": 629,
    "start_time": "2022-03-25T03:55:54.061Z"
   },
   {
    "duration": 63,
    "start_time": "2022-03-25T03:55:54.693Z"
   },
   {
    "duration": 25,
    "start_time": "2022-03-25T03:55:54.759Z"
   },
   {
    "duration": 96,
    "start_time": "2022-03-25T03:55:58.429Z"
   },
   {
    "duration": 96,
    "start_time": "2022-03-25T03:57:53.421Z"
   },
   {
    "duration": 149,
    "start_time": "2022-03-25T03:58:32.190Z"
   },
   {
    "duration": 93,
    "start_time": "2022-03-25T03:59:02.560Z"
   },
   {
    "duration": 120,
    "start_time": "2022-03-25T03:59:13.514Z"
   },
   {
    "duration": 118,
    "start_time": "2022-03-25T03:59:14.558Z"
   },
   {
    "duration": 6,
    "start_time": "2022-03-25T03:59:18.551Z"
   },
   {
    "duration": 66,
    "start_time": "2022-03-25T03:59:18.560Z"
   },
   {
    "duration": 21,
    "start_time": "2022-03-25T03:59:18.628Z"
   },
   {
    "duration": 109,
    "start_time": "2022-03-25T03:59:18.651Z"
   },
   {
    "duration": 109,
    "start_time": "2022-03-25T04:00:05.533Z"
   },
   {
    "duration": 396,
    "start_time": "2022-03-25T04:00:13.966Z"
   },
   {
    "duration": 14,
    "start_time": "2022-03-25T04:08:55.511Z"
   },
   {
    "duration": 12,
    "start_time": "2022-03-25T04:09:01.380Z"
   },
   {
    "duration": 10,
    "start_time": "2022-03-25T04:09:08.829Z"
   },
   {
    "duration": 19,
    "start_time": "2022-03-25T04:09:27.942Z"
   },
   {
    "duration": 17,
    "start_time": "2022-03-25T04:09:31.909Z"
   },
   {
    "duration": 16,
    "start_time": "2022-03-25T04:10:44.500Z"
   },
   {
    "duration": 5,
    "start_time": "2022-03-25T04:10:52.412Z"
   },
   {
    "duration": 60,
    "start_time": "2022-03-25T04:10:52.420Z"
   },
   {
    "duration": 20,
    "start_time": "2022-03-25T04:10:52.484Z"
   },
   {
    "duration": 19,
    "start_time": "2022-03-25T04:10:52.506Z"
   },
   {
    "duration": 25,
    "start_time": "2022-03-25T04:15:09.756Z"
   },
   {
    "duration": 30,
    "start_time": "2022-03-25T04:22:21.729Z"
   },
   {
    "duration": 20,
    "start_time": "2022-03-25T04:23:13.977Z"
   },
   {
    "duration": 28,
    "start_time": "2022-03-25T04:23:20.971Z"
   },
   {
    "duration": 26,
    "start_time": "2022-03-25T04:23:34.477Z"
   },
   {
    "duration": 7,
    "start_time": "2022-03-25T04:23:49.205Z"
   },
   {
    "duration": 18,
    "start_time": "2022-03-25T04:24:10.308Z"
   },
   {
    "duration": 5,
    "start_time": "2022-03-25T04:24:36.941Z"
   },
   {
    "duration": 62,
    "start_time": "2022-03-25T04:24:36.948Z"
   },
   {
    "duration": 6,
    "start_time": "2022-03-25T04:24:37.012Z"
   },
   {
    "duration": 47,
    "start_time": "2022-03-25T04:24:37.021Z"
   },
   {
    "duration": 34,
    "start_time": "2022-03-25T04:24:37.071Z"
   },
   {
    "duration": 34,
    "start_time": "2022-03-25T04:25:31.086Z"
   },
   {
    "duration": 6,
    "start_time": "2022-03-25T04:25:34.692Z"
   },
   {
    "duration": 61,
    "start_time": "2022-03-25T04:25:34.701Z"
   },
   {
    "duration": 21,
    "start_time": "2022-03-25T04:25:34.765Z"
   },
   {
    "duration": 27,
    "start_time": "2022-03-25T04:25:34.788Z"
   },
   {
    "duration": 21,
    "start_time": "2022-03-25T04:26:15.023Z"
   },
   {
    "duration": 6,
    "start_time": "2022-03-25T04:26:28.835Z"
   },
   {
    "duration": 2273,
    "start_time": "2022-04-01T15:47:40.357Z"
   },
   {
    "duration": 99,
    "start_time": "2022-04-01T15:47:42.634Z"
   },
   {
    "duration": 29,
    "start_time": "2022-04-01T15:47:42.736Z"
   },
   {
    "duration": 38,
    "start_time": "2022-04-01T15:47:42.769Z"
   },
   {
    "duration": 8,
    "start_time": "2022-04-01T15:47:42.809Z"
   },
   {
    "duration": 210,
    "start_time": "2022-04-01T15:47:53.085Z"
   },
   {
    "duration": 208,
    "start_time": "2022-04-01T15:48:11.274Z"
   },
   {
    "duration": 6,
    "start_time": "2022-04-01T15:50:11.191Z"
   },
   {
    "duration": 177,
    "start_time": "2022-04-01T15:50:19.023Z"
   },
   {
    "duration": 5,
    "start_time": "2022-04-01T15:50:45.726Z"
   },
   {
    "duration": 63,
    "start_time": "2022-04-01T15:50:45.734Z"
   },
   {
    "duration": 20,
    "start_time": "2022-04-01T15:50:45.800Z"
   },
   {
    "duration": 40,
    "start_time": "2022-04-01T15:50:45.822Z"
   },
   {
    "duration": 5,
    "start_time": "2022-04-01T15:50:45.865Z"
   },
   {
    "duration": 29,
    "start_time": "2022-04-01T15:50:48.974Z"
   },
   {
    "duration": 1961,
    "start_time": "2022-04-01T15:51:50.897Z"
   },
   {
    "duration": 65,
    "start_time": "2022-04-01T15:51:52.861Z"
   },
   {
    "duration": 24,
    "start_time": "2022-04-01T15:51:52.928Z"
   },
   {
    "duration": 25,
    "start_time": "2022-04-01T15:51:52.955Z"
   },
   {
    "duration": 6,
    "start_time": "2022-04-01T15:51:52.982Z"
   },
   {
    "duration": 60,
    "start_time": "2022-04-01T15:51:52.990Z"
   },
   {
    "duration": 168,
    "start_time": "2022-04-01T15:53:45.462Z"
   },
   {
    "duration": 4,
    "start_time": "2022-04-01T15:53:51.923Z"
   },
   {
    "duration": 64,
    "start_time": "2022-04-01T15:53:51.930Z"
   },
   {
    "duration": 20,
    "start_time": "2022-04-01T15:53:51.996Z"
   },
   {
    "duration": 40,
    "start_time": "2022-04-01T15:53:52.018Z"
   },
   {
    "duration": 6,
    "start_time": "2022-04-01T15:53:52.061Z"
   },
   {
    "duration": 19,
    "start_time": "2022-04-01T15:53:57.106Z"
   },
   {
    "duration": 27,
    "start_time": "2022-04-01T15:54:09.370Z"
   },
   {
    "duration": 5,
    "start_time": "2022-04-01T15:54:13.139Z"
   },
   {
    "duration": 68,
    "start_time": "2022-04-01T15:54:13.146Z"
   },
   {
    "duration": 28,
    "start_time": "2022-04-01T15:54:13.216Z"
   },
   {
    "duration": 37,
    "start_time": "2022-04-01T15:54:13.247Z"
   },
   {
    "duration": 7,
    "start_time": "2022-04-01T15:54:13.287Z"
   },
   {
    "duration": 39,
    "start_time": "2022-04-01T15:54:13.296Z"
   },
   {
    "duration": 17,
    "start_time": "2022-04-01T15:54:16.075Z"
   },
   {
    "duration": 6,
    "start_time": "2022-04-01T15:54:31.612Z"
   },
   {
    "duration": 89,
    "start_time": "2022-04-01T15:54:31.621Z"
   },
   {
    "duration": 18,
    "start_time": "2022-04-01T15:54:31.713Z"
   },
   {
    "duration": 32,
    "start_time": "2022-04-01T15:54:31.734Z"
   },
   {
    "duration": 5,
    "start_time": "2022-04-01T15:54:31.768Z"
   },
   {
    "duration": 18,
    "start_time": "2022-04-01T15:54:35.070Z"
   },
   {
    "duration": 5,
    "start_time": "2022-04-01T15:55:20.113Z"
   },
   {
    "duration": 92,
    "start_time": "2022-04-01T15:55:20.120Z"
   },
   {
    "duration": 20,
    "start_time": "2022-04-01T15:55:20.215Z"
   },
   {
    "duration": 235,
    "start_time": "2022-04-01T15:55:20.239Z"
   },
   {
    "duration": 0,
    "start_time": "2022-04-01T15:55:20.477Z"
   },
   {
    "duration": 0,
    "start_time": "2022-04-01T15:55:20.479Z"
   },
   {
    "duration": 24,
    "start_time": "2022-04-01T15:55:36.940Z"
   },
   {
    "duration": 5,
    "start_time": "2022-04-01T15:55:41.467Z"
   },
   {
    "duration": 64,
    "start_time": "2022-04-01T15:55:41.475Z"
   },
   {
    "duration": 35,
    "start_time": "2022-04-01T15:55:41.543Z"
   },
   {
    "duration": 24,
    "start_time": "2022-04-01T15:55:41.580Z"
   },
   {
    "duration": 6,
    "start_time": "2022-04-01T15:55:41.607Z"
   },
   {
    "duration": 18,
    "start_time": "2022-04-01T15:55:41.643Z"
   },
   {
    "duration": 16,
    "start_time": "2022-04-01T15:58:47.468Z"
   },
   {
    "duration": 5,
    "start_time": "2022-04-01T15:59:05.805Z"
   },
   {
    "duration": 75,
    "start_time": "2022-04-01T15:59:05.812Z"
   },
   {
    "duration": 19,
    "start_time": "2022-04-01T15:59:05.899Z"
   },
   {
    "duration": 35,
    "start_time": "2022-04-01T15:59:05.920Z"
   },
   {
    "duration": 5,
    "start_time": "2022-04-01T15:59:05.958Z"
   },
   {
    "duration": 19,
    "start_time": "2022-04-01T15:59:05.965Z"
   },
   {
    "duration": 3391,
    "start_time": "2022-04-01T16:03:12.330Z"
   },
   {
    "duration": 10,
    "start_time": "2022-04-01T16:03:28.271Z"
   },
   {
    "duration": 3423,
    "start_time": "2022-04-01T16:03:44.868Z"
   },
   {
    "duration": 27,
    "start_time": "2022-04-01T16:04:03.277Z"
   },
   {
    "duration": 75,
    "start_time": "2022-04-01T18:05:30.105Z"
   },
   {
    "duration": 2496,
    "start_time": "2022-04-01T18:05:35.712Z"
   },
   {
    "duration": 74,
    "start_time": "2022-04-01T18:05:38.211Z"
   },
   {
    "duration": 31,
    "start_time": "2022-04-01T18:05:38.288Z"
   },
   {
    "duration": 60,
    "start_time": "2022-04-01T18:05:38.322Z"
   },
   {
    "duration": 10,
    "start_time": "2022-04-01T18:05:38.387Z"
   },
   {
    "duration": 26,
    "start_time": "2022-04-01T18:05:38.400Z"
   },
   {
    "duration": 19,
    "start_time": "2022-04-01T18:05:38.429Z"
   },
   {
    "duration": 50,
    "start_time": "2022-04-01T18:05:38.450Z"
   },
   {
    "duration": 23,
    "start_time": "2022-04-01T18:10:15.714Z"
   },
   {
    "duration": 27,
    "start_time": "2022-04-01T18:11:01.771Z"
   },
   {
    "duration": 28,
    "start_time": "2022-04-01T18:11:07.130Z"
   },
   {
    "duration": 5,
    "start_time": "2022-04-01T18:11:20.157Z"
   },
   {
    "duration": 69,
    "start_time": "2022-04-01T18:11:20.165Z"
   },
   {
    "duration": 20,
    "start_time": "2022-04-01T18:11:20.237Z"
   },
   {
    "duration": 37,
    "start_time": "2022-04-01T18:11:20.261Z"
   },
   {
    "duration": 9,
    "start_time": "2022-04-01T18:11:20.301Z"
   },
   {
    "duration": 23,
    "start_time": "2022-04-01T18:11:20.312Z"
   },
   {
    "duration": 9,
    "start_time": "2022-04-01T18:11:23.640Z"
   },
   {
    "duration": 72,
    "start_time": "2022-04-01T18:11:23.652Z"
   },
   {
    "duration": 19,
    "start_time": "2022-04-01T18:11:23.727Z"
   },
   {
    "duration": 62,
    "start_time": "2022-04-01T18:11:23.749Z"
   },
   {
    "duration": 7,
    "start_time": "2022-04-01T18:11:23.815Z"
   },
   {
    "duration": 26,
    "start_time": "2022-04-01T18:11:23.824Z"
   },
   {
    "duration": 25,
    "start_time": "2022-04-01T18:11:23.853Z"
   },
   {
    "duration": 37,
    "start_time": "2022-04-01T18:11:23.881Z"
   },
   {
    "duration": 26,
    "start_time": "2022-04-01T18:12:43.366Z"
   },
   {
    "duration": 17,
    "start_time": "2022-04-01T18:12:54.460Z"
   },
   {
    "duration": 23,
    "start_time": "2022-04-01T18:12:55.975Z"
   },
   {
    "duration": 5,
    "start_time": "2022-04-01T18:18:03.201Z"
   },
   {
    "duration": 64,
    "start_time": "2022-04-01T18:18:03.208Z"
   },
   {
    "duration": 28,
    "start_time": "2022-04-01T18:18:03.275Z"
   },
   {
    "duration": 28,
    "start_time": "2022-04-01T18:18:03.305Z"
   },
   {
    "duration": 6,
    "start_time": "2022-04-01T18:18:03.336Z"
   },
   {
    "duration": 64,
    "start_time": "2022-04-01T18:18:03.344Z"
   },
   {
    "duration": 15,
    "start_time": "2022-04-01T18:18:03.410Z"
   },
   {
    "duration": 16,
    "start_time": "2022-04-01T18:18:03.427Z"
   },
   {
    "duration": 5,
    "start_time": "2022-04-01T18:18:20.218Z"
   },
   {
    "duration": 70,
    "start_time": "2022-04-01T18:18:20.226Z"
   },
   {
    "duration": 20,
    "start_time": "2022-04-01T18:18:20.299Z"
   },
   {
    "duration": 28,
    "start_time": "2022-04-01T18:18:20.322Z"
   },
   {
    "duration": 16,
    "start_time": "2022-04-01T18:18:20.374Z"
   },
   {
    "duration": 20,
    "start_time": "2022-04-01T18:18:20.393Z"
   },
   {
    "duration": 15,
    "start_time": "2022-04-01T18:18:20.416Z"
   },
   {
    "duration": 56,
    "start_time": "2022-04-01T18:18:20.433Z"
   },
   {
    "duration": 69,
    "start_time": "2022-04-02T10:46:33.240Z"
   },
   {
    "duration": 2288,
    "start_time": "2022-04-02T10:46:37.912Z"
   },
   {
    "duration": 78,
    "start_time": "2022-04-02T10:46:40.203Z"
   },
   {
    "duration": 20,
    "start_time": "2022-04-02T10:46:40.284Z"
   },
   {
    "duration": 43,
    "start_time": "2022-04-02T10:46:40.307Z"
   },
   {
    "duration": 6,
    "start_time": "2022-04-02T10:46:40.352Z"
   },
   {
    "duration": 21,
    "start_time": "2022-04-02T10:46:40.360Z"
   },
   {
    "duration": 14,
    "start_time": "2022-04-02T10:46:40.384Z"
   },
   {
    "duration": 46,
    "start_time": "2022-04-02T10:46:40.400Z"
   },
   {
    "duration": 17,
    "start_time": "2022-04-02T10:59:25.306Z"
   },
   {
    "duration": 18,
    "start_time": "2022-04-02T11:00:03.074Z"
   },
   {
    "duration": 14,
    "start_time": "2022-04-02T11:00:37.842Z"
   },
   {
    "duration": 15,
    "start_time": "2022-04-02T11:01:17.846Z"
   },
   {
    "duration": 116,
    "start_time": "2022-04-02T12:05:39.620Z"
   },
   {
    "duration": 49,
    "start_time": "2022-04-02T12:06:03.748Z"
   },
   {
    "duration": 43,
    "start_time": "2022-04-02T12:07:21.087Z"
   },
   {
    "duration": 41,
    "start_time": "2022-04-02T12:08:06.979Z"
   },
   {
    "duration": 15,
    "start_time": "2022-04-02T12:10:50.566Z"
   },
   {
    "duration": 16,
    "start_time": "2022-04-02T12:12:40.212Z"
   },
   {
    "duration": 23,
    "start_time": "2022-04-02T12:13:16.524Z"
   },
   {
    "duration": 41,
    "start_time": "2022-04-02T12:13:27.270Z"
   },
   {
    "duration": 38,
    "start_time": "2022-04-02T12:13:29.665Z"
   },
   {
    "duration": 3072,
    "start_time": "2022-04-03T11:20:50.135Z"
   },
   {
    "duration": 70,
    "start_time": "2022-04-03T11:20:53.210Z"
   },
   {
    "duration": 26,
    "start_time": "2022-04-03T11:20:53.283Z"
   },
   {
    "duration": 54,
    "start_time": "2022-04-03T11:20:53.313Z"
   },
   {
    "duration": 6,
    "start_time": "2022-04-03T11:20:53.370Z"
   },
   {
    "duration": 23,
    "start_time": "2022-04-03T11:20:53.378Z"
   },
   {
    "duration": 15,
    "start_time": "2022-04-03T11:20:53.403Z"
   },
   {
    "duration": 48,
    "start_time": "2022-04-03T11:20:53.420Z"
   },
   {
    "duration": 24,
    "start_time": "2022-04-03T11:20:53.471Z"
   },
   {
    "duration": 79,
    "start_time": "2022-04-03T11:20:53.499Z"
   },
   {
    "duration": 170,
    "start_time": "2022-04-03T11:20:53.580Z"
   },
   {
    "duration": 14,
    "start_time": "2022-04-03T11:55:25.360Z"
   },
   {
    "duration": 5,
    "start_time": "2022-04-03T11:56:53.728Z"
   },
   {
    "duration": 76,
    "start_time": "2022-04-03T11:56:53.737Z"
   },
   {
    "duration": 20,
    "start_time": "2022-04-03T11:56:53.815Z"
   },
   {
    "duration": 42,
    "start_time": "2022-04-03T11:56:53.837Z"
   },
   {
    "duration": 6,
    "start_time": "2022-04-03T11:56:53.883Z"
   },
   {
    "duration": 33,
    "start_time": "2022-04-03T11:56:53.891Z"
   },
   {
    "duration": 14,
    "start_time": "2022-04-03T11:56:53.927Z"
   },
   {
    "duration": 34,
    "start_time": "2022-04-03T11:56:53.943Z"
   },
   {
    "duration": 32,
    "start_time": "2022-04-03T11:56:53.979Z"
   },
   {
    "duration": 59,
    "start_time": "2022-04-03T11:56:54.013Z"
   },
   {
    "duration": 24,
    "start_time": "2022-04-03T11:56:54.074Z"
   },
   {
    "duration": 5,
    "start_time": "2022-04-03T11:57:17.095Z"
   },
   {
    "duration": 62,
    "start_time": "2022-04-03T11:57:17.103Z"
   },
   {
    "duration": 20,
    "start_time": "2022-04-03T11:57:17.167Z"
   },
   {
    "duration": 25,
    "start_time": "2022-04-03T11:57:17.189Z"
   },
   {
    "duration": 6,
    "start_time": "2022-04-03T11:57:17.217Z"
   },
   {
    "duration": 54,
    "start_time": "2022-04-03T11:57:17.225Z"
   },
   {
    "duration": 14,
    "start_time": "2022-04-03T11:57:17.281Z"
   },
   {
    "duration": 14,
    "start_time": "2022-04-03T11:57:17.297Z"
   },
   {
    "duration": 16,
    "start_time": "2022-04-03T11:57:17.313Z"
   },
   {
    "duration": 74,
    "start_time": "2022-04-03T11:57:17.330Z"
   },
   {
    "duration": 107,
    "start_time": "2022-04-03T11:57:17.406Z"
   },
   {
    "duration": 432,
    "start_time": "2022-04-03T11:57:34.390Z"
   },
   {
    "duration": 458,
    "start_time": "2022-04-03T12:02:03.653Z"
   },
   {
    "duration": 407,
    "start_time": "2022-04-03T12:08:03.644Z"
   },
   {
    "duration": 420,
    "start_time": "2022-04-03T12:08:34.308Z"
   },
   {
    "duration": 421,
    "start_time": "2022-04-03T12:08:40.329Z"
   },
   {
    "duration": 5746,
    "start_time": "2022-04-03T12:30:15.414Z"
   },
   {
    "duration": 6161,
    "start_time": "2022-04-03T12:31:12.123Z"
   },
   {
    "duration": 3855,
    "start_time": "2022-04-03T12:32:06.673Z"
   },
   {
    "duration": 22,
    "start_time": "2022-04-03T12:32:21.299Z"
   },
   {
    "duration": 5183,
    "start_time": "2022-04-03T12:32:37.807Z"
   },
   {
    "duration": 3709,
    "start_time": "2022-04-03T12:33:22.120Z"
   },
   {
    "duration": 4098,
    "start_time": "2022-04-03T12:35:53.825Z"
   },
   {
    "duration": 3481,
    "start_time": "2022-04-03T12:37:07.727Z"
   },
   {
    "duration": 3720,
    "start_time": "2022-04-03T12:37:21.217Z"
   },
   {
    "duration": 3395,
    "start_time": "2022-04-03T13:52:23.728Z"
   },
   {
    "duration": 3164,
    "start_time": "2022-04-03T13:52:42.993Z"
   },
   {
    "duration": 3138,
    "start_time": "2022-04-03T13:53:29.340Z"
   },
   {
    "duration": 2876,
    "start_time": "2022-04-03T13:53:48.931Z"
   },
   {
    "duration": 2609,
    "start_time": "2022-04-03T13:53:59.298Z"
   },
   {
    "duration": 2808,
    "start_time": "2022-04-03T13:54:11.477Z"
   },
   {
    "duration": 3530,
    "start_time": "2022-04-03T13:54:37.031Z"
   },
   {
    "duration": 34623,
    "start_time": "2022-04-03T13:54:51.839Z"
   },
   {
    "duration": 2237,
    "start_time": "2022-04-03T13:56:40.095Z"
   },
   {
    "duration": 2204,
    "start_time": "2022-04-03T13:56:50.042Z"
   },
   {
    "duration": 1103,
    "start_time": "2022-04-03T13:57:27.915Z"
   },
   {
    "duration": 1104,
    "start_time": "2022-04-03T13:57:39.314Z"
   },
   {
    "duration": 1141,
    "start_time": "2022-04-03T14:05:57.707Z"
   },
   {
    "duration": 11672,
    "start_time": "2022-04-03T15:33:24.708Z"
   },
   {
    "duration": 11754,
    "start_time": "2022-04-03T15:34:27.479Z"
   },
   {
    "duration": 5768,
    "start_time": "2022-04-03T15:34:58.483Z"
   },
   {
    "duration": 6522,
    "start_time": "2022-04-03T15:38:01.165Z"
   },
   {
    "duration": 0,
    "start_time": "2022-04-03T15:40:06.399Z"
   },
   {
    "duration": 0,
    "start_time": "2022-04-03T15:40:06.401Z"
   },
   {
    "duration": 0,
    "start_time": "2022-04-03T15:40:06.402Z"
   },
   {
    "duration": 0,
    "start_time": "2022-04-03T15:40:06.404Z"
   },
   {
    "duration": 0,
    "start_time": "2022-04-03T15:40:06.406Z"
   },
   {
    "duration": 0,
    "start_time": "2022-04-03T15:40:06.407Z"
   },
   {
    "duration": 0,
    "start_time": "2022-04-03T15:40:06.409Z"
   },
   {
    "duration": 0,
    "start_time": "2022-04-03T15:40:06.410Z"
   },
   {
    "duration": 0,
    "start_time": "2022-04-03T15:40:06.412Z"
   },
   {
    "duration": 0,
    "start_time": "2022-04-03T15:40:06.413Z"
   },
   {
    "duration": 0,
    "start_time": "2022-04-03T15:40:06.415Z"
   },
   {
    "duration": 0,
    "start_time": "2022-04-03T15:40:06.468Z"
   },
   {
    "duration": 5,
    "start_time": "2022-04-03T15:40:11.431Z"
   },
   {
    "duration": 75,
    "start_time": "2022-04-03T15:40:11.439Z"
   },
   {
    "duration": 20,
    "start_time": "2022-04-03T15:40:11.517Z"
   },
   {
    "duration": 59,
    "start_time": "2022-04-03T15:40:11.539Z"
   },
   {
    "duration": 6,
    "start_time": "2022-04-03T15:40:11.601Z"
   },
   {
    "duration": 20,
    "start_time": "2022-04-03T15:40:11.610Z"
   },
   {
    "duration": 46,
    "start_time": "2022-04-03T15:40:11.633Z"
   },
   {
    "duration": 17,
    "start_time": "2022-04-03T15:40:11.682Z"
   },
   {
    "duration": 16,
    "start_time": "2022-04-03T15:40:11.701Z"
   },
   {
    "duration": 88,
    "start_time": "2022-04-03T15:40:11.719Z"
   },
   {
    "duration": 1186,
    "start_time": "2022-04-03T15:40:11.809Z"
   },
   {
    "duration": 343738,
    "start_time": "2022-04-03T15:40:12.997Z"
   },
   {
    "duration": 1977,
    "start_time": "2022-04-03T15:46:30.731Z"
   },
   {
    "duration": 70,
    "start_time": "2022-04-03T15:46:32.710Z"
   },
   {
    "duration": 20,
    "start_time": "2022-04-03T15:46:32.784Z"
   },
   {
    "duration": 24,
    "start_time": "2022-04-03T15:46:32.806Z"
   },
   {
    "duration": 37,
    "start_time": "2022-04-03T15:46:32.833Z"
   },
   {
    "duration": 23,
    "start_time": "2022-04-03T15:46:32.873Z"
   },
   {
    "duration": 15,
    "start_time": "2022-04-03T15:46:32.898Z"
   },
   {
    "duration": 59,
    "start_time": "2022-04-03T15:46:32.915Z"
   },
   {
    "duration": 19,
    "start_time": "2022-04-03T15:46:32.977Z"
   },
   {
    "duration": 76,
    "start_time": "2022-04-03T15:46:32.999Z"
   },
   {
    "duration": 1170,
    "start_time": "2022-04-03T15:46:33.077Z"
   },
   {
    "duration": 56015,
    "start_time": "2022-04-03T15:46:34.250Z"
   },
   {
    "duration": 5934,
    "start_time": "2022-04-03T15:48:36.682Z"
   },
   {
    "duration": 47664,
    "start_time": "2022-04-03T15:51:01.067Z"
   },
   {
    "duration": 41497,
    "start_time": "2022-04-03T15:52:15.047Z"
   },
   {
    "duration": 13222,
    "start_time": "2022-04-03T15:54:06.009Z"
   },
   {
    "duration": 8788,
    "start_time": "2022-04-03T15:54:30.742Z"
   },
   {
    "duration": 15285,
    "start_time": "2022-04-03T15:55:02.466Z"
   },
   {
    "duration": 8599,
    "start_time": "2022-04-03T15:55:48.517Z"
   },
   {
    "duration": 1203,
    "start_time": "2022-04-03T17:34:04.397Z"
   },
   {
    "duration": 8528,
    "start_time": "2022-04-03T17:34:27.853Z"
   },
   {
    "duration": 2681,
    "start_time": "2022-04-03T17:47:10.729Z"
   },
   {
    "duration": 2623,
    "start_time": "2022-04-03T17:52:08.747Z"
   },
   {
    "duration": 166,
    "start_time": "2022-04-03T17:53:33.109Z"
   },
   {
    "duration": 12,
    "start_time": "2022-04-03T18:12:53.481Z"
   },
   {
    "duration": 6,
    "start_time": "2022-04-03T18:13:29.328Z"
   },
   {
    "duration": 54,
    "start_time": "2022-04-03T18:13:29.337Z"
   },
   {
    "duration": 20,
    "start_time": "2022-04-03T18:13:29.393Z"
   },
   {
    "duration": 23,
    "start_time": "2022-04-03T18:13:29.415Z"
   },
   {
    "duration": 28,
    "start_time": "2022-04-03T18:13:29.441Z"
   },
   {
    "duration": 20,
    "start_time": "2022-04-03T18:13:29.471Z"
   },
   {
    "duration": 14,
    "start_time": "2022-04-03T18:13:29.493Z"
   },
   {
    "duration": 17,
    "start_time": "2022-04-03T18:13:29.509Z"
   },
   {
    "duration": 51,
    "start_time": "2022-04-03T18:13:29.528Z"
   },
   {
    "duration": 43,
    "start_time": "2022-04-03T18:13:29.581Z"
   },
   {
    "duration": 1147,
    "start_time": "2022-04-03T18:13:29.626Z"
   },
   {
    "duration": 8571,
    "start_time": "2022-04-03T18:13:30.775Z"
   },
   {
    "duration": 320,
    "start_time": "2022-04-03T18:13:39.349Z"
   },
   {
    "duration": 104,
    "start_time": "2022-04-03T18:13:39.676Z"
   },
   {
    "duration": 8308,
    "start_time": "2022-04-03T18:21:46.165Z"
   },
   {
    "duration": 5,
    "start_time": "2022-04-03T18:22:13.685Z"
   },
   {
    "duration": 58,
    "start_time": "2022-04-03T18:22:13.693Z"
   },
   {
    "duration": 24,
    "start_time": "2022-04-03T18:22:13.753Z"
   },
   {
    "duration": 23,
    "start_time": "2022-04-03T18:22:13.780Z"
   },
   {
    "duration": 6,
    "start_time": "2022-04-03T18:22:13.805Z"
   },
   {
    "duration": 23,
    "start_time": "2022-04-03T18:22:13.813Z"
   },
   {
    "duration": 18,
    "start_time": "2022-04-03T18:22:13.868Z"
   },
   {
    "duration": 18,
    "start_time": "2022-04-03T18:22:13.888Z"
   },
   {
    "duration": 17,
    "start_time": "2022-04-03T18:22:13.908Z"
   },
   {
    "duration": 80,
    "start_time": "2022-04-03T18:22:13.928Z"
   },
   {
    "duration": 8460,
    "start_time": "2022-04-03T18:22:14.010Z"
   },
   {
    "duration": 8670,
    "start_time": "2022-04-03T18:22:22.473Z"
   },
   {
    "duration": 223,
    "start_time": "2022-04-03T18:22:31.146Z"
   },
   {
    "duration": 107,
    "start_time": "2022-04-03T18:22:31.373Z"
   },
   {
    "duration": 8213,
    "start_time": "2022-04-03T18:23:01.657Z"
   },
   {
    "duration": 8602,
    "start_time": "2022-04-03T18:24:00.969Z"
   },
   {
    "duration": 6,
    "start_time": "2022-04-03T18:24:15.277Z"
   },
   {
    "duration": 59,
    "start_time": "2022-04-03T18:24:15.286Z"
   },
   {
    "duration": 28,
    "start_time": "2022-04-03T18:24:15.347Z"
   },
   {
    "duration": 25,
    "start_time": "2022-04-03T18:24:15.377Z"
   },
   {
    "duration": 5,
    "start_time": "2022-04-03T18:24:15.405Z"
   },
   {
    "duration": 21,
    "start_time": "2022-04-03T18:24:15.413Z"
   },
   {
    "duration": 15,
    "start_time": "2022-04-03T18:24:15.468Z"
   },
   {
    "duration": 18,
    "start_time": "2022-04-03T18:24:15.485Z"
   },
   {
    "duration": 17,
    "start_time": "2022-04-03T18:24:15.506Z"
   },
   {
    "duration": 80,
    "start_time": "2022-04-03T18:24:15.526Z"
   },
   {
    "duration": 8462,
    "start_time": "2022-04-03T18:24:15.608Z"
   },
   {
    "duration": 8440,
    "start_time": "2022-04-03T18:24:24.073Z"
   },
   {
    "duration": 260,
    "start_time": "2022-04-03T18:24:32.515Z"
   },
   {
    "duration": 1930,
    "start_time": "2022-04-03T18:24:44.198Z"
   },
   {
    "duration": 65,
    "start_time": "2022-04-03T18:24:46.131Z"
   },
   {
    "duration": 28,
    "start_time": "2022-04-03T18:24:46.198Z"
   },
   {
    "duration": 48,
    "start_time": "2022-04-03T18:24:46.228Z"
   },
   {
    "duration": 6,
    "start_time": "2022-04-03T18:24:46.281Z"
   },
   {
    "duration": 22,
    "start_time": "2022-04-03T18:24:46.289Z"
   },
   {
    "duration": 15,
    "start_time": "2022-04-03T18:24:46.313Z"
   },
   {
    "duration": 49,
    "start_time": "2022-04-03T18:24:46.330Z"
   },
   {
    "duration": 18,
    "start_time": "2022-04-03T18:24:46.381Z"
   },
   {
    "duration": 73,
    "start_time": "2022-04-03T18:24:46.401Z"
   },
   {
    "duration": 191,
    "start_time": "2022-04-03T18:24:46.477Z"
   },
   {
    "duration": 0,
    "start_time": "2022-04-03T18:24:46.671Z"
   },
   {
    "duration": 0,
    "start_time": "2022-04-03T18:24:46.673Z"
   },
   {
    "duration": 1170,
    "start_time": "2022-04-03T18:26:35.416Z"
   },
   {
    "duration": 1145,
    "start_time": "2022-04-03T18:28:59.636Z"
   },
   {
    "duration": 1087,
    "start_time": "2022-04-03T18:29:15.990Z"
   },
   {
    "duration": 8,
    "start_time": "2022-04-03T18:29:21.557Z"
   },
   {
    "duration": 1281,
    "start_time": "2022-04-03T18:32:32.899Z"
   },
   {
    "duration": 8673,
    "start_time": "2022-04-03T18:33:42.138Z"
   },
   {
    "duration": 8490,
    "start_time": "2022-04-03T18:34:12.951Z"
   },
   {
    "duration": 130,
    "start_time": "2022-04-03T18:36:21.145Z"
   },
   {
    "duration": 1165,
    "start_time": "2022-04-03T18:45:38.049Z"
   },
   {
    "duration": 1217,
    "start_time": "2022-04-03T18:46:15.480Z"
   },
   {
    "duration": 37594,
    "start_time": "2022-04-03T18:46:28.814Z"
   },
   {
    "duration": 3937,
    "start_time": "2022-04-03T18:47:41.940Z"
   },
   {
    "duration": 3480,
    "start_time": "2022-04-03T18:48:03.932Z"
   },
   {
    "duration": 3915,
    "start_time": "2022-04-03T18:48:18.847Z"
   },
   {
    "duration": 4353,
    "start_time": "2022-04-03T18:49:01.278Z"
   },
   {
    "duration": 6154,
    "start_time": "2022-04-03T18:49:12.795Z"
   },
   {
    "duration": 1613,
    "start_time": "2022-04-03T18:49:46.115Z"
   },
   {
    "duration": 3256,
    "start_time": "2022-04-03T18:50:41.242Z"
   },
   {
    "duration": 8742,
    "start_time": "2022-04-03T18:52:20.212Z"
   },
   {
    "duration": 5521,
    "start_time": "2022-04-03T18:53:12.978Z"
   },
   {
    "duration": 15466,
    "start_time": "2022-04-03T18:53:38.624Z"
   },
   {
    "duration": 25715,
    "start_time": "2022-04-03T18:54:15.962Z"
   },
   {
    "duration": 15300,
    "start_time": "2022-04-03T18:54:57.967Z"
   },
   {
    "duration": 0,
    "start_time": "2022-04-03T18:56:01.054Z"
   },
   {
    "duration": 5754,
    "start_time": "2022-04-03T18:56:21.593Z"
   },
   {
    "duration": 17410,
    "start_time": "2022-04-03T18:56:56.309Z"
   },
   {
    "duration": 25587,
    "start_time": "2022-04-03T18:58:26.881Z"
   },
   {
    "duration": 35211,
    "start_time": "2022-04-03T19:11:58.748Z"
   },
   {
    "duration": 4874,
    "start_time": "2022-04-03T19:12:46.723Z"
   },
   {
    "duration": 9259,
    "start_time": "2022-04-03T19:13:05.813Z"
   },
   {
    "duration": 135,
    "start_time": "2022-04-03T19:14:16.842Z"
   },
   {
    "duration": 138,
    "start_time": "2022-04-03T19:15:04.335Z"
   },
   {
    "duration": 1535,
    "start_time": "2022-04-04T03:49:05.947Z"
   },
   {
    "duration": 48,
    "start_time": "2022-04-04T03:49:07.484Z"
   },
   {
    "duration": 14,
    "start_time": "2022-04-04T03:49:07.533Z"
   },
   {
    "duration": 16,
    "start_time": "2022-04-04T03:49:07.548Z"
   },
   {
    "duration": 4,
    "start_time": "2022-04-04T03:49:07.566Z"
   },
   {
    "duration": 39,
    "start_time": "2022-04-04T03:49:07.572Z"
   },
   {
    "duration": 10,
    "start_time": "2022-04-04T03:49:07.613Z"
   },
   {
    "duration": 11,
    "start_time": "2022-04-04T03:49:07.624Z"
   },
   {
    "duration": 10,
    "start_time": "2022-04-04T03:49:07.637Z"
   },
   {
    "duration": 29,
    "start_time": "2022-04-04T03:49:07.649Z"
   },
   {
    "duration": 848,
    "start_time": "2022-04-04T03:49:07.680Z"
   },
   {
    "duration": 6242,
    "start_time": "2022-04-04T03:49:08.529Z"
   },
   {
    "duration": 243,
    "start_time": "2022-04-04T03:49:14.773Z"
   },
   {
    "duration": 94,
    "start_time": "2022-04-04T03:49:15.019Z"
   },
   {
    "duration": 2814,
    "start_time": "2022-04-04T03:49:15.115Z"
   },
   {
    "duration": 6517,
    "start_time": "2022-04-04T03:49:17.931Z"
   },
   {
    "duration": 260,
    "start_time": "2022-04-04T03:49:24.450Z"
   },
   {
    "duration": 106,
    "start_time": "2022-04-04T03:49:24.712Z"
   },
   {
    "duration": 82,
    "start_time": "2022-04-04T03:50:49.726Z"
   },
   {
    "duration": 31,
    "start_time": "2022-04-04T03:51:26.287Z"
   },
   {
    "duration": 28,
    "start_time": "2022-04-04T03:51:35.017Z"
   },
   {
    "duration": 84,
    "start_time": "2022-04-04T03:51:40.525Z"
   },
   {
    "duration": 37,
    "start_time": "2022-04-04T03:51:45.336Z"
   },
   {
    "duration": 33,
    "start_time": "2022-04-04T03:51:49.763Z"
   },
   {
    "duration": 32,
    "start_time": "2022-04-04T03:51:54.369Z"
   },
   {
    "duration": 30,
    "start_time": "2022-04-04T03:52:00.883Z"
   },
   {
    "duration": 41,
    "start_time": "2022-04-04T03:52:11.298Z"
   },
   {
    "duration": 33,
    "start_time": "2022-04-04T03:52:19.867Z"
   },
   {
    "duration": 28,
    "start_time": "2022-04-04T03:52:24.462Z"
   },
   {
    "duration": 116,
    "start_time": "2022-04-04T03:54:07.711Z"
   },
   {
    "duration": 60,
    "start_time": "2022-04-04T03:54:43.849Z"
   },
   {
    "duration": 19,
    "start_time": "2022-04-04T03:54:49.606Z"
   },
   {
    "duration": 21,
    "start_time": "2022-04-04T03:55:36.400Z"
   },
   {
    "duration": 22,
    "start_time": "2022-04-04T03:57:17.862Z"
   },
   {
    "duration": 23,
    "start_time": "2022-04-04T03:57:29.933Z"
   },
   {
    "duration": 24,
    "start_time": "2022-04-04T03:57:37.687Z"
   },
   {
    "duration": 24,
    "start_time": "2022-04-04T03:57:41.156Z"
   },
   {
    "duration": 25,
    "start_time": "2022-04-04T03:57:45.547Z"
   },
   {
    "duration": 25,
    "start_time": "2022-04-04T03:57:51.709Z"
   },
   {
    "duration": 23,
    "start_time": "2022-04-04T03:57:56.013Z"
   },
   {
    "duration": 24,
    "start_time": "2022-04-04T03:57:59.721Z"
   },
   {
    "duration": 30,
    "start_time": "2022-04-04T04:07:36.669Z"
   },
   {
    "duration": 22,
    "start_time": "2022-04-04T04:09:25.380Z"
   },
   {
    "duration": 3,
    "start_time": "2022-04-04T04:13:10.699Z"
   },
   {
    "duration": 67,
    "start_time": "2022-04-04T04:13:54.390Z"
   },
   {
    "duration": 4,
    "start_time": "2022-04-04T04:14:00.824Z"
   },
   {
    "duration": 4,
    "start_time": "2022-04-04T04:14:47.576Z"
   },
   {
    "duration": 4,
    "start_time": "2022-04-04T04:14:55.641Z"
   },
   {
    "duration": 90,
    "start_time": "2022-04-04T04:19:39.058Z"
   },
   {
    "duration": 2243,
    "start_time": "2022-04-04T17:40:49.279Z"
   },
   {
    "duration": 74,
    "start_time": "2022-04-04T17:40:51.526Z"
   },
   {
    "duration": 21,
    "start_time": "2022-04-04T17:40:51.603Z"
   },
   {
    "duration": 51,
    "start_time": "2022-04-04T17:40:51.627Z"
   },
   {
    "duration": 7,
    "start_time": "2022-04-04T17:40:51.680Z"
   },
   {
    "duration": 20,
    "start_time": "2022-04-04T17:40:51.690Z"
   },
   {
    "duration": 14,
    "start_time": "2022-04-04T17:40:51.713Z"
   },
   {
    "duration": 59,
    "start_time": "2022-04-04T17:40:51.729Z"
   },
   {
    "duration": 17,
    "start_time": "2022-04-04T17:40:51.790Z"
   },
   {
    "duration": 74,
    "start_time": "2022-04-04T17:40:51.811Z"
   },
   {
    "duration": 1209,
    "start_time": "2022-04-04T17:40:51.888Z"
   },
   {
    "duration": 9688,
    "start_time": "2022-04-04T17:40:53.099Z"
   },
   {
    "duration": 600,
    "start_time": "2022-04-04T17:41:02.790Z"
   },
   {
    "duration": 85,
    "start_time": "2022-04-04T17:41:03.393Z"
   },
   {
    "duration": 4542,
    "start_time": "2022-04-04T17:41:03.483Z"
   },
   {
    "duration": 9979,
    "start_time": "2022-04-04T17:41:08.027Z"
   },
   {
    "duration": 567,
    "start_time": "2022-04-04T17:41:18.008Z"
   },
   {
    "duration": 153,
    "start_time": "2022-04-04T17:41:18.578Z"
   },
   {
    "duration": 132,
    "start_time": "2022-04-04T17:41:18.775Z"
   },
   {
    "duration": 72,
    "start_time": "2022-04-04T17:41:18.911Z"
   },
   {
    "duration": 103,
    "start_time": "2022-04-04T17:41:18.986Z"
   },
   {
    "duration": 7653,
    "start_time": "2022-04-04T17:41:19.091Z"
   },
   {
    "duration": 7419,
    "start_time": "2022-04-04T17:42:23.688Z"
   },
   {
    "duration": 45455,
    "start_time": "2022-04-04T17:43:02.227Z"
   },
   {
    "duration": 2366,
    "start_time": "2022-04-04T17:44:15.469Z"
   },
   {
    "duration": 40697,
    "start_time": "2022-04-04T17:44:32.386Z"
   },
   {
    "duration": 110626,
    "start_time": "2022-04-04T17:45:51.650Z"
   },
   {
    "duration": 271,
    "start_time": "2022-04-04T17:51:43.300Z"
   },
   {
    "duration": 10038,
    "start_time": "2022-04-04T17:52:03.861Z"
   },
   {
    "duration": 166801,
    "start_time": "2022-04-04T17:55:47.380Z"
   },
   {
    "duration": 158880,
    "start_time": "2022-04-04T17:59:38.529Z"
   },
   {
    "duration": 443713,
    "start_time": "2022-04-04T18:02:44.786Z"
   },
   {
    "duration": 4473,
    "start_time": "2022-04-04T18:10:33.871Z"
   },
   {
    "duration": 6274,
    "start_time": "2022-04-04T18:10:51.282Z"
   },
   {
    "duration": 1655,
    "start_time": "2022-04-05T03:55:34.083Z"
   },
   {
    "duration": 55,
    "start_time": "2022-04-05T03:55:35.740Z"
   },
   {
    "duration": 14,
    "start_time": "2022-04-05T03:55:35.797Z"
   },
   {
    "duration": 20,
    "start_time": "2022-04-05T03:55:35.812Z"
   },
   {
    "duration": 4,
    "start_time": "2022-04-05T03:55:35.834Z"
   },
   {
    "duration": 16,
    "start_time": "2022-04-05T03:55:35.840Z"
   },
   {
    "duration": 10,
    "start_time": "2022-04-05T03:55:35.858Z"
   },
   {
    "duration": 11,
    "start_time": "2022-04-05T03:55:35.870Z"
   },
   {
    "duration": 11,
    "start_time": "2022-04-05T03:55:35.883Z"
   },
   {
    "duration": 65,
    "start_time": "2022-04-05T03:55:35.896Z"
   },
   {
    "duration": 844,
    "start_time": "2022-04-05T03:55:35.963Z"
   },
   {
    "duration": 6414,
    "start_time": "2022-04-05T03:55:36.809Z"
   },
   {
    "duration": 213,
    "start_time": "2022-04-05T03:55:43.225Z"
   },
   {
    "duration": 99,
    "start_time": "2022-04-05T03:55:43.441Z"
   },
   {
    "duration": 2903,
    "start_time": "2022-04-05T03:55:43.541Z"
   },
   {
    "duration": 4366,
    "start_time": "2022-04-05T03:55:46.446Z"
   },
   {
    "duration": 218,
    "start_time": "2022-04-05T03:55:50.814Z"
   },
   {
    "duration": 125,
    "start_time": "2022-04-05T03:55:51.034Z"
   },
   {
    "duration": 119,
    "start_time": "2022-04-05T03:55:51.232Z"
   },
   {
    "duration": 178,
    "start_time": "2022-04-05T03:55:51.353Z"
   },
   {
    "duration": 2,
    "start_time": "2022-04-05T03:55:51.534Z"
   },
   {
    "duration": 73454,
    "start_time": "2022-04-05T03:55:51.538Z"
   },
   {
    "duration": 3,
    "start_time": "2022-04-05T04:02:29.902Z"
   },
   {
    "duration": 67,
    "start_time": "2022-04-05T04:02:29.908Z"
   },
   {
    "duration": 16,
    "start_time": "2022-04-05T04:02:29.977Z"
   },
   {
    "duration": 46,
    "start_time": "2022-04-05T04:02:29.995Z"
   },
   {
    "duration": 5,
    "start_time": "2022-04-05T04:02:30.044Z"
   },
   {
    "duration": 33,
    "start_time": "2022-04-05T04:02:30.051Z"
   },
   {
    "duration": 13,
    "start_time": "2022-04-05T04:02:30.086Z"
   },
   {
    "duration": 14,
    "start_time": "2022-04-05T04:02:30.101Z"
   },
   {
    "duration": 23,
    "start_time": "2022-04-05T04:02:30.117Z"
   },
   {
    "duration": 43,
    "start_time": "2022-04-05T04:02:30.141Z"
   },
   {
    "duration": 867,
    "start_time": "2022-04-05T04:02:30.187Z"
   },
   {
    "duration": 6355,
    "start_time": "2022-04-05T04:02:31.056Z"
   },
   {
    "duration": 225,
    "start_time": "2022-04-05T04:02:37.412Z"
   },
   {
    "duration": 99,
    "start_time": "2022-04-05T04:02:37.640Z"
   },
   {
    "duration": 2882,
    "start_time": "2022-04-05T04:02:37.741Z"
   },
   {
    "duration": 4517,
    "start_time": "2022-04-05T04:02:40.625Z"
   },
   {
    "duration": 95,
    "start_time": "2022-04-05T04:02:45.143Z"
   },
   {
    "duration": 297,
    "start_time": "2022-04-05T04:02:45.241Z"
   },
   {
    "duration": 296,
    "start_time": "2022-04-05T04:02:45.540Z"
   },
   {
    "duration": 96,
    "start_time": "2022-04-05T04:02:45.838Z"
   },
   {
    "duration": 120,
    "start_time": "2022-04-05T04:02:45.935Z"
   },
   {
    "duration": 73701,
    "start_time": "2022-04-05T04:02:46.058Z"
   },
   {
    "duration": 5321,
    "start_time": "2022-04-05T04:07:41.951Z"
   },
   {
    "duration": 57835,
    "start_time": "2022-04-05T04:16:22.900Z"
   },
   {
    "duration": 11526,
    "start_time": "2022-04-05T04:17:55.062Z"
   },
   {
    "duration": 33478,
    "start_time": "2022-04-05T04:18:15.552Z"
   },
   {
    "duration": 52,
    "start_time": "2022-04-05T17:37:17.047Z"
   },
   {
    "duration": 1554,
    "start_time": "2022-04-05T17:37:21.403Z"
   },
   {
    "duration": 50,
    "start_time": "2022-04-05T17:37:22.958Z"
   },
   {
    "duration": 14,
    "start_time": "2022-04-05T17:37:23.009Z"
   },
   {
    "duration": 22,
    "start_time": "2022-04-05T17:37:23.024Z"
   },
   {
    "duration": 4,
    "start_time": "2022-04-05T17:37:23.048Z"
   },
   {
    "duration": 20,
    "start_time": "2022-04-05T17:37:23.053Z"
   },
   {
    "duration": 9,
    "start_time": "2022-04-05T17:37:23.075Z"
   },
   {
    "duration": 31,
    "start_time": "2022-04-05T17:37:23.086Z"
   },
   {
    "duration": 11,
    "start_time": "2022-04-05T17:37:23.119Z"
   },
   {
    "duration": 30,
    "start_time": "2022-04-05T17:37:23.132Z"
   },
   {
    "duration": 817,
    "start_time": "2022-04-05T17:37:23.163Z"
   },
   {
    "duration": 5950,
    "start_time": "2022-04-05T17:37:23.981Z"
   },
   {
    "duration": 178,
    "start_time": "2022-04-05T17:37:29.932Z"
   },
   {
    "duration": 96,
    "start_time": "2022-04-05T17:37:30.114Z"
   },
   {
    "duration": 2585,
    "start_time": "2022-04-05T17:37:30.212Z"
   },
   {
    "duration": 4139,
    "start_time": "2022-04-05T17:37:32.800Z"
   },
   {
    "duration": 70,
    "start_time": "2022-04-05T17:37:36.940Z"
   },
   {
    "duration": 200,
    "start_time": "2022-04-05T17:37:37.013Z"
   },
   {
    "duration": 195,
    "start_time": "2022-04-05T17:37:37.215Z"
   },
   {
    "duration": 97,
    "start_time": "2022-04-05T17:37:37.413Z"
   },
   {
    "duration": 112,
    "start_time": "2022-04-05T17:37:37.512Z"
   },
   {
    "duration": 32033,
    "start_time": "2022-04-05T17:37:37.625Z"
   },
   {
    "duration": 185,
    "start_time": "2022-04-05T17:49:03.280Z"
   },
   {
    "duration": 616,
    "start_time": "2022-04-05T17:50:19.598Z"
   },
   {
    "duration": 4,
    "start_time": "2022-04-05T17:51:28.030Z"
   },
   {
    "duration": 43,
    "start_time": "2022-04-05T17:51:28.036Z"
   },
   {
    "duration": 12,
    "start_time": "2022-04-05T17:51:28.081Z"
   },
   {
    "duration": 18,
    "start_time": "2022-04-05T17:51:28.095Z"
   },
   {
    "duration": 4,
    "start_time": "2022-04-05T17:51:28.115Z"
   },
   {
    "duration": 14,
    "start_time": "2022-04-05T17:51:28.120Z"
   },
   {
    "duration": 8,
    "start_time": "2022-04-05T17:51:28.136Z"
   },
   {
    "duration": 11,
    "start_time": "2022-04-05T17:51:28.146Z"
   },
   {
    "duration": 11,
    "start_time": "2022-04-05T17:51:28.158Z"
   },
   {
    "duration": 64,
    "start_time": "2022-04-05T17:51:28.171Z"
   },
   {
    "duration": 790,
    "start_time": "2022-04-05T17:51:28.236Z"
   },
   {
    "duration": 5837,
    "start_time": "2022-04-05T17:51:29.027Z"
   },
   {
    "duration": 244,
    "start_time": "2022-04-05T17:51:34.866Z"
   },
   {
    "duration": 98,
    "start_time": "2022-04-05T17:51:35.112Z"
   },
   {
    "duration": 2582,
    "start_time": "2022-04-05T17:51:35.212Z"
   },
   {
    "duration": 4186,
    "start_time": "2022-04-05T17:51:37.796Z"
   },
   {
    "duration": 126,
    "start_time": "2022-04-05T17:51:41.984Z"
   },
   {
    "duration": 197,
    "start_time": "2022-04-05T17:51:42.112Z"
   },
   {
    "duration": 198,
    "start_time": "2022-04-05T17:51:42.311Z"
   },
   {
    "duration": 6,
    "start_time": "2022-04-05T17:51:42.512Z"
   },
   {
    "duration": 514,
    "start_time": "2022-04-05T17:51:42.609Z"
   },
   {
    "duration": 32278,
    "start_time": "2022-04-05T17:51:43.210Z"
   },
   {
    "duration": 14,
    "start_time": "2022-04-05T17:52:53.346Z"
   },
   {
    "duration": 13,
    "start_time": "2022-04-05T17:53:12.038Z"
   },
   {
    "duration": 11,
    "start_time": "2022-04-05T17:53:57.811Z"
   },
   {
    "duration": 9,
    "start_time": "2022-04-05T17:55:45.841Z"
   },
   {
    "duration": 14,
    "start_time": "2022-04-05T17:56:14.120Z"
   },
   {
    "duration": 12,
    "start_time": "2022-04-05T18:01:18.249Z"
   },
   {
    "duration": 4,
    "start_time": "2022-04-05T18:01:22.580Z"
   },
   {
    "duration": 48,
    "start_time": "2022-04-05T18:01:22.586Z"
   },
   {
    "duration": 14,
    "start_time": "2022-04-05T18:01:22.636Z"
   },
   {
    "duration": 16,
    "start_time": "2022-04-05T18:01:22.652Z"
   },
   {
    "duration": 5,
    "start_time": "2022-04-05T18:01:22.671Z"
   },
   {
    "duration": 22,
    "start_time": "2022-04-05T18:01:22.710Z"
   },
   {
    "duration": 15,
    "start_time": "2022-04-05T18:01:22.734Z"
   },
   {
    "duration": 18,
    "start_time": "2022-04-05T18:01:22.751Z"
   },
   {
    "duration": 43,
    "start_time": "2022-04-05T18:01:22.771Z"
   },
   {
    "duration": 39,
    "start_time": "2022-04-05T18:01:22.816Z"
   },
   {
    "duration": 884,
    "start_time": "2022-04-05T18:01:22.856Z"
   },
   {
    "duration": 6624,
    "start_time": "2022-04-05T18:01:23.743Z"
   },
   {
    "duration": 242,
    "start_time": "2022-04-05T18:01:30.370Z"
   },
   {
    "duration": 95,
    "start_time": "2022-04-05T18:01:30.615Z"
   },
   {
    "duration": 2811,
    "start_time": "2022-04-05T18:01:30.712Z"
   },
   {
    "duration": 4408,
    "start_time": "2022-04-05T18:01:33.525Z"
   },
   {
    "duration": 80,
    "start_time": "2022-04-05T18:01:37.935Z"
   },
   {
    "duration": 291,
    "start_time": "2022-04-05T18:01:38.017Z"
   },
   {
    "duration": 199,
    "start_time": "2022-04-05T18:01:38.311Z"
   },
   {
    "duration": 5,
    "start_time": "2022-04-05T18:01:38.512Z"
   },
   {
    "duration": 605,
    "start_time": "2022-04-05T18:01:38.608Z"
   },
   {
    "duration": 33525,
    "start_time": "2022-04-05T18:01:39.216Z"
   },
   {
    "duration": 652,
    "start_time": "2022-04-05T18:03:18.158Z"
   },
   {
    "duration": 609,
    "start_time": "2022-04-05T18:03:55.200Z"
   },
   {
    "duration": 28,
    "start_time": "2022-04-05T18:04:45.841Z"
   },
   {
    "duration": 574,
    "start_time": "2022-04-05T18:05:09.248Z"
   },
   {
    "duration": 580,
    "start_time": "2022-04-05T18:05:16.528Z"
   },
   {
    "duration": 5,
    "start_time": "2022-04-05T18:05:48.586Z"
   },
   {
    "duration": 53,
    "start_time": "2022-04-05T18:05:48.593Z"
   },
   {
    "duration": 13,
    "start_time": "2022-04-05T18:05:48.648Z"
   },
   {
    "duration": 15,
    "start_time": "2022-04-05T18:05:48.664Z"
   },
   {
    "duration": 5,
    "start_time": "2022-04-05T18:05:48.681Z"
   },
   {
    "duration": 15,
    "start_time": "2022-04-05T18:05:48.709Z"
   },
   {
    "duration": 10,
    "start_time": "2022-04-05T18:05:48.726Z"
   },
   {
    "duration": 12,
    "start_time": "2022-04-05T18:05:48.738Z"
   },
   {
    "duration": 12,
    "start_time": "2022-04-05T18:05:48.752Z"
   },
   {
    "duration": 68,
    "start_time": "2022-04-05T18:05:48.768Z"
   },
   {
    "duration": 821,
    "start_time": "2022-04-05T18:05:48.838Z"
   },
   {
    "duration": 6134,
    "start_time": "2022-04-05T18:05:49.661Z"
   },
   {
    "duration": 117,
    "start_time": "2022-04-05T18:05:55.796Z"
   },
   {
    "duration": 98,
    "start_time": "2022-04-05T18:05:55.915Z"
   },
   {
    "duration": 2727,
    "start_time": "2022-04-05T18:05:56.014Z"
   },
   {
    "duration": 4360,
    "start_time": "2022-04-05T18:05:58.742Z"
   },
   {
    "duration": 105,
    "start_time": "2022-04-05T18:06:03.104Z"
   },
   {
    "duration": 200,
    "start_time": "2022-04-05T18:06:03.212Z"
   },
   {
    "duration": 195,
    "start_time": "2022-04-05T18:06:03.415Z"
   },
   {
    "duration": 6,
    "start_time": "2022-04-05T18:06:03.613Z"
   },
   {
    "duration": 611,
    "start_time": "2022-04-05T18:06:03.709Z"
   },
   {
    "duration": 33187,
    "start_time": "2022-04-05T18:06:04.411Z"
   },
   {
    "duration": 4,
    "start_time": "2022-04-05T18:09:07.572Z"
   },
   {
    "duration": 54,
    "start_time": "2022-04-05T18:09:07.578Z"
   },
   {
    "duration": 13,
    "start_time": "2022-04-05T18:09:07.633Z"
   },
   {
    "duration": 21,
    "start_time": "2022-04-05T18:09:07.648Z"
   },
   {
    "duration": 6,
    "start_time": "2022-04-05T18:09:07.672Z"
   },
   {
    "duration": 32,
    "start_time": "2022-04-05T18:09:07.679Z"
   },
   {
    "duration": 10,
    "start_time": "2022-04-05T18:09:07.712Z"
   },
   {
    "duration": 11,
    "start_time": "2022-04-05T18:09:07.723Z"
   },
   {
    "duration": 12,
    "start_time": "2022-04-05T18:09:07.736Z"
   },
   {
    "duration": 29,
    "start_time": "2022-04-05T18:09:07.749Z"
   },
   {
    "duration": 859,
    "start_time": "2022-04-05T18:09:07.780Z"
   },
   {
    "duration": 6393,
    "start_time": "2022-04-05T18:09:08.640Z"
   },
   {
    "duration": 279,
    "start_time": "2022-04-05T18:09:15.035Z"
   },
   {
    "duration": 97,
    "start_time": "2022-04-05T18:09:15.317Z"
   },
   {
    "duration": 2850,
    "start_time": "2022-04-05T18:09:15.416Z"
   },
   {
    "duration": 4385,
    "start_time": "2022-04-05T18:09:18.268Z"
   },
   {
    "duration": 61,
    "start_time": "2022-04-05T18:09:22.654Z"
   },
   {
    "duration": 209,
    "start_time": "2022-04-05T18:09:22.808Z"
   },
   {
    "duration": 195,
    "start_time": "2022-04-05T18:09:23.115Z"
   },
   {
    "duration": 96,
    "start_time": "2022-04-05T18:09:23.314Z"
   },
   {
    "duration": 697,
    "start_time": "2022-04-05T18:09:23.412Z"
   },
   {
    "duration": 32075,
    "start_time": "2022-04-05T18:09:24.112Z"
   },
   {
    "duration": 5,
    "start_time": "2022-04-05T18:12:02.827Z"
   },
   {
    "duration": 4,
    "start_time": "2022-04-05T18:15:15.462Z"
   },
   {
    "duration": 68,
    "start_time": "2022-04-05T18:15:15.469Z"
   },
   {
    "duration": 13,
    "start_time": "2022-04-05T18:15:15.538Z"
   },
   {
    "duration": 18,
    "start_time": "2022-04-05T18:15:15.553Z"
   },
   {
    "duration": 5,
    "start_time": "2022-04-05T18:15:15.574Z"
   },
   {
    "duration": 36,
    "start_time": "2022-04-05T18:15:15.580Z"
   },
   {
    "duration": 12,
    "start_time": "2022-04-05T18:15:15.617Z"
   },
   {
    "duration": 13,
    "start_time": "2022-04-05T18:15:15.630Z"
   },
   {
    "duration": 12,
    "start_time": "2022-04-05T18:15:15.645Z"
   },
   {
    "duration": 72,
    "start_time": "2022-04-05T18:15:15.659Z"
   },
   {
    "duration": 853,
    "start_time": "2022-04-05T18:15:15.733Z"
   },
   {
    "duration": 6229,
    "start_time": "2022-04-05T18:15:16.587Z"
   },
   {
    "duration": 104,
    "start_time": "2022-04-05T18:15:22.818Z"
   },
   {
    "duration": 11,
    "start_time": "2022-04-05T18:15:23.012Z"
   },
   {
    "duration": 2667,
    "start_time": "2022-04-05T18:15:23.109Z"
   },
   {
    "duration": 4114,
    "start_time": "2022-04-05T18:15:25.778Z"
   },
   {
    "duration": 31,
    "start_time": "2022-04-05T18:15:29.894Z"
   },
   {
    "duration": 203,
    "start_time": "2022-04-05T18:15:30.011Z"
   },
   {
    "duration": 199,
    "start_time": "2022-04-05T18:15:30.217Z"
   },
   {
    "duration": 91,
    "start_time": "2022-04-05T18:15:30.419Z"
   },
   {
    "duration": 698,
    "start_time": "2022-04-05T18:15:30.512Z"
   },
   {
    "duration": 31741,
    "start_time": "2022-04-05T18:15:31.213Z"
   },
   {
    "duration": 9913,
    "start_time": "2022-04-05T18:16:15.349Z"
   },
   {
    "duration": 26934,
    "start_time": "2022-04-05T18:16:47.699Z"
   },
   {
    "duration": 100113,
    "start_time": "2022-04-05T18:17:51.090Z"
   },
   {
    "duration": 4977,
    "start_time": "2022-04-05T18:47:55.637Z"
   },
   {
    "duration": 98307,
    "start_time": "2022-04-05T18:48:16.932Z"
   },
   {
    "duration": 284236,
    "start_time": "2022-04-05T18:50:24.895Z"
   },
   {
    "duration": 94295,
    "start_time": "2022-04-05T18:55:41.159Z"
   },
   {
    "duration": 3,
    "start_time": "2022-04-05T18:58:28.330Z"
   },
   {
    "duration": 43,
    "start_time": "2022-04-05T18:58:28.335Z"
   },
   {
    "duration": 14,
    "start_time": "2022-04-05T18:58:28.379Z"
   },
   {
    "duration": 20,
    "start_time": "2022-04-05T18:58:28.394Z"
   },
   {
    "duration": 5,
    "start_time": "2022-04-05T18:58:28.417Z"
   },
   {
    "duration": 13,
    "start_time": "2022-04-05T18:58:28.423Z"
   },
   {
    "duration": 9,
    "start_time": "2022-04-05T18:58:28.437Z"
   },
   {
    "duration": 9,
    "start_time": "2022-04-05T18:58:28.448Z"
   },
   {
    "duration": 10,
    "start_time": "2022-04-05T18:58:28.458Z"
   },
   {
    "duration": 73,
    "start_time": "2022-04-05T18:58:28.470Z"
   },
   {
    "duration": 769,
    "start_time": "2022-04-05T18:58:28.544Z"
   },
   {
    "duration": 5773,
    "start_time": "2022-04-05T18:58:29.315Z"
   },
   {
    "duration": 222,
    "start_time": "2022-04-05T18:58:35.089Z"
   },
   {
    "duration": 95,
    "start_time": "2022-04-05T18:58:35.315Z"
   },
   {
    "duration": 2518,
    "start_time": "2022-04-05T18:58:35.412Z"
   },
   {
    "duration": 41586,
    "start_time": "2022-04-05T18:58:37.932Z"
   },
   {
    "duration": 189,
    "start_time": "2022-04-05T18:59:19.520Z"
   },
   {
    "duration": 203,
    "start_time": "2022-04-05T18:59:19.711Z"
   },
   {
    "duration": 198,
    "start_time": "2022-04-05T18:59:19.917Z"
   },
   {
    "duration": 94,
    "start_time": "2022-04-05T18:59:20.117Z"
   },
   {
    "duration": 1194,
    "start_time": "2022-04-05T18:59:20.214Z"
   },
   {
    "duration": 31322,
    "start_time": "2022-04-05T18:59:21.411Z"
   },
   {
    "duration": 4,
    "start_time": "2022-04-05T19:01:05.012Z"
   },
   {
    "duration": 53,
    "start_time": "2022-04-05T19:01:05.017Z"
   },
   {
    "duration": 13,
    "start_time": "2022-04-05T19:01:05.072Z"
   },
   {
    "duration": 24,
    "start_time": "2022-04-05T19:01:05.087Z"
   },
   {
    "duration": 4,
    "start_time": "2022-04-05T19:01:05.113Z"
   },
   {
    "duration": 16,
    "start_time": "2022-04-05T19:01:05.118Z"
   },
   {
    "duration": 11,
    "start_time": "2022-04-05T19:01:05.135Z"
   },
   {
    "duration": 12,
    "start_time": "2022-04-05T19:01:05.147Z"
   },
   {
    "duration": 13,
    "start_time": "2022-04-05T19:01:05.160Z"
   },
   {
    "duration": 61,
    "start_time": "2022-04-05T19:01:05.175Z"
   },
   {
    "duration": 814,
    "start_time": "2022-04-05T19:01:05.237Z"
   },
   {
    "duration": 6310,
    "start_time": "2022-04-05T19:01:06.052Z"
   },
   {
    "duration": 250,
    "start_time": "2022-04-05T19:01:12.363Z"
   },
   {
    "duration": 98,
    "start_time": "2022-04-05T19:01:12.615Z"
   },
   {
    "duration": 2789,
    "start_time": "2022-04-05T19:01:12.714Z"
   },
   {
    "duration": 45280,
    "start_time": "2022-04-05T19:01:15.509Z"
   },
   {
    "duration": 117,
    "start_time": "2022-04-05T19:02:00.792Z"
   },
   {
    "duration": 207,
    "start_time": "2022-04-05T19:02:00.912Z"
   },
   {
    "duration": 291,
    "start_time": "2022-04-05T19:02:01.123Z"
   },
   {
    "duration": 6,
    "start_time": "2022-04-05T19:02:01.416Z"
   },
   {
    "duration": 1490,
    "start_time": "2022-04-05T19:02:01.423Z"
   },
   {
    "duration": 34634,
    "start_time": "2022-04-05T19:02:02.918Z"
   },
   {
    "duration": 17134,
    "start_time": "2022-04-05T19:03:49.616Z"
   },
   {
    "duration": 16,
    "start_time": "2022-04-05T19:04:41.801Z"
   },
   {
    "duration": 4,
    "start_time": "2022-04-05T19:04:50.221Z"
   },
   {
    "duration": 55,
    "start_time": "2022-04-05T19:04:50.227Z"
   },
   {
    "duration": 14,
    "start_time": "2022-04-05T19:04:50.284Z"
   },
   {
    "duration": 24,
    "start_time": "2022-04-05T19:04:50.300Z"
   },
   {
    "duration": 5,
    "start_time": "2022-04-05T19:04:50.326Z"
   },
   {
    "duration": 18,
    "start_time": "2022-04-05T19:04:50.333Z"
   },
   {
    "duration": 11,
    "start_time": "2022-04-05T19:04:50.353Z"
   },
   {
    "duration": 13,
    "start_time": "2022-04-05T19:04:50.366Z"
   },
   {
    "duration": 40,
    "start_time": "2022-04-05T19:04:50.381Z"
   },
   {
    "duration": 41,
    "start_time": "2022-04-05T19:04:50.424Z"
   },
   {
    "duration": 849,
    "start_time": "2022-04-05T19:04:50.467Z"
   },
   {
    "duration": 6343,
    "start_time": "2022-04-05T19:04:51.318Z"
   },
   {
    "duration": 62,
    "start_time": "2022-04-05T19:04:57.663Z"
   },
   {
    "duration": 91,
    "start_time": "2022-04-05T19:04:57.727Z"
   },
   {
    "duration": 2773,
    "start_time": "2022-04-05T19:04:57.822Z"
   },
   {
    "duration": 44599,
    "start_time": "2022-04-05T19:05:00.596Z"
   },
   {
    "duration": 122,
    "start_time": "2022-04-05T19:05:45.197Z"
   },
   {
    "duration": 199,
    "start_time": "2022-04-05T19:05:45.410Z"
   },
   {
    "duration": 118,
    "start_time": "2022-04-05T19:05:45.611Z"
   },
   {
    "duration": 7,
    "start_time": "2022-04-05T19:05:45.811Z"
   },
   {
    "duration": 1190,
    "start_time": "2022-04-05T19:05:45.821Z"
   },
   {
    "duration": 33665,
    "start_time": "2022-04-05T19:05:47.013Z"
   },
   {
    "duration": 4,
    "start_time": "2022-04-05T19:22:16.646Z"
   },
   {
    "duration": 51,
    "start_time": "2022-04-05T19:22:16.652Z"
   },
   {
    "duration": 13,
    "start_time": "2022-04-05T19:22:16.705Z"
   },
   {
    "duration": 16,
    "start_time": "2022-04-05T19:22:16.720Z"
   },
   {
    "duration": 4,
    "start_time": "2022-04-05T19:22:16.738Z"
   },
   {
    "duration": 17,
    "start_time": "2022-04-05T19:22:16.744Z"
   },
   {
    "duration": 10,
    "start_time": "2022-04-05T19:22:16.763Z"
   },
   {
    "duration": 41,
    "start_time": "2022-04-05T19:22:16.774Z"
   },
   {
    "duration": 13,
    "start_time": "2022-04-05T19:22:16.817Z"
   },
   {
    "duration": 31,
    "start_time": "2022-04-05T19:22:16.832Z"
   },
   {
    "duration": 880,
    "start_time": "2022-04-05T19:22:16.865Z"
   },
   {
    "duration": 6334,
    "start_time": "2022-04-05T19:22:17.746Z"
   },
   {
    "duration": 230,
    "start_time": "2022-04-05T19:22:24.084Z"
   },
   {
    "duration": 93,
    "start_time": "2022-04-05T19:22:24.316Z"
   },
   {
    "duration": 2858,
    "start_time": "2022-04-05T19:22:24.412Z"
   },
   {
    "duration": 43884,
    "start_time": "2022-04-05T19:22:27.271Z"
   },
   {
    "duration": 58,
    "start_time": "2022-04-05T19:23:11.157Z"
   },
   {
    "duration": 198,
    "start_time": "2022-04-05T19:23:11.218Z"
   },
   {
    "duration": 300,
    "start_time": "2022-04-05T19:23:11.418Z"
   },
   {
    "duration": 95,
    "start_time": "2022-04-05T19:23:11.720Z"
   },
   {
    "duration": 1202,
    "start_time": "2022-04-05T19:23:11.818Z"
   },
   {
    "duration": 32844,
    "start_time": "2022-04-05T19:23:13.110Z"
   },
   {
    "duration": 5,
    "start_time": "2022-04-05T19:31:05.263Z"
   },
   {
    "duration": 56,
    "start_time": "2022-04-05T19:31:05.270Z"
   },
   {
    "duration": 20,
    "start_time": "2022-04-05T19:31:05.329Z"
   },
   {
    "duration": 24,
    "start_time": "2022-04-05T19:31:05.352Z"
   },
   {
    "duration": 42,
    "start_time": "2022-04-05T19:31:05.378Z"
   },
   {
    "duration": 0,
    "start_time": "2022-04-05T19:31:05.424Z"
   },
   {
    "duration": 0,
    "start_time": "2022-04-05T19:31:05.426Z"
   },
   {
    "duration": 0,
    "start_time": "2022-04-05T19:31:05.427Z"
   },
   {
    "duration": 0,
    "start_time": "2022-04-05T19:31:05.428Z"
   },
   {
    "duration": 0,
    "start_time": "2022-04-05T19:31:05.430Z"
   },
   {
    "duration": 0,
    "start_time": "2022-04-05T19:31:05.431Z"
   },
   {
    "duration": 0,
    "start_time": "2022-04-05T19:31:05.432Z"
   },
   {
    "duration": 0,
    "start_time": "2022-04-05T19:31:05.434Z"
   },
   {
    "duration": 0,
    "start_time": "2022-04-05T19:31:05.435Z"
   },
   {
    "duration": 0,
    "start_time": "2022-04-05T19:31:05.436Z"
   },
   {
    "duration": 0,
    "start_time": "2022-04-05T19:31:05.437Z"
   },
   {
    "duration": 0,
    "start_time": "2022-04-05T19:31:05.439Z"
   },
   {
    "duration": 0,
    "start_time": "2022-04-05T19:31:05.441Z"
   },
   {
    "duration": 0,
    "start_time": "2022-04-05T19:31:05.443Z"
   },
   {
    "duration": 0,
    "start_time": "2022-04-05T19:31:05.444Z"
   },
   {
    "duration": 0,
    "start_time": "2022-04-05T19:31:05.446Z"
   },
   {
    "duration": 0,
    "start_time": "2022-04-05T19:31:05.447Z"
   },
   {
    "duration": 1766,
    "start_time": "2022-04-06T03:35:21.578Z"
   },
   {
    "duration": 51,
    "start_time": "2022-04-06T03:35:23.346Z"
   },
   {
    "duration": 13,
    "start_time": "2022-04-06T03:35:23.399Z"
   },
   {
    "duration": 19,
    "start_time": "2022-04-06T03:35:23.414Z"
   },
   {
    "duration": 130,
    "start_time": "2022-04-06T03:35:23.436Z"
   },
   {
    "duration": 0,
    "start_time": "2022-04-06T03:35:23.568Z"
   },
   {
    "duration": 0,
    "start_time": "2022-04-06T03:35:23.569Z"
   },
   {
    "duration": 0,
    "start_time": "2022-04-06T03:35:23.571Z"
   },
   {
    "duration": 0,
    "start_time": "2022-04-06T03:35:23.572Z"
   },
   {
    "duration": 0,
    "start_time": "2022-04-06T03:35:23.574Z"
   },
   {
    "duration": 0,
    "start_time": "2022-04-06T03:35:23.575Z"
   },
   {
    "duration": 0,
    "start_time": "2022-04-06T03:35:23.576Z"
   },
   {
    "duration": 0,
    "start_time": "2022-04-06T03:35:23.579Z"
   },
   {
    "duration": 0,
    "start_time": "2022-04-06T03:35:23.580Z"
   },
   {
    "duration": 0,
    "start_time": "2022-04-06T03:35:23.581Z"
   },
   {
    "duration": 0,
    "start_time": "2022-04-06T03:35:23.583Z"
   },
   {
    "duration": 0,
    "start_time": "2022-04-06T03:35:23.584Z"
   },
   {
    "duration": 0,
    "start_time": "2022-04-06T03:35:23.585Z"
   },
   {
    "duration": 0,
    "start_time": "2022-04-06T03:35:23.587Z"
   },
   {
    "duration": 0,
    "start_time": "2022-04-06T03:35:23.588Z"
   },
   {
    "duration": 0,
    "start_time": "2022-04-06T03:35:23.589Z"
   },
   {
    "duration": 0,
    "start_time": "2022-04-06T03:35:23.590Z"
   },
   {
    "duration": 4,
    "start_time": "2022-04-06T03:35:45.010Z"
   },
   {
    "duration": 51,
    "start_time": "2022-04-06T03:35:45.016Z"
   },
   {
    "duration": 11,
    "start_time": "2022-04-06T03:35:45.069Z"
   },
   {
    "duration": 20,
    "start_time": "2022-04-06T03:35:45.081Z"
   },
   {
    "duration": 13,
    "start_time": "2022-04-06T03:35:45.102Z"
   },
   {
    "duration": 0,
    "start_time": "2022-04-06T03:35:45.117Z"
   },
   {
    "duration": 0,
    "start_time": "2022-04-06T03:35:45.118Z"
   },
   {
    "duration": 0,
    "start_time": "2022-04-06T03:35:45.119Z"
   },
   {
    "duration": 0,
    "start_time": "2022-04-06T03:35:45.121Z"
   },
   {
    "duration": 0,
    "start_time": "2022-04-06T03:35:45.122Z"
   },
   {
    "duration": 0,
    "start_time": "2022-04-06T03:35:45.123Z"
   },
   {
    "duration": 0,
    "start_time": "2022-04-06T03:35:45.124Z"
   },
   {
    "duration": 0,
    "start_time": "2022-04-06T03:35:45.125Z"
   },
   {
    "duration": 0,
    "start_time": "2022-04-06T03:35:45.126Z"
   },
   {
    "duration": 0,
    "start_time": "2022-04-06T03:35:45.127Z"
   },
   {
    "duration": 0,
    "start_time": "2022-04-06T03:35:45.128Z"
   },
   {
    "duration": 0,
    "start_time": "2022-04-06T03:35:45.163Z"
   },
   {
    "duration": 0,
    "start_time": "2022-04-06T03:35:45.164Z"
   },
   {
    "duration": 0,
    "start_time": "2022-04-06T03:35:45.165Z"
   },
   {
    "duration": 0,
    "start_time": "2022-04-06T03:35:45.166Z"
   },
   {
    "duration": 0,
    "start_time": "2022-04-06T03:35:45.167Z"
   },
   {
    "duration": 0,
    "start_time": "2022-04-06T03:35:45.168Z"
   },
   {
    "duration": 19,
    "start_time": "2022-04-06T03:40:36.457Z"
   },
   {
    "duration": 4,
    "start_time": "2022-04-06T03:42:11.966Z"
   },
   {
    "duration": 4,
    "start_time": "2022-04-06T03:48:37.798Z"
   },
   {
    "duration": 12,
    "start_time": "2022-04-06T03:49:27.971Z"
   },
   {
    "duration": 14,
    "start_time": "2022-04-06T03:49:42.999Z"
   },
   {
    "duration": 13,
    "start_time": "2022-04-06T03:49:53.989Z"
   },
   {
    "duration": 144,
    "start_time": "2022-04-06T03:50:11.021Z"
   },
   {
    "duration": 125,
    "start_time": "2022-04-06T03:50:20.160Z"
   },
   {
    "duration": 2036,
    "start_time": "2022-04-06T03:50:28.098Z"
   },
   {
    "duration": 2017,
    "start_time": "2022-04-06T03:50:51.581Z"
   },
   {
    "duration": 2119,
    "start_time": "2022-04-06T03:51:06.951Z"
   },
   {
    "duration": 10,
    "start_time": "2022-04-06T03:51:48.290Z"
   },
   {
    "duration": 10,
    "start_time": "2022-04-06T03:51:53.359Z"
   },
   {
    "duration": 10,
    "start_time": "2022-04-06T03:52:01.802Z"
   },
   {
    "duration": 57,
    "start_time": "2022-04-06T03:52:08.993Z"
   },
   {
    "duration": 13,
    "start_time": "2022-04-06T03:52:28.322Z"
   },
   {
    "duration": 4,
    "start_time": "2022-04-06T03:52:34.991Z"
   },
   {
    "duration": 51,
    "start_time": "2022-04-06T03:52:34.997Z"
   },
   {
    "duration": 12,
    "start_time": "2022-04-06T03:52:35.049Z"
   },
   {
    "duration": 9,
    "start_time": "2022-04-06T03:52:35.063Z"
   },
   {
    "duration": 58,
    "start_time": "2022-04-06T03:52:35.074Z"
   },
   {
    "duration": 17,
    "start_time": "2022-04-06T03:52:35.134Z"
   },
   {
    "duration": 21,
    "start_time": "2022-04-06T03:52:35.153Z"
   },
   {
    "duration": 0,
    "start_time": "2022-04-06T03:52:35.176Z"
   },
   {
    "duration": 0,
    "start_time": "2022-04-06T03:52:35.179Z"
   },
   {
    "duration": 0,
    "start_time": "2022-04-06T03:52:35.180Z"
   },
   {
    "duration": 0,
    "start_time": "2022-04-06T03:52:35.181Z"
   },
   {
    "duration": 0,
    "start_time": "2022-04-06T03:52:35.182Z"
   },
   {
    "duration": 0,
    "start_time": "2022-04-06T03:52:35.182Z"
   },
   {
    "duration": 0,
    "start_time": "2022-04-06T03:52:35.183Z"
   },
   {
    "duration": 0,
    "start_time": "2022-04-06T03:52:35.184Z"
   },
   {
    "duration": 0,
    "start_time": "2022-04-06T03:52:35.185Z"
   },
   {
    "duration": 0,
    "start_time": "2022-04-06T03:52:35.186Z"
   },
   {
    "duration": 0,
    "start_time": "2022-04-06T03:52:35.187Z"
   },
   {
    "duration": 0,
    "start_time": "2022-04-06T03:52:35.188Z"
   },
   {
    "duration": 0,
    "start_time": "2022-04-06T03:52:35.188Z"
   },
   {
    "duration": 0,
    "start_time": "2022-04-06T03:52:35.189Z"
   },
   {
    "duration": 0,
    "start_time": "2022-04-06T03:52:35.190Z"
   },
   {
    "duration": 0,
    "start_time": "2022-04-06T03:52:35.191Z"
   },
   {
    "duration": 0,
    "start_time": "2022-04-06T03:52:35.192Z"
   },
   {
    "duration": 5,
    "start_time": "2022-04-06T03:52:49.680Z"
   },
   {
    "duration": 5,
    "start_time": "2022-04-06T03:52:50.998Z"
   },
   {
    "duration": 12,
    "start_time": "2022-04-06T03:52:56.596Z"
   },
   {
    "duration": 53,
    "start_time": "2022-04-06T03:54:23.370Z"
   },
   {
    "duration": 4,
    "start_time": "2022-04-06T03:54:30.208Z"
   },
   {
    "duration": 52,
    "start_time": "2022-04-06T03:54:30.214Z"
   },
   {
    "duration": 12,
    "start_time": "2022-04-06T03:54:30.267Z"
   },
   {
    "duration": 28,
    "start_time": "2022-04-06T03:54:30.280Z"
   },
   {
    "duration": 69,
    "start_time": "2022-04-06T03:54:30.310Z"
   },
   {
    "duration": 14,
    "start_time": "2022-04-06T03:54:33.755Z"
   },
   {
    "duration": 55,
    "start_time": "2022-04-06T03:57:07.425Z"
   },
   {
    "duration": 54,
    "start_time": "2022-04-06T03:57:12.635Z"
   },
   {
    "duration": 55,
    "start_time": "2022-04-06T03:57:13.762Z"
   },
   {
    "duration": 56,
    "start_time": "2022-04-06T03:57:34.597Z"
   },
   {
    "duration": 54,
    "start_time": "2022-04-06T03:57:53.991Z"
   },
   {
    "duration": 57,
    "start_time": "2022-04-06T03:59:35.291Z"
   },
   {
    "duration": 55,
    "start_time": "2022-04-06T04:02:37.364Z"
   },
   {
    "duration": 3,
    "start_time": "2022-04-06T04:03:48.626Z"
   },
   {
    "duration": 3,
    "start_time": "2022-04-06T04:03:50.408Z"
   },
   {
    "duration": 3,
    "start_time": "2022-04-06T04:04:00.539Z"
   },
   {
    "duration": 10,
    "start_time": "2022-04-06T04:04:25.656Z"
   },
   {
    "duration": 133,
    "start_time": "2022-04-06T04:07:10.834Z"
   },
   {
    "duration": 43,
    "start_time": "2022-04-06T04:07:24.891Z"
   },
   {
    "duration": 10,
    "start_time": "2022-04-06T04:09:24.187Z"
   },
   {
    "duration": 10,
    "start_time": "2022-04-06T04:09:31.383Z"
   },
   {
    "duration": 267,
    "start_time": "2022-04-06T04:12:20.374Z"
   },
   {
    "duration": 10,
    "start_time": "2022-04-06T04:12:32.569Z"
   },
   {
    "duration": 10,
    "start_time": "2022-04-06T04:12:52.261Z"
   },
   {
    "duration": 4,
    "start_time": "2022-04-06T04:13:45.598Z"
   },
   {
    "duration": 43,
    "start_time": "2022-04-06T04:13:45.604Z"
   },
   {
    "duration": 12,
    "start_time": "2022-04-06T04:13:45.649Z"
   },
   {
    "duration": 12,
    "start_time": "2022-04-06T04:13:45.662Z"
   },
   {
    "duration": 10,
    "start_time": "2022-04-06T04:13:55.635Z"
   },
   {
    "duration": 10,
    "start_time": "2022-04-06T04:14:23.932Z"
   },
   {
    "duration": 10,
    "start_time": "2022-04-06T04:14:53.540Z"
   },
   {
    "duration": 8,
    "start_time": "2022-04-06T04:20:04.975Z"
   },
   {
    "duration": 9,
    "start_time": "2022-04-06T04:20:25.617Z"
   },
   {
    "duration": 9,
    "start_time": "2022-04-06T04:21:30.307Z"
   },
   {
    "duration": 4,
    "start_time": "2022-04-06T04:22:19.914Z"
   },
   {
    "duration": 4,
    "start_time": "2022-04-06T04:22:24.431Z"
   },
   {
    "duration": 4,
    "start_time": "2022-04-06T04:22:27.865Z"
   },
   {
    "duration": 3,
    "start_time": "2022-04-06T04:22:28.640Z"
   },
   {
    "duration": 4,
    "start_time": "2022-04-06T04:22:29.206Z"
   },
   {
    "duration": 3,
    "start_time": "2022-04-06T04:22:29.744Z"
   },
   {
    "duration": 3,
    "start_time": "2022-04-06T04:22:30.265Z"
   },
   {
    "duration": 1124,
    "start_time": "2022-04-06T04:22:33.801Z"
   },
   {
    "duration": 10,
    "start_time": "2022-04-06T04:23:04.257Z"
   },
   {
    "duration": 45,
    "start_time": "2022-04-06T04:23:14.529Z"
   },
   {
    "duration": 1571,
    "start_time": "2022-04-06T19:31:14.481Z"
   },
   {
    "duration": 41,
    "start_time": "2022-04-06T19:31:16.054Z"
   },
   {
    "duration": 13,
    "start_time": "2022-04-06T19:31:16.096Z"
   },
   {
    "duration": 19,
    "start_time": "2022-04-06T19:31:16.111Z"
   },
   {
    "duration": 3,
    "start_time": "2022-04-06T19:31:16.132Z"
   },
   {
    "duration": 108,
    "start_time": "2022-04-06T19:31:16.137Z"
   },
   {
    "duration": 1,
    "start_time": "2022-04-06T19:31:16.247Z"
   },
   {
    "duration": 0,
    "start_time": "2022-04-06T19:31:16.249Z"
   },
   {
    "duration": 0,
    "start_time": "2022-04-06T19:31:16.250Z"
   },
   {
    "duration": 0,
    "start_time": "2022-04-06T19:31:16.252Z"
   },
   {
    "duration": 0,
    "start_time": "2022-04-06T19:31:16.253Z"
   },
   {
    "duration": 0,
    "start_time": "2022-04-06T19:31:16.255Z"
   },
   {
    "duration": 0,
    "start_time": "2022-04-06T19:31:16.256Z"
   },
   {
    "duration": 0,
    "start_time": "2022-04-06T19:31:16.257Z"
   },
   {
    "duration": 0,
    "start_time": "2022-04-06T19:31:16.258Z"
   },
   {
    "duration": 0,
    "start_time": "2022-04-06T19:31:16.259Z"
   },
   {
    "duration": 0,
    "start_time": "2022-04-06T19:31:16.261Z"
   },
   {
    "duration": 0,
    "start_time": "2022-04-06T19:31:16.262Z"
   },
   {
    "duration": 0,
    "start_time": "2022-04-06T19:31:16.263Z"
   },
   {
    "duration": 0,
    "start_time": "2022-04-06T19:31:16.264Z"
   },
   {
    "duration": 0,
    "start_time": "2022-04-06T19:31:16.266Z"
   },
   {
    "duration": 0,
    "start_time": "2022-04-06T19:31:16.267Z"
   },
   {
    "duration": 0,
    "start_time": "2022-04-06T19:31:16.268Z"
   },
   {
    "duration": 0,
    "start_time": "2022-04-06T19:31:16.269Z"
   },
   {
    "duration": 0,
    "start_time": "2022-04-06T19:31:16.271Z"
   },
   {
    "duration": 6,
    "start_time": "2022-04-06T19:31:55.652Z"
   },
   {
    "duration": 13,
    "start_time": "2022-04-06T19:32:22.597Z"
   },
   {
    "duration": 4,
    "start_time": "2022-04-06T19:32:53.728Z"
   },
   {
    "duration": 9,
    "start_time": "2022-04-06T19:33:01.026Z"
   },
   {
    "duration": 7,
    "start_time": "2022-04-06T19:34:07.359Z"
   },
   {
    "duration": 7,
    "start_time": "2022-04-06T19:34:14.896Z"
   },
   {
    "duration": 3,
    "start_time": "2022-04-06T19:34:27.655Z"
   },
   {
    "duration": 41,
    "start_time": "2022-04-06T19:34:27.662Z"
   },
   {
    "duration": 10,
    "start_time": "2022-04-06T19:34:27.705Z"
   },
   {
    "duration": 5,
    "start_time": "2022-04-06T19:34:27.717Z"
   },
   {
    "duration": 4,
    "start_time": "2022-04-06T19:34:27.724Z"
   },
   {
    "duration": 7,
    "start_time": "2022-04-06T19:34:27.729Z"
   },
   {
    "duration": 10,
    "start_time": "2022-04-06T19:34:27.737Z"
   },
   {
    "duration": 16,
    "start_time": "2022-04-06T19:34:27.749Z"
   },
   {
    "duration": 0,
    "start_time": "2022-04-06T19:34:27.767Z"
   },
   {
    "duration": 0,
    "start_time": "2022-04-06T19:34:27.768Z"
   },
   {
    "duration": 0,
    "start_time": "2022-04-06T19:34:27.769Z"
   },
   {
    "duration": 0,
    "start_time": "2022-04-06T19:34:27.770Z"
   },
   {
    "duration": 0,
    "start_time": "2022-04-06T19:34:27.770Z"
   },
   {
    "duration": 0,
    "start_time": "2022-04-06T19:34:27.771Z"
   },
   {
    "duration": 0,
    "start_time": "2022-04-06T19:34:27.772Z"
   },
   {
    "duration": 0,
    "start_time": "2022-04-06T19:34:27.773Z"
   },
   {
    "duration": 0,
    "start_time": "2022-04-06T19:34:27.774Z"
   },
   {
    "duration": 0,
    "start_time": "2022-04-06T19:34:27.774Z"
   },
   {
    "duration": 0,
    "start_time": "2022-04-06T19:34:27.775Z"
   },
   {
    "duration": 0,
    "start_time": "2022-04-06T19:34:27.776Z"
   },
   {
    "duration": 1,
    "start_time": "2022-04-06T19:34:27.776Z"
   },
   {
    "duration": 0,
    "start_time": "2022-04-06T19:34:27.777Z"
   },
   {
    "duration": 0,
    "start_time": "2022-04-06T19:34:27.778Z"
   },
   {
    "duration": 0,
    "start_time": "2022-04-06T19:34:27.779Z"
   },
   {
    "duration": 0,
    "start_time": "2022-04-06T19:34:27.780Z"
   },
   {
    "duration": 7,
    "start_time": "2022-04-06T19:35:08.255Z"
   },
   {
    "duration": 7,
    "start_time": "2022-04-06T19:35:23.390Z"
   },
   {
    "duration": 9,
    "start_time": "2022-04-06T19:35:35.630Z"
   },
   {
    "duration": 8,
    "start_time": "2022-04-06T19:36:16.094Z"
   },
   {
    "duration": 17,
    "start_time": "2022-04-06T19:36:46.092Z"
   },
   {
    "duration": 9,
    "start_time": "2022-04-06T19:37:58.603Z"
   },
   {
    "duration": 2152,
    "start_time": "2022-04-06T19:38:45.769Z"
   },
   {
    "duration": 6,
    "start_time": "2022-04-06T19:39:00.330Z"
   },
   {
    "duration": 12,
    "start_time": "2022-04-06T19:39:28.665Z"
   },
   {
    "duration": 2045,
    "start_time": "2022-04-06T19:46:56.912Z"
   },
   {
    "duration": 2058,
    "start_time": "2022-04-06T19:47:07.375Z"
   },
   {
    "duration": 1976,
    "start_time": "2022-04-06T19:47:18.643Z"
   },
   {
    "duration": 2143,
    "start_time": "2022-04-06T19:48:10.525Z"
   },
   {
    "duration": 1507,
    "start_time": "2022-04-07T03:18:38.296Z"
   },
   {
    "duration": 52,
    "start_time": "2022-04-07T03:18:39.805Z"
   },
   {
    "duration": 12,
    "start_time": "2022-04-07T03:18:39.858Z"
   },
   {
    "duration": 6,
    "start_time": "2022-04-07T03:18:39.871Z"
   },
   {
    "duration": 109,
    "start_time": "2022-04-07T03:18:39.880Z"
   },
   {
    "duration": 0,
    "start_time": "2022-04-07T03:18:39.991Z"
   },
   {
    "duration": 0,
    "start_time": "2022-04-07T03:18:39.993Z"
   },
   {
    "duration": 0,
    "start_time": "2022-04-07T03:18:39.994Z"
   },
   {
    "duration": 0,
    "start_time": "2022-04-07T03:18:39.995Z"
   },
   {
    "duration": 0,
    "start_time": "2022-04-07T03:18:39.997Z"
   },
   {
    "duration": 0,
    "start_time": "2022-04-07T03:18:39.998Z"
   },
   {
    "duration": 0,
    "start_time": "2022-04-07T03:18:40.000Z"
   },
   {
    "duration": 0,
    "start_time": "2022-04-07T03:18:40.002Z"
   },
   {
    "duration": 0,
    "start_time": "2022-04-07T03:18:40.003Z"
   },
   {
    "duration": 0,
    "start_time": "2022-04-07T03:18:40.005Z"
   },
   {
    "duration": 0,
    "start_time": "2022-04-07T03:18:40.006Z"
   },
   {
    "duration": 0,
    "start_time": "2022-04-07T03:18:40.008Z"
   },
   {
    "duration": 0,
    "start_time": "2022-04-07T03:18:40.039Z"
   },
   {
    "duration": 0,
    "start_time": "2022-04-07T03:18:40.041Z"
   },
   {
    "duration": 0,
    "start_time": "2022-04-07T03:18:40.043Z"
   },
   {
    "duration": 0,
    "start_time": "2022-04-07T03:18:40.044Z"
   },
   {
    "duration": 0,
    "start_time": "2022-04-07T03:18:40.045Z"
   },
   {
    "duration": 0,
    "start_time": "2022-04-07T03:18:40.047Z"
   },
   {
    "duration": 0,
    "start_time": "2022-04-07T03:18:40.048Z"
   },
   {
    "duration": 0,
    "start_time": "2022-04-07T03:18:40.050Z"
   },
   {
    "duration": 4,
    "start_time": "2022-04-07T03:20:31.602Z"
   },
   {
    "duration": 4,
    "start_time": "2022-04-07T03:28:18.061Z"
   },
   {
    "duration": 8,
    "start_time": "2022-04-07T03:28:22.124Z"
   },
   {
    "duration": 5,
    "start_time": "2022-04-07T03:28:51.245Z"
   },
   {
    "duration": 5,
    "start_time": "2022-04-07T03:28:57.781Z"
   },
   {
    "duration": 5,
    "start_time": "2022-04-07T03:28:59.217Z"
   },
   {
    "duration": 5,
    "start_time": "2022-04-07T03:29:13.762Z"
   },
   {
    "duration": 4,
    "start_time": "2022-04-07T03:29:37.624Z"
   },
   {
    "duration": 5,
    "start_time": "2022-04-07T03:29:38.704Z"
   },
   {
    "duration": 5,
    "start_time": "2022-04-07T03:29:39.564Z"
   },
   {
    "duration": 4,
    "start_time": "2022-04-07T03:29:40.288Z"
   },
   {
    "duration": 5,
    "start_time": "2022-04-07T03:29:44.248Z"
   },
   {
    "duration": 5,
    "start_time": "2022-04-07T03:29:57.764Z"
   },
   {
    "duration": 5,
    "start_time": "2022-04-07T03:29:58.455Z"
   },
   {
    "duration": 4,
    "start_time": "2022-04-07T03:30:07.020Z"
   },
   {
    "duration": 4,
    "start_time": "2022-04-07T03:30:07.679Z"
   },
   {
    "duration": 4,
    "start_time": "2022-04-07T03:30:08.249Z"
   },
   {
    "duration": 4,
    "start_time": "2022-04-07T03:30:08.785Z"
   },
   {
    "duration": 4,
    "start_time": "2022-04-07T03:30:09.317Z"
   },
   {
    "duration": 4,
    "start_time": "2022-04-07T03:30:09.834Z"
   },
   {
    "duration": 4,
    "start_time": "2022-04-07T03:30:10.345Z"
   },
   {
    "duration": 4,
    "start_time": "2022-04-07T03:30:10.892Z"
   },
   {
    "duration": 4,
    "start_time": "2022-04-07T03:30:11.391Z"
   },
   {
    "duration": 4,
    "start_time": "2022-04-07T03:30:11.919Z"
   },
   {
    "duration": 4,
    "start_time": "2022-04-07T03:30:12.458Z"
   },
   {
    "duration": 4,
    "start_time": "2022-04-07T03:30:12.975Z"
   },
   {
    "duration": 4,
    "start_time": "2022-04-07T03:30:13.494Z"
   },
   {
    "duration": 4,
    "start_time": "2022-04-07T03:30:16.019Z"
   },
   {
    "duration": 3,
    "start_time": "2022-04-07T03:30:16.568Z"
   },
   {
    "duration": 3,
    "start_time": "2022-04-07T03:30:17.054Z"
   },
   {
    "duration": 3,
    "start_time": "2022-04-07T03:30:17.531Z"
   },
   {
    "duration": 9,
    "start_time": "2022-04-07T03:30:41.366Z"
   },
   {
    "duration": 5,
    "start_time": "2022-04-07T03:34:56.311Z"
   },
   {
    "duration": 4,
    "start_time": "2022-04-07T03:34:57.079Z"
   },
   {
    "duration": 4,
    "start_time": "2022-04-07T03:34:57.417Z"
   },
   {
    "duration": 4,
    "start_time": "2022-04-07T03:34:57.649Z"
   },
   {
    "duration": 4,
    "start_time": "2022-04-07T03:34:57.853Z"
   },
   {
    "duration": 7,
    "start_time": "2022-04-07T03:37:58.934Z"
   },
   {
    "duration": 7,
    "start_time": "2022-04-07T03:38:06.902Z"
   },
   {
    "duration": 6,
    "start_time": "2022-04-07T03:38:07.601Z"
   },
   {
    "duration": 7,
    "start_time": "2022-04-07T03:38:08.059Z"
   },
   {
    "duration": 6,
    "start_time": "2022-04-07T03:38:08.496Z"
   },
   {
    "duration": 7,
    "start_time": "2022-04-07T03:38:08.923Z"
   },
   {
    "duration": 7,
    "start_time": "2022-04-07T03:38:09.361Z"
   },
   {
    "duration": 7,
    "start_time": "2022-04-07T03:38:09.838Z"
   },
   {
    "duration": 7,
    "start_time": "2022-04-07T03:38:10.344Z"
   },
   {
    "duration": 7,
    "start_time": "2022-04-07T03:38:11.116Z"
   },
   {
    "duration": 7,
    "start_time": "2022-04-07T03:38:11.684Z"
   },
   {
    "duration": 6,
    "start_time": "2022-04-07T03:39:10.305Z"
   },
   {
    "duration": 6,
    "start_time": "2022-04-07T03:39:11.309Z"
   },
   {
    "duration": 6,
    "start_time": "2022-04-07T03:39:11.854Z"
   },
   {
    "duration": 6,
    "start_time": "2022-04-07T03:39:12.372Z"
   },
   {
    "duration": 6,
    "start_time": "2022-04-07T03:39:12.799Z"
   },
   {
    "duration": 6,
    "start_time": "2022-04-07T03:39:13.227Z"
   },
   {
    "duration": 6,
    "start_time": "2022-04-07T03:39:13.723Z"
   },
   {
    "duration": 6,
    "start_time": "2022-04-07T03:39:14.171Z"
   },
   {
    "duration": 6,
    "start_time": "2022-04-07T03:39:39.700Z"
   },
   {
    "duration": 6,
    "start_time": "2022-04-07T03:39:40.207Z"
   },
   {
    "duration": 6,
    "start_time": "2022-04-07T03:39:40.654Z"
   },
   {
    "duration": 5,
    "start_time": "2022-04-07T03:39:40.980Z"
   },
   {
    "duration": 7,
    "start_time": "2022-04-07T03:39:41.181Z"
   },
   {
    "duration": 7,
    "start_time": "2022-04-07T03:39:41.366Z"
   },
   {
    "duration": 6,
    "start_time": "2022-04-07T03:39:41.549Z"
   },
   {
    "duration": 6,
    "start_time": "2022-04-07T03:39:41.719Z"
   },
   {
    "duration": 6,
    "start_time": "2022-04-07T03:39:41.883Z"
   },
   {
    "duration": 7,
    "start_time": "2022-04-07T03:39:42.044Z"
   },
   {
    "duration": 6,
    "start_time": "2022-04-07T03:39:42.196Z"
   },
   {
    "duration": 5,
    "start_time": "2022-04-07T03:45:07.419Z"
   },
   {
    "duration": 5,
    "start_time": "2022-04-07T03:45:08.564Z"
   },
   {
    "duration": 5,
    "start_time": "2022-04-07T03:45:09.278Z"
   },
   {
    "duration": 5,
    "start_time": "2022-04-07T03:45:09.786Z"
   },
   {
    "duration": 5,
    "start_time": "2022-04-07T03:45:10.273Z"
   },
   {
    "duration": 5,
    "start_time": "2022-04-07T03:45:10.812Z"
   },
   {
    "duration": 5,
    "start_time": "2022-04-07T03:45:11.308Z"
   },
   {
    "duration": 4,
    "start_time": "2022-04-07T03:45:24.259Z"
   },
   {
    "duration": 53,
    "start_time": "2022-04-07T03:45:24.265Z"
   },
   {
    "duration": 13,
    "start_time": "2022-04-07T03:45:24.320Z"
   },
   {
    "duration": 3,
    "start_time": "2022-04-07T03:45:24.335Z"
   },
   {
    "duration": 6,
    "start_time": "2022-04-07T03:45:24.340Z"
   },
   {
    "duration": 12,
    "start_time": "2022-04-07T03:45:30.711Z"
   },
   {
    "duration": 110,
    "start_time": "2022-04-07T03:47:44.248Z"
   },
   {
    "duration": 12,
    "start_time": "2022-04-07T03:48:13.050Z"
   },
   {
    "duration": 4,
    "start_time": "2022-04-07T03:48:22.133Z"
   },
   {
    "duration": 44,
    "start_time": "2022-04-07T03:48:22.139Z"
   },
   {
    "duration": 13,
    "start_time": "2022-04-07T03:48:22.185Z"
   },
   {
    "duration": 8,
    "start_time": "2022-04-07T03:48:22.199Z"
   },
   {
    "duration": 6,
    "start_time": "2022-04-07T03:48:22.209Z"
   },
   {
    "duration": 11,
    "start_time": "2022-04-07T03:48:25.399Z"
   },
   {
    "duration": 4,
    "start_time": "2022-04-07T03:49:04.058Z"
   },
   {
    "duration": 11,
    "start_time": "2022-04-07T03:50:36.310Z"
   },
   {
    "duration": 10,
    "start_time": "2022-04-07T03:50:47.425Z"
   },
   {
    "duration": 4,
    "start_time": "2022-04-07T03:53:19.625Z"
   },
   {
    "duration": 54,
    "start_time": "2022-04-07T03:53:19.631Z"
   },
   {
    "duration": 12,
    "start_time": "2022-04-07T03:53:19.686Z"
   },
   {
    "duration": 9,
    "start_time": "2022-04-07T03:53:19.700Z"
   },
   {
    "duration": 17,
    "start_time": "2022-04-07T03:53:19.711Z"
   },
   {
    "duration": 7,
    "start_time": "2022-04-07T03:53:23.954Z"
   },
   {
    "duration": 9,
    "start_time": "2022-04-07T03:53:49.468Z"
   },
   {
    "duration": 3,
    "start_time": "2022-04-07T04:02:48.846Z"
   },
   {
    "duration": 50,
    "start_time": "2022-04-07T04:02:48.851Z"
   },
   {
    "duration": 11,
    "start_time": "2022-04-07T04:02:48.903Z"
   },
   {
    "duration": 9,
    "start_time": "2022-04-07T04:02:48.916Z"
   },
   {
    "duration": 5,
    "start_time": "2022-04-07T04:02:48.926Z"
   },
   {
    "duration": 6,
    "start_time": "2022-04-07T04:03:11.205Z"
   },
   {
    "duration": 7,
    "start_time": "2022-04-07T04:03:13.124Z"
   },
   {
    "duration": 6,
    "start_time": "2022-04-07T04:03:13.847Z"
   },
   {
    "duration": 5,
    "start_time": "2022-04-07T04:03:14.619Z"
   },
   {
    "duration": 6,
    "start_time": "2022-04-07T04:03:15.303Z"
   },
   {
    "duration": 4,
    "start_time": "2022-04-07T04:03:33.062Z"
   },
   {
    "duration": 44,
    "start_time": "2022-04-07T04:03:33.068Z"
   },
   {
    "duration": 14,
    "start_time": "2022-04-07T04:03:33.113Z"
   },
   {
    "duration": 6,
    "start_time": "2022-04-07T04:03:33.129Z"
   },
   {
    "duration": 4,
    "start_time": "2022-04-07T04:03:33.136Z"
   },
   {
    "duration": 6,
    "start_time": "2022-04-07T04:03:54.715Z"
   },
   {
    "duration": 6,
    "start_time": "2022-04-07T04:04:38.185Z"
   },
   {
    "duration": 6,
    "start_time": "2022-04-07T04:04:39.534Z"
   },
   {
    "duration": 5,
    "start_time": "2022-04-07T04:04:40.216Z"
   },
   {
    "duration": 3,
    "start_time": "2022-04-07T04:04:42.879Z"
   },
   {
    "duration": 51,
    "start_time": "2022-04-07T04:04:42.884Z"
   },
   {
    "duration": 14,
    "start_time": "2022-04-07T04:04:42.937Z"
   },
   {
    "duration": 5,
    "start_time": "2022-04-07T04:04:42.952Z"
   },
   {
    "duration": 5,
    "start_time": "2022-04-07T04:04:42.958Z"
   },
   {
    "duration": 6,
    "start_time": "2022-04-07T04:04:44.138Z"
   },
   {
    "duration": 6,
    "start_time": "2022-04-07T04:06:03.663Z"
   },
   {
    "duration": 4,
    "start_time": "2022-04-07T04:06:07.656Z"
   },
   {
    "duration": 52,
    "start_time": "2022-04-07T04:06:07.662Z"
   },
   {
    "duration": 12,
    "start_time": "2022-04-07T04:06:07.716Z"
   },
   {
    "duration": 4,
    "start_time": "2022-04-07T04:06:07.730Z"
   },
   {
    "duration": 5,
    "start_time": "2022-04-07T04:06:07.736Z"
   },
   {
    "duration": 12,
    "start_time": "2022-04-07T04:06:16.782Z"
   },
   {
    "duration": 3,
    "start_time": "2022-04-07T04:08:13.465Z"
   },
   {
    "duration": 56,
    "start_time": "2022-04-07T04:08:13.470Z"
   },
   {
    "duration": 14,
    "start_time": "2022-04-07T04:08:13.528Z"
   },
   {
    "duration": 5,
    "start_time": "2022-04-07T04:08:13.543Z"
   },
   {
    "duration": 109,
    "start_time": "2022-04-07T04:08:17.928Z"
   },
   {
    "duration": 484,
    "start_time": "2022-04-07T04:09:03.589Z"
   },
   {
    "duration": 14,
    "start_time": "2022-04-07T04:09:08.004Z"
   },
   {
    "duration": 4,
    "start_time": "2022-04-07T04:09:14.176Z"
   },
   {
    "duration": 42,
    "start_time": "2022-04-07T04:09:14.182Z"
   },
   {
    "duration": 13,
    "start_time": "2022-04-07T04:09:14.226Z"
   },
   {
    "duration": 4,
    "start_time": "2022-04-07T04:09:14.241Z"
   },
   {
    "duration": 483,
    "start_time": "2022-04-07T04:09:19.598Z"
   },
   {
    "duration": 13,
    "start_time": "2022-04-07T04:09:27.242Z"
   },
   {
    "duration": 18,
    "start_time": "2022-04-07T04:09:54.807Z"
   },
   {
    "duration": 9,
    "start_time": "2022-04-07T04:15:22.957Z"
   },
   {
    "duration": 9,
    "start_time": "2022-04-07T04:15:38.832Z"
   },
   {
    "duration": 10,
    "start_time": "2022-04-07T04:15:43.800Z"
   },
   {
    "duration": 11,
    "start_time": "2022-04-07T04:15:57.406Z"
   },
   {
    "duration": 30,
    "start_time": "2022-04-07T04:16:02.764Z"
   },
   {
    "duration": 14,
    "start_time": "2022-04-07T04:16:36.076Z"
   },
   {
    "duration": 28,
    "start_time": "2022-04-07T04:16:45.958Z"
   },
   {
    "duration": 4,
    "start_time": "2022-04-07T04:16:55.884Z"
   },
   {
    "duration": 51,
    "start_time": "2022-04-07T04:16:55.890Z"
   },
   {
    "duration": 12,
    "start_time": "2022-04-07T04:16:55.942Z"
   },
   {
    "duration": 10,
    "start_time": "2022-04-07T04:16:55.955Z"
   },
   {
    "duration": 4,
    "start_time": "2022-04-07T04:16:58.821Z"
   },
   {
    "duration": 43,
    "start_time": "2022-04-07T04:16:58.826Z"
   },
   {
    "duration": 12,
    "start_time": "2022-04-07T04:16:58.870Z"
   },
   {
    "duration": 4,
    "start_time": "2022-04-07T04:16:58.884Z"
   },
   {
    "duration": 54,
    "start_time": "2022-04-07T04:16:58.890Z"
   },
   {
    "duration": 13,
    "start_time": "2022-04-07T04:16:58.945Z"
   },
   {
    "duration": 17,
    "start_time": "2022-04-07T04:16:58.959Z"
   },
   {
    "duration": 0,
    "start_time": "2022-04-07T04:16:58.978Z"
   },
   {
    "duration": 0,
    "start_time": "2022-04-07T04:16:58.979Z"
   },
   {
    "duration": 0,
    "start_time": "2022-04-07T04:16:58.980Z"
   },
   {
    "duration": 0,
    "start_time": "2022-04-07T04:16:58.981Z"
   },
   {
    "duration": 0,
    "start_time": "2022-04-07T04:16:58.982Z"
   },
   {
    "duration": 0,
    "start_time": "2022-04-07T04:16:58.983Z"
   },
   {
    "duration": 0,
    "start_time": "2022-04-07T04:16:58.984Z"
   },
   {
    "duration": 0,
    "start_time": "2022-04-07T04:16:58.985Z"
   },
   {
    "duration": 0,
    "start_time": "2022-04-07T04:16:58.986Z"
   },
   {
    "duration": 0,
    "start_time": "2022-04-07T04:16:58.986Z"
   },
   {
    "duration": 0,
    "start_time": "2022-04-07T04:16:58.987Z"
   },
   {
    "duration": 0,
    "start_time": "2022-04-07T04:16:58.988Z"
   },
   {
    "duration": 0,
    "start_time": "2022-04-07T04:16:58.989Z"
   },
   {
    "duration": 0,
    "start_time": "2022-04-07T04:16:58.990Z"
   },
   {
    "duration": 0,
    "start_time": "2022-04-07T04:16:58.991Z"
   },
   {
    "duration": 0,
    "start_time": "2022-04-07T04:16:58.992Z"
   },
   {
    "duration": 0,
    "start_time": "2022-04-07T04:16:58.993Z"
   },
   {
    "duration": 8,
    "start_time": "2022-04-07T04:19:06.680Z"
   },
   {
    "duration": 9,
    "start_time": "2022-04-07T04:19:09.533Z"
   },
   {
    "duration": 4,
    "start_time": "2022-04-07T04:19:15.558Z"
   },
   {
    "duration": 50,
    "start_time": "2022-04-07T04:19:15.564Z"
   },
   {
    "duration": 12,
    "start_time": "2022-04-07T04:19:15.615Z"
   },
   {
    "duration": 12,
    "start_time": "2022-04-07T04:19:15.629Z"
   },
   {
    "duration": 11,
    "start_time": "2022-04-07T04:19:15.643Z"
   },
   {
    "duration": 8,
    "start_time": "2022-04-07T04:19:15.656Z"
   },
   {
    "duration": 10,
    "start_time": "2022-04-07T04:19:15.665Z"
   },
   {
    "duration": 16,
    "start_time": "2022-04-07T04:19:15.676Z"
   },
   {
    "duration": 11,
    "start_time": "2022-04-07T04:19:15.693Z"
   },
   {
    "duration": 36,
    "start_time": "2022-04-07T04:19:15.706Z"
   },
   {
    "duration": 12,
    "start_time": "2022-04-07T04:19:15.743Z"
   },
   {
    "duration": 28,
    "start_time": "2022-04-07T04:19:15.757Z"
   },
   {
    "duration": 779,
    "start_time": "2022-04-07T04:19:15.787Z"
   },
   {
    "duration": 5571,
    "start_time": "2022-04-07T04:19:16.568Z"
   },
   {
    "duration": 200,
    "start_time": "2022-04-07T04:19:22.141Z"
   },
   {
    "duration": 99,
    "start_time": "2022-04-07T04:19:22.343Z"
   },
   {
    "duration": 2406,
    "start_time": "2022-04-07T04:19:22.443Z"
   },
   {
    "duration": 38962,
    "start_time": "2022-04-07T04:19:24.851Z"
   },
   {
    "duration": 123,
    "start_time": "2022-04-07T04:20:03.815Z"
   },
   {
    "duration": 203,
    "start_time": "2022-04-07T04:20:03.941Z"
   },
   {
    "duration": 197,
    "start_time": "2022-04-07T04:20:04.147Z"
   },
   {
    "duration": 94,
    "start_time": "2022-04-07T04:20:04.347Z"
   },
   {
    "duration": 1006,
    "start_time": "2022-04-07T04:20:04.443Z"
   },
   {
    "duration": 29710,
    "start_time": "2022-04-07T04:20:05.540Z"
   },
   {
    "duration": 29510,
    "start_time": "2022-04-07T04:21:04.397Z"
   },
   {
    "duration": 4,
    "start_time": "2022-04-07T04:21:39.567Z"
   },
   {
    "duration": 45,
    "start_time": "2022-04-07T04:21:39.573Z"
   },
   {
    "duration": 13,
    "start_time": "2022-04-07T04:21:39.619Z"
   },
   {
    "duration": 9,
    "start_time": "2022-04-07T04:21:39.633Z"
   },
   {
    "duration": 8,
    "start_time": "2022-04-07T04:21:39.644Z"
   },
   {
    "duration": 9,
    "start_time": "2022-04-07T04:21:39.653Z"
   },
   {
    "duration": 10,
    "start_time": "2022-04-07T04:21:39.663Z"
   },
   {
    "duration": 19,
    "start_time": "2022-04-07T04:21:39.675Z"
   },
   {
    "duration": 9,
    "start_time": "2022-04-07T04:21:39.696Z"
   },
   {
    "duration": 32,
    "start_time": "2022-04-07T04:21:39.707Z"
   },
   {
    "duration": 12,
    "start_time": "2022-04-07T04:21:39.740Z"
   },
   {
    "duration": 29,
    "start_time": "2022-04-07T04:21:39.754Z"
   },
   {
    "duration": 777,
    "start_time": "2022-04-07T04:21:39.785Z"
   },
   {
    "duration": 5587,
    "start_time": "2022-04-07T04:21:40.565Z"
   },
   {
    "duration": 187,
    "start_time": "2022-04-07T04:21:46.154Z"
   },
   {
    "duration": 95,
    "start_time": "2022-04-07T04:21:46.347Z"
   },
   {
    "duration": 2520,
    "start_time": "2022-04-07T04:21:46.444Z"
   },
   {
    "duration": 29519,
    "start_time": "2022-04-07T04:21:48.966Z"
   },
   {
    "duration": 57,
    "start_time": "2022-04-07T04:22:18.487Z"
   },
   {
    "duration": 200,
    "start_time": "2022-04-07T04:22:18.546Z"
   },
   {
    "duration": 207,
    "start_time": "2022-04-07T04:22:18.748Z"
   },
   {
    "duration": 6,
    "start_time": "2022-04-07T04:22:19.040Z"
   },
   {
    "duration": 608,
    "start_time": "2022-04-07T04:22:19.138Z"
   },
   {
    "duration": 29362,
    "start_time": "2022-04-07T04:22:19.748Z"
   },
   {
    "duration": 260,
    "start_time": "2022-04-07T04:23:32.342Z"
   },
   {
    "duration": 258,
    "start_time": "2022-04-07T04:24:43.600Z"
   },
   {
    "duration": 13,
    "start_time": "2022-04-07T05:00:23.503Z"
   },
   {
    "duration": 9,
    "start_time": "2022-04-07T05:01:12.886Z"
   },
   {
    "duration": 12,
    "start_time": "2022-04-07T05:01:44.830Z"
   },
   {
    "duration": 12,
    "start_time": "2022-04-07T05:01:56.539Z"
   },
   {
    "duration": 78,
    "start_time": "2022-04-07T09:52:53.704Z"
   },
   {
    "duration": 1840,
    "start_time": "2022-04-07T10:35:54.801Z"
   },
   {
    "duration": 70,
    "start_time": "2022-04-07T10:35:56.644Z"
   },
   {
    "duration": 22,
    "start_time": "2022-04-07T10:35:56.717Z"
   },
   {
    "duration": 43,
    "start_time": "2022-04-07T10:35:56.743Z"
   },
   {
    "duration": 8,
    "start_time": "2022-04-07T10:35:56.788Z"
   },
   {
    "duration": 23,
    "start_time": "2022-04-07T10:35:56.798Z"
   },
   {
    "duration": 12,
    "start_time": "2022-04-07T10:35:56.824Z"
   },
   {
    "duration": 43,
    "start_time": "2022-04-07T10:35:56.839Z"
   },
   {
    "duration": 15,
    "start_time": "2022-04-07T10:35:56.885Z"
   },
   {
    "duration": 42,
    "start_time": "2022-04-07T10:35:56.903Z"
   },
   {
    "duration": 1144,
    "start_time": "2022-04-07T10:35:56.973Z"
   },
   {
    "duration": 8835,
    "start_time": "2022-04-07T10:35:58.119Z"
   },
   {
    "duration": 428,
    "start_time": "2022-04-07T10:36:06.957Z"
   },
   {
    "duration": 3933,
    "start_time": "2022-04-07T10:36:07.388Z"
   },
   {
    "duration": 57373,
    "start_time": "2022-04-07T10:36:11.324Z"
   },
   {
    "duration": 82,
    "start_time": "2022-04-07T10:37:08.699Z"
   },
   {
    "duration": 296,
    "start_time": "2022-04-07T10:37:08.786Z"
   },
   {
    "duration": 202,
    "start_time": "2022-04-07T10:37:09.087Z"
   },
   {
    "duration": 11,
    "start_time": "2022-04-07T10:37:09.377Z"
   },
   {
    "duration": 398,
    "start_time": "2022-04-07T10:37:09.469Z"
   },
   {
    "duration": 2989,
    "start_time": "2022-04-07T11:03:31.736Z"
   },
   {
    "duration": 58,
    "start_time": "2022-04-07T11:03:36.456Z"
   },
   {
    "duration": 21,
    "start_time": "2022-04-07T11:03:40.002Z"
   },
   {
    "duration": 253,
    "start_time": "2022-04-07T11:04:29.485Z"
   },
   {
    "duration": 193,
    "start_time": "2022-04-07T11:04:41.739Z"
   },
   {
    "duration": 10,
    "start_time": "2022-04-07T11:04:47.263Z"
   },
   {
    "duration": 180,
    "start_time": "2022-04-07T11:04:53.700Z"
   },
   {
    "duration": 6,
    "start_time": "2022-04-07T11:06:07.123Z"
   },
   {
    "duration": 8,
    "start_time": "2022-04-07T11:06:29.899Z"
   },
   {
    "duration": 18,
    "start_time": "2022-04-07T11:06:58.680Z"
   },
   {
    "duration": 20,
    "start_time": "2022-04-07T11:07:31.089Z"
   },
   {
    "duration": 26,
    "start_time": "2022-04-07T11:07:31.616Z"
   },
   {
    "duration": 16,
    "start_time": "2022-04-07T11:08:22.518Z"
   },
   {
    "duration": 18,
    "start_time": "2022-04-07T11:08:33.915Z"
   },
   {
    "duration": 44,
    "start_time": "2022-04-07T11:09:25.378Z"
   },
   {
    "duration": 1104,
    "start_time": "2022-04-07T11:12:23.105Z"
   },
   {
    "duration": 8542,
    "start_time": "2022-04-07T11:12:36.234Z"
   },
   {
    "duration": 242,
    "start_time": "2022-04-07T11:12:55.026Z"
   },
   {
    "duration": 3673,
    "start_time": "2022-04-07T11:15:59.584Z"
   },
   {
    "duration": 54602,
    "start_time": "2022-04-07T11:16:21.537Z"
   },
   {
    "duration": 43,
    "start_time": "2022-04-07T11:17:23.532Z"
   },
   {
    "duration": 113,
    "start_time": "2022-04-07T11:18:33.656Z"
   },
   {
    "duration": 123,
    "start_time": "2022-04-07T11:18:35.246Z"
   },
   {
    "duration": 5,
    "start_time": "2022-04-07T11:18:45.695Z"
   },
   {
    "duration": 375,
    "start_time": "2022-04-07T11:18:49.237Z"
   },
   {
    "duration": 44,
    "start_time": "2022-04-07T18:10:24.712Z"
   },
   {
    "duration": 1781,
    "start_time": "2022-04-07T18:10:28.291Z"
   },
   {
    "duration": 47,
    "start_time": "2022-04-07T18:10:30.074Z"
   },
   {
    "duration": 13,
    "start_time": "2022-04-07T18:10:30.123Z"
   },
   {
    "duration": 114,
    "start_time": "2022-04-07T18:10:30.137Z"
   },
   {
    "duration": 8,
    "start_time": "2022-04-07T18:10:30.253Z"
   },
   {
    "duration": 120,
    "start_time": "2022-04-07T18:10:30.262Z"
   },
   {
    "duration": 5,
    "start_time": "2022-04-07T18:10:30.384Z"
   },
   {
    "duration": 6,
    "start_time": "2022-04-07T18:10:30.391Z"
   },
   {
    "duration": 22,
    "start_time": "2022-04-07T18:10:30.399Z"
   },
   {
    "duration": 10,
    "start_time": "2022-04-07T18:10:30.422Z"
   },
   {
    "duration": 15,
    "start_time": "2022-04-07T18:10:30.433Z"
   },
   {
    "duration": 25,
    "start_time": "2022-04-07T18:10:30.449Z"
   },
   {
    "duration": 12,
    "start_time": "2022-04-07T18:10:30.476Z"
   },
   {
    "duration": 32,
    "start_time": "2022-04-07T18:10:30.491Z"
   },
   {
    "duration": 767,
    "start_time": "2022-04-07T18:10:30.524Z"
   },
   {
    "duration": 5444,
    "start_time": "2022-04-07T18:10:31.293Z"
   },
   {
    "duration": 150,
    "start_time": "2022-04-07T18:10:36.739Z"
   },
   {
    "duration": 5,
    "start_time": "2022-04-07T18:10:36.982Z"
   },
   {
    "duration": 2550,
    "start_time": "2022-04-07T18:10:36.989Z"
   },
   {
    "duration": 37417,
    "start_time": "2022-04-07T18:10:39.540Z"
   },
   {
    "duration": 128,
    "start_time": "2022-04-07T18:11:16.959Z"
   },
   {
    "duration": 217,
    "start_time": "2022-04-07T18:11:17.088Z"
   },
   {
    "duration": 184,
    "start_time": "2022-04-07T18:11:17.307Z"
   },
   {
    "duration": 192,
    "start_time": "2022-04-07T18:11:17.493Z"
   },
   {
    "duration": 260,
    "start_time": "2022-04-07T18:11:17.687Z"
   },
   {
    "duration": 777,
    "start_time": "2022-04-07T18:26:36.443Z"
   },
   {
    "duration": 710,
    "start_time": "2022-04-07T18:29:43.238Z"
   },
   {
    "duration": 3,
    "start_time": "2022-04-07T18:29:52.640Z"
   },
   {
    "duration": 47,
    "start_time": "2022-04-07T18:29:52.646Z"
   },
   {
    "duration": 13,
    "start_time": "2022-04-07T18:29:52.696Z"
   },
   {
    "duration": 119,
    "start_time": "2022-04-07T18:29:52.710Z"
   },
   {
    "duration": 6,
    "start_time": "2022-04-07T18:29:52.832Z"
   },
   {
    "duration": 119,
    "start_time": "2022-04-07T18:29:52.840Z"
   },
   {
    "duration": 5,
    "start_time": "2022-04-07T18:29:52.961Z"
   },
   {
    "duration": 14,
    "start_time": "2022-04-07T18:29:52.967Z"
   },
   {
    "duration": 12,
    "start_time": "2022-04-07T18:29:52.983Z"
   },
   {
    "duration": 9,
    "start_time": "2022-04-07T18:29:52.997Z"
   },
   {
    "duration": 9,
    "start_time": "2022-04-07T18:29:53.009Z"
   },
   {
    "duration": 10,
    "start_time": "2022-04-07T18:29:53.020Z"
   },
   {
    "duration": 11,
    "start_time": "2022-04-07T18:29:53.031Z"
   },
   {
    "duration": 62,
    "start_time": "2022-04-07T18:29:53.043Z"
   },
   {
    "duration": 835,
    "start_time": "2022-04-07T18:29:57.603Z"
   },
   {
    "duration": 726,
    "start_time": "2022-04-07T18:40:18.974Z"
   },
   {
    "duration": 739,
    "start_time": "2022-04-07T18:40:30.501Z"
   },
   {
    "duration": 5506,
    "start_time": "2022-04-07T18:41:07.156Z"
   },
   {
    "duration": 719,
    "start_time": "2022-04-07T18:42:22.432Z"
   },
   {
    "duration": 5470,
    "start_time": "2022-04-07T18:42:25.247Z"
   },
   {
    "duration": 139,
    "start_time": "2022-04-07T18:42:38.642Z"
   },
   {
    "duration": 2437,
    "start_time": "2022-04-07T18:54:24.087Z"
   },
   {
    "duration": 82,
    "start_time": "2022-04-07T18:55:27.508Z"
   },
   {
    "duration": 17,
    "start_time": "2022-04-07T18:55:46.306Z"
   },
   {
    "duration": 88,
    "start_time": "2022-04-07T18:55:53.502Z"
   },
   {
    "duration": 45,
    "start_time": "2022-04-07T18:56:02.158Z"
   },
   {
    "duration": 38,
    "start_time": "2022-04-07T18:56:39.053Z"
   },
   {
    "duration": 56,
    "start_time": "2022-04-07T18:56:47.533Z"
   },
   {
    "duration": 91,
    "start_time": "2022-04-07T18:56:51.695Z"
   },
   {
    "duration": 79,
    "start_time": "2022-04-07T18:56:58.909Z"
   },
   {
    "duration": 25,
    "start_time": "2022-04-07T18:58:10.604Z"
   },
   {
    "duration": 48,
    "start_time": "2022-04-07T18:58:18.634Z"
   },
   {
    "duration": 28,
    "start_time": "2022-04-07T18:58:23.960Z"
   },
   {
    "duration": 110,
    "start_time": "2022-04-07T18:58:31.177Z"
   },
   {
    "duration": 29,
    "start_time": "2022-04-07T18:58:36.555Z"
   },
   {
    "duration": 17,
    "start_time": "2022-04-07T18:59:26.391Z"
   },
   {
    "duration": 57,
    "start_time": "2022-04-07T18:59:35.239Z"
   },
   {
    "duration": 91,
    "start_time": "2022-04-07T18:59:45.991Z"
   },
   {
    "duration": 107,
    "start_time": "2022-04-07T18:59:51.174Z"
   },
   {
    "duration": 79,
    "start_time": "2022-04-07T18:59:55.911Z"
   },
   {
    "duration": 33,
    "start_time": "2022-04-07T19:00:01.656Z"
   },
   {
    "duration": 166,
    "start_time": "2022-04-07T19:00:09.526Z"
   },
   {
    "duration": 96,
    "start_time": "2022-04-07T19:00:18.487Z"
   },
   {
    "duration": 86,
    "start_time": "2022-04-07T19:00:58.695Z"
   },
   {
    "duration": 3342,
    "start_time": "2022-04-07T19:03:57.510Z"
   },
   {
    "duration": 1548,
    "start_time": "2022-04-08T03:29:23.362Z"
   },
   {
    "duration": 52,
    "start_time": "2022-04-08T03:29:24.912Z"
   },
   {
    "duration": 14,
    "start_time": "2022-04-08T03:29:24.965Z"
   },
   {
    "duration": 132,
    "start_time": "2022-04-08T03:29:24.981Z"
   },
   {
    "duration": 7,
    "start_time": "2022-04-08T03:29:25.115Z"
   },
   {
    "duration": 125,
    "start_time": "2022-04-08T03:29:25.124Z"
   },
   {
    "duration": 4,
    "start_time": "2022-04-08T03:29:25.251Z"
   },
   {
    "duration": 11,
    "start_time": "2022-04-08T03:29:25.256Z"
   },
   {
    "duration": 17,
    "start_time": "2022-04-08T03:29:25.269Z"
   },
   {
    "duration": 10,
    "start_time": "2022-04-08T03:29:25.288Z"
   },
   {
    "duration": 12,
    "start_time": "2022-04-08T03:29:25.300Z"
   },
   {
    "duration": 29,
    "start_time": "2022-04-08T03:29:25.338Z"
   },
   {
    "duration": 13,
    "start_time": "2022-04-08T03:29:25.368Z"
   },
   {
    "duration": 31,
    "start_time": "2022-04-08T03:29:25.382Z"
   },
   {
    "duration": 769,
    "start_time": "2022-04-08T03:29:25.415Z"
   },
   {
    "duration": 5644,
    "start_time": "2022-04-08T03:29:26.186Z"
   },
   {
    "duration": 212,
    "start_time": "2022-04-08T03:29:31.832Z"
   },
   {
    "duration": 2556,
    "start_time": "2022-04-08T03:29:32.046Z"
   },
   {
    "duration": 36417,
    "start_time": "2022-04-08T03:29:34.604Z"
   },
   {
    "duration": 36,
    "start_time": "2022-04-08T03:30:11.023Z"
   },
   {
    "duration": 299,
    "start_time": "2022-04-08T03:30:11.139Z"
   },
   {
    "duration": 199,
    "start_time": "2022-04-08T03:30:11.440Z"
   },
   {
    "duration": 97,
    "start_time": "2022-04-08T03:30:11.642Z"
   },
   {
    "duration": 273,
    "start_time": "2022-04-08T03:30:11.740Z"
   },
   {
    "duration": 2455,
    "start_time": "2022-04-08T03:34:10.051Z"
   },
   {
    "duration": 4,
    "start_time": "2022-04-08T03:43:46.980Z"
   },
   {
    "duration": 56,
    "start_time": "2022-04-08T03:43:46.986Z"
   },
   {
    "duration": 12,
    "start_time": "2022-04-08T03:43:47.044Z"
   },
   {
    "duration": 124,
    "start_time": "2022-04-08T03:43:47.058Z"
   },
   {
    "duration": 7,
    "start_time": "2022-04-08T03:43:47.185Z"
   },
   {
    "duration": 126,
    "start_time": "2022-04-08T03:43:47.194Z"
   },
   {
    "duration": 4,
    "start_time": "2022-04-08T03:43:47.322Z"
   },
   {
    "duration": 12,
    "start_time": "2022-04-08T03:43:47.327Z"
   },
   {
    "duration": 16,
    "start_time": "2022-04-08T03:43:47.341Z"
   },
   {
    "duration": 9,
    "start_time": "2022-04-08T03:43:47.359Z"
   },
   {
    "duration": 12,
    "start_time": "2022-04-08T03:43:47.370Z"
   },
   {
    "duration": 15,
    "start_time": "2022-04-08T03:43:47.383Z"
   },
   {
    "duration": 37,
    "start_time": "2022-04-08T03:43:47.400Z"
   },
   {
    "duration": 31,
    "start_time": "2022-04-08T03:43:47.441Z"
   },
   {
    "duration": 781,
    "start_time": "2022-04-08T03:43:47.474Z"
   },
   {
    "duration": 5723,
    "start_time": "2022-04-08T03:43:48.257Z"
   },
   {
    "duration": 257,
    "start_time": "2022-04-08T03:43:53.982Z"
   },
   {
    "duration": 2618,
    "start_time": "2022-04-08T03:43:54.242Z"
   },
   {
    "duration": 36703,
    "start_time": "2022-04-08T03:43:56.862Z"
   },
   {
    "duration": 80,
    "start_time": "2022-04-08T03:44:33.567Z"
   },
   {
    "duration": 4,
    "start_time": "2022-04-08T03:44:33.739Z"
   },
   {
    "duration": 46,
    "start_time": "2022-04-08T03:44:33.744Z"
   },
   {
    "duration": 423,
    "start_time": "2022-04-08T03:44:33.792Z"
   },
   {
    "duration": 131,
    "start_time": "2022-04-08T03:44:34.216Z"
   },
   {
    "duration": 207,
    "start_time": "2022-04-08T03:44:34.440Z"
   },
   {
    "duration": 192,
    "start_time": "2022-04-08T03:44:34.747Z"
   },
   {
    "duration": 102,
    "start_time": "2022-04-08T03:44:34.942Z"
   },
   {
    "duration": 263,
    "start_time": "2022-04-08T03:44:35.046Z"
   },
   {
    "duration": 48,
    "start_time": "2022-04-08T03:46:04.576Z"
   },
   {
    "duration": 48,
    "start_time": "2022-04-08T03:46:06.622Z"
   },
   {
    "duration": 4,
    "start_time": "2022-04-08T03:46:25.271Z"
   },
   {
    "duration": 52,
    "start_time": "2022-04-08T03:46:25.277Z"
   },
   {
    "duration": 12,
    "start_time": "2022-04-08T03:46:25.331Z"
   },
   {
    "duration": 108,
    "start_time": "2022-04-08T03:46:25.345Z"
   },
   {
    "duration": 7,
    "start_time": "2022-04-08T03:46:25.455Z"
   },
   {
    "duration": 120,
    "start_time": "2022-04-08T03:46:25.463Z"
   },
   {
    "duration": 4,
    "start_time": "2022-04-08T03:46:25.585Z"
   },
   {
    "duration": 8,
    "start_time": "2022-04-08T03:46:25.591Z"
   },
   {
    "duration": 16,
    "start_time": "2022-04-08T03:46:25.601Z"
   },
   {
    "duration": 24,
    "start_time": "2022-04-08T03:46:25.620Z"
   },
   {
    "duration": 10,
    "start_time": "2022-04-08T03:46:25.646Z"
   },
   {
    "duration": 13,
    "start_time": "2022-04-08T03:46:25.658Z"
   },
   {
    "duration": 11,
    "start_time": "2022-04-08T03:46:25.672Z"
   },
   {
    "duration": 58,
    "start_time": "2022-04-08T03:46:25.684Z"
   },
   {
    "duration": 773,
    "start_time": "2022-04-08T03:46:25.744Z"
   },
   {
    "duration": 5733,
    "start_time": "2022-04-08T03:46:26.519Z"
   },
   {
    "duration": 385,
    "start_time": "2022-04-08T03:46:32.253Z"
   },
   {
    "duration": 2537,
    "start_time": "2022-04-08T03:46:32.639Z"
   },
   {
    "duration": 36613,
    "start_time": "2022-04-08T03:46:35.178Z"
   },
   {
    "duration": 54,
    "start_time": "2022-04-08T03:47:11.793Z"
   },
   {
    "duration": 5,
    "start_time": "2022-04-08T03:47:11.940Z"
   },
   {
    "duration": 47,
    "start_time": "2022-04-08T03:47:20.805Z"
   },
   {
    "duration": 48,
    "start_time": "2022-04-08T03:47:23.090Z"
   },
   {
    "duration": 39,
    "start_time": "2022-04-08T03:47:37.383Z"
   },
   {
    "duration": 36,
    "start_time": "2022-04-08T03:47:45.515Z"
   },
   {
    "duration": 39,
    "start_time": "2022-04-08T03:47:53.462Z"
   },
   {
    "duration": 41,
    "start_time": "2022-04-08T03:47:59.337Z"
   },
   {
    "duration": 41,
    "start_time": "2022-04-08T03:48:05.779Z"
   },
   {
    "duration": 44,
    "start_time": "2022-04-08T03:48:11.824Z"
   },
   {
    "duration": 45,
    "start_time": "2022-04-08T03:48:25.240Z"
   },
   {
    "duration": 64,
    "start_time": "2022-04-08T03:48:33.710Z"
   },
   {
    "duration": 51,
    "start_time": "2022-04-08T03:48:44.104Z"
   },
   {
    "duration": 34,
    "start_time": "2022-04-08T03:48:51.324Z"
   },
   {
    "duration": 37,
    "start_time": "2022-04-08T03:48:57.201Z"
   },
   {
    "duration": 40,
    "start_time": "2022-04-08T03:49:01.897Z"
   },
   {
    "duration": 41,
    "start_time": "2022-04-08T03:49:23.202Z"
   },
   {
    "duration": 140,
    "start_time": "2022-04-08T03:50:32.791Z"
   },
   {
    "duration": 301,
    "start_time": "2022-04-08T03:52:23.684Z"
   },
   {
    "duration": 382,
    "start_time": "2022-04-08T03:52:28.910Z"
   },
   {
    "duration": 368,
    "start_time": "2022-04-08T03:52:43.803Z"
   },
   {
    "duration": 408,
    "start_time": "2022-04-08T03:52:48.017Z"
   },
   {
    "duration": 414,
    "start_time": "2022-04-08T03:52:51.724Z"
   },
   {
    "duration": 434,
    "start_time": "2022-04-08T03:52:56.343Z"
   },
   {
    "duration": 1379,
    "start_time": "2022-04-08T03:53:02.405Z"
   },
   {
    "duration": 28517,
    "start_time": "2022-04-08T03:53:08.952Z"
   },
   {
    "duration": 40,
    "start_time": "2022-04-08T03:53:51.361Z"
   },
   {
    "duration": 369,
    "start_time": "2022-04-08T03:54:04.849Z"
   },
   {
    "duration": 4,
    "start_time": "2022-04-08T03:55:44.460Z"
   },
   {
    "duration": 46,
    "start_time": "2022-04-08T03:55:44.465Z"
   },
   {
    "duration": 13,
    "start_time": "2022-04-08T03:55:44.512Z"
   },
   {
    "duration": 118,
    "start_time": "2022-04-08T03:55:44.528Z"
   },
   {
    "duration": 6,
    "start_time": "2022-04-08T03:55:44.648Z"
   },
   {
    "duration": 128,
    "start_time": "2022-04-08T03:55:44.656Z"
   },
   {
    "duration": 4,
    "start_time": "2022-04-08T03:55:44.786Z"
   },
   {
    "duration": 7,
    "start_time": "2022-04-08T03:55:44.792Z"
   },
   {
    "duration": 14,
    "start_time": "2022-04-08T03:55:44.800Z"
   },
   {
    "duration": 26,
    "start_time": "2022-04-08T03:55:44.817Z"
   },
   {
    "duration": 11,
    "start_time": "2022-04-08T03:55:44.844Z"
   },
   {
    "duration": 12,
    "start_time": "2022-04-08T03:55:44.857Z"
   },
   {
    "duration": 11,
    "start_time": "2022-04-08T03:55:44.871Z"
   },
   {
    "duration": 60,
    "start_time": "2022-04-08T03:55:44.884Z"
   },
   {
    "duration": 776,
    "start_time": "2022-04-08T03:55:44.946Z"
   },
   {
    "duration": 5648,
    "start_time": "2022-04-08T03:55:45.724Z"
   },
   {
    "duration": 265,
    "start_time": "2022-04-08T03:55:51.373Z"
   },
   {
    "duration": 2521,
    "start_time": "2022-04-08T03:55:51.641Z"
   },
   {
    "duration": 37391,
    "start_time": "2022-04-08T03:55:54.164Z"
   },
   {
    "duration": 281,
    "start_time": "2022-04-08T03:56:31.557Z"
   },
   {
    "duration": 4,
    "start_time": "2022-04-08T03:56:31.840Z"
   },
   {
    "duration": 51,
    "start_time": "2022-04-08T03:56:31.845Z"
   },
   {
    "duration": 392,
    "start_time": "2022-04-08T03:56:31.898Z"
   },
   {
    "duration": 154,
    "start_time": "2022-04-08T03:56:32.292Z"
   },
   {
    "duration": 198,
    "start_time": "2022-04-08T03:56:32.539Z"
   },
   {
    "duration": 200,
    "start_time": "2022-04-08T03:56:32.739Z"
   },
   {
    "duration": 6,
    "start_time": "2022-04-08T03:56:32.941Z"
   },
   {
    "duration": 272,
    "start_time": "2022-04-08T03:56:33.040Z"
   },
   {
    "duration": 43,
    "start_time": "2022-04-08T04:06:55.261Z"
   },
   {
    "duration": 46,
    "start_time": "2022-04-08T04:07:07.050Z"
   },
   {
    "duration": 49,
    "start_time": "2022-04-08T04:07:14.114Z"
   },
   {
    "duration": 42,
    "start_time": "2022-04-08T04:07:21.486Z"
   },
   {
    "duration": 357,
    "start_time": "2022-04-08T04:07:40.382Z"
   },
   {
    "duration": 400,
    "start_time": "2022-04-08T04:07:46.617Z"
   },
   {
    "duration": 425,
    "start_time": "2022-04-08T04:07:52.279Z"
   },
   {
    "duration": 385,
    "start_time": "2022-04-08T04:07:57.905Z"
   },
   {
    "duration": 26,
    "start_time": "2022-04-08T04:12:36.754Z"
   },
   {
    "duration": 26,
    "start_time": "2022-04-08T04:12:48.607Z"
   },
   {
    "duration": 27,
    "start_time": "2022-04-08T04:12:52.437Z"
   },
   {
    "duration": 27,
    "start_time": "2022-04-08T04:12:59.718Z"
   },
   {
    "duration": 29,
    "start_time": "2022-04-08T04:13:02.973Z"
   },
   {
    "duration": 32,
    "start_time": "2022-04-08T04:13:08.290Z"
   },
   {
    "duration": 29,
    "start_time": "2022-04-08T04:13:11.907Z"
   },
   {
    "duration": 33,
    "start_time": "2022-04-08T04:13:17.397Z"
   },
   {
    "duration": 30,
    "start_time": "2022-04-08T04:13:20.906Z"
   },
   {
    "duration": 30,
    "start_time": "2022-04-08T04:13:24.539Z"
   },
   {
    "duration": 30,
    "start_time": "2022-04-08T04:13:27.723Z"
   },
   {
    "duration": 29,
    "start_time": "2022-04-08T04:13:33.348Z"
   },
   {
    "duration": 29,
    "start_time": "2022-04-08T04:13:36.648Z"
   },
   {
    "duration": 28,
    "start_time": "2022-04-08T04:13:39.276Z"
   },
   {
    "duration": 30,
    "start_time": "2022-04-08T04:13:42.981Z"
   },
   {
    "duration": 30,
    "start_time": "2022-04-08T04:13:46.020Z"
   },
   {
    "duration": 30,
    "start_time": "2022-04-08T04:13:53.493Z"
   },
   {
    "duration": 29,
    "start_time": "2022-04-08T04:13:56.553Z"
   },
   {
    "duration": 29,
    "start_time": "2022-04-08T04:14:09.381Z"
   },
   {
    "duration": 208,
    "start_time": "2022-04-08T04:15:14.646Z"
   },
   {
    "duration": 150,
    "start_time": "2022-04-08T04:15:23.114Z"
   },
   {
    "duration": 140,
    "start_time": "2022-04-08T04:15:31.387Z"
   },
   {
    "duration": 131,
    "start_time": "2022-04-08T04:15:41.975Z"
   },
   {
    "duration": 135,
    "start_time": "2022-04-08T04:15:45.765Z"
   },
   {
    "duration": 133,
    "start_time": "2022-04-08T04:15:54.034Z"
   },
   {
    "duration": 141,
    "start_time": "2022-04-08T04:15:58.979Z"
   },
   {
    "duration": 138,
    "start_time": "2022-04-08T04:16:03.950Z"
   },
   {
    "duration": 139,
    "start_time": "2022-04-08T04:16:12.297Z"
   },
   {
    "duration": 140,
    "start_time": "2022-04-08T04:16:16.912Z"
   },
   {
    "duration": 148,
    "start_time": "2022-04-08T04:16:23.053Z"
   },
   {
    "duration": 139,
    "start_time": "2022-04-08T04:16:31.360Z"
   },
   {
    "duration": 139,
    "start_time": "2022-04-08T04:16:35.202Z"
   },
   {
    "duration": 138,
    "start_time": "2022-04-08T04:16:42.506Z"
   },
   {
    "duration": 23,
    "start_time": "2022-04-08T04:16:51.234Z"
   },
   {
    "duration": 24,
    "start_time": "2022-04-08T04:16:55.535Z"
   },
   {
    "duration": 24,
    "start_time": "2022-04-08T04:17:07.649Z"
   },
   {
    "duration": 25,
    "start_time": "2022-04-08T04:17:10.575Z"
   },
   {
    "duration": 32,
    "start_time": "2022-04-08T04:17:14.388Z"
   },
   {
    "duration": 23,
    "start_time": "2022-04-08T04:17:19.258Z"
   },
   {
    "duration": 25,
    "start_time": "2022-04-08T04:17:23.287Z"
   },
   {
    "duration": 24,
    "start_time": "2022-04-08T04:17:26.767Z"
   },
   {
    "duration": 24,
    "start_time": "2022-04-08T04:17:30.052Z"
   },
   {
    "duration": 23,
    "start_time": "2022-04-08T04:17:33.400Z"
   },
   {
    "duration": 23,
    "start_time": "2022-04-08T04:17:38.861Z"
   },
   {
    "duration": 263,
    "start_time": "2022-04-08T04:17:54.673Z"
   },
   {
    "duration": 481,
    "start_time": "2022-04-08T04:18:09.902Z"
   },
   {
    "duration": 81,
    "start_time": "2022-04-08T04:19:00.559Z"
   },
   {
    "duration": 10,
    "start_time": "2022-04-08T04:23:23.780Z"
   },
   {
    "duration": 4,
    "start_time": "2022-04-08T04:23:29.249Z"
   },
   {
    "duration": 1575,
    "start_time": "2022-04-08T04:23:29.255Z"
   },
   {
    "duration": 13,
    "start_time": "2022-04-08T04:23:30.832Z"
   },
   {
    "duration": 124,
    "start_time": "2022-04-08T04:23:30.847Z"
   },
   {
    "duration": 7,
    "start_time": "2022-04-08T04:23:30.972Z"
   },
   {
    "duration": 221,
    "start_time": "2022-04-08T04:23:30.981Z"
   },
   {
    "duration": 4,
    "start_time": "2022-04-08T04:23:31.204Z"
   },
   {
    "duration": 16,
    "start_time": "2022-04-08T04:23:31.210Z"
   },
   {
    "duration": 35,
    "start_time": "2022-04-08T04:23:31.228Z"
   },
   {
    "duration": 13,
    "start_time": "2022-04-08T04:23:31.265Z"
   },
   {
    "duration": 15,
    "start_time": "2022-04-08T04:23:31.280Z"
   },
   {
    "duration": 40,
    "start_time": "2022-04-08T04:23:31.296Z"
   },
   {
    "duration": 13,
    "start_time": "2022-04-08T04:23:31.337Z"
   },
   {
    "duration": 36,
    "start_time": "2022-04-08T04:23:31.351Z"
   },
   {
    "duration": 793,
    "start_time": "2022-04-08T04:23:31.388Z"
   },
   {
    "duration": 5701,
    "start_time": "2022-04-08T04:23:32.183Z"
   },
   {
    "duration": 255,
    "start_time": "2022-04-08T04:23:37.886Z"
   },
   {
    "duration": 2587,
    "start_time": "2022-04-08T04:23:38.143Z"
   },
   {
    "duration": 36688,
    "start_time": "2022-04-08T04:23:40.731Z"
   },
   {
    "duration": 119,
    "start_time": "2022-04-08T04:24:17.420Z"
   },
   {
    "duration": 96,
    "start_time": "2022-04-08T04:24:17.542Z"
   },
   {
    "duration": 43,
    "start_time": "2022-04-08T04:24:17.640Z"
   },
   {
    "duration": 373,
    "start_time": "2022-04-08T04:24:17.685Z"
   },
   {
    "duration": 177,
    "start_time": "2022-04-08T04:24:18.061Z"
   },
   {
    "duration": 6,
    "start_time": "2022-04-08T04:24:18.241Z"
   },
   {
    "duration": 112,
    "start_time": "2022-04-08T04:24:18.249Z"
   },
   {
    "duration": 157,
    "start_time": "2022-04-08T04:24:18.363Z"
   },
   {
    "duration": 117,
    "start_time": "2022-04-08T04:24:18.522Z"
   },
   {
    "duration": 6,
    "start_time": "2022-04-08T04:24:18.642Z"
   },
   {
    "duration": 274,
    "start_time": "2022-04-08T04:24:18.739Z"
   },
   {
    "duration": 27,
    "start_time": "2022-04-08T04:29:17.916Z"
   },
   {
    "duration": 253,
    "start_time": "2022-04-08T04:29:38.474Z"
   },
   {
    "duration": 26,
    "start_time": "2022-04-08T04:29:51.196Z"
   },
   {
    "duration": 27,
    "start_time": "2022-04-08T04:30:05.230Z"
   },
   {
    "duration": 4,
    "start_time": "2022-04-08T04:31:49.374Z"
   },
   {
    "duration": 26,
    "start_time": "2022-04-08T04:31:53.977Z"
   },
   {
    "duration": 27,
    "start_time": "2022-04-08T04:31:56.620Z"
   },
   {
    "duration": 27,
    "start_time": "2022-04-08T04:31:57.374Z"
   },
   {
    "duration": 27,
    "start_time": "2022-04-08T04:31:57.820Z"
   },
   {
    "duration": 28,
    "start_time": "2022-04-08T04:31:58.173Z"
   },
   {
    "duration": 27,
    "start_time": "2022-04-08T04:31:58.418Z"
   },
   {
    "duration": 256,
    "start_time": "2022-04-08T04:32:06.905Z"
   },
   {
    "duration": 268,
    "start_time": "2022-04-08T04:32:12.665Z"
   },
   {
    "duration": 5,
    "start_time": "2022-04-08T04:35:00.380Z"
   },
   {
    "duration": 48,
    "start_time": "2022-04-08T04:35:00.386Z"
   },
   {
    "duration": 12,
    "start_time": "2022-04-08T04:35:00.436Z"
   },
   {
    "duration": 113,
    "start_time": "2022-04-08T04:35:00.450Z"
   },
   {
    "duration": 7,
    "start_time": "2022-04-08T04:35:00.564Z"
   },
   {
    "duration": 118,
    "start_time": "2022-04-08T04:35:00.573Z"
   },
   {
    "duration": 5,
    "start_time": "2022-04-08T04:35:00.693Z"
   },
   {
    "duration": 17,
    "start_time": "2022-04-08T04:35:00.699Z"
   },
   {
    "duration": 31,
    "start_time": "2022-04-08T04:35:00.718Z"
   },
   {
    "duration": 9,
    "start_time": "2022-04-08T04:35:00.752Z"
   },
   {
    "duration": 24,
    "start_time": "2022-04-08T04:35:00.763Z"
   },
   {
    "duration": 25,
    "start_time": "2022-04-08T04:35:00.789Z"
   },
   {
    "duration": 20,
    "start_time": "2022-04-08T04:35:00.816Z"
   },
   {
    "duration": 41,
    "start_time": "2022-04-08T04:35:00.838Z"
   },
   {
    "duration": 778,
    "start_time": "2022-04-08T04:35:00.881Z"
   },
   {
    "duration": 6009,
    "start_time": "2022-04-08T04:35:01.661Z"
   },
   {
    "duration": 275,
    "start_time": "2022-04-08T04:35:07.672Z"
   },
   {
    "duration": 2650,
    "start_time": "2022-04-08T04:35:08.039Z"
   },
   {
    "duration": 36422,
    "start_time": "2022-04-08T04:35:10.690Z"
   },
   {
    "duration": 127,
    "start_time": "2022-04-08T04:35:47.114Z"
   },
   {
    "duration": 95,
    "start_time": "2022-04-08T04:35:47.244Z"
   },
   {
    "duration": 41,
    "start_time": "2022-04-08T04:35:47.341Z"
   },
   {
    "duration": 358,
    "start_time": "2022-04-08T04:35:47.384Z"
   },
   {
    "duration": 94,
    "start_time": "2022-04-08T04:35:47.745Z"
   },
   {
    "duration": 4,
    "start_time": "2022-04-08T04:35:47.841Z"
   },
   {
    "duration": 116,
    "start_time": "2022-04-08T04:35:47.847Z"
   },
   {
    "duration": 143,
    "start_time": "2022-04-08T04:35:47.965Z"
   },
   {
    "duration": 126,
    "start_time": "2022-04-08T04:35:48.112Z"
   },
   {
    "duration": 6,
    "start_time": "2022-04-08T04:35:48.241Z"
   },
   {
    "duration": 464,
    "start_time": "2022-04-08T04:35:48.338Z"
   },
   {
    "duration": 473,
    "start_time": "2022-04-08T04:50:17.208Z"
   },
   {
    "duration": 355,
    "start_time": "2022-04-08T04:52:47.884Z"
   },
   {
    "duration": 2280,
    "start_time": "2022-04-08T15:21:45.437Z"
   },
   {
    "duration": 69,
    "start_time": "2022-04-08T15:21:47.720Z"
   },
   {
    "duration": 21,
    "start_time": "2022-04-08T15:21:47.791Z"
   },
   {
    "duration": 211,
    "start_time": "2022-04-08T15:21:47.814Z"
   },
   {
    "duration": 8,
    "start_time": "2022-04-08T15:21:48.028Z"
   },
   {
    "duration": 203,
    "start_time": "2022-04-08T15:21:48.038Z"
   },
   {
    "duration": 6,
    "start_time": "2022-04-08T15:21:48.244Z"
   },
   {
    "duration": 16,
    "start_time": "2022-04-08T15:21:48.252Z"
   },
   {
    "duration": 32,
    "start_time": "2022-04-08T15:21:48.270Z"
   },
   {
    "duration": 15,
    "start_time": "2022-04-08T15:21:48.306Z"
   },
   {
    "duration": 25,
    "start_time": "2022-04-08T15:21:48.323Z"
   },
   {
    "duration": 44,
    "start_time": "2022-04-08T15:21:48.350Z"
   },
   {
    "duration": 17,
    "start_time": "2022-04-08T15:21:48.396Z"
   },
   {
    "duration": 71,
    "start_time": "2022-04-08T15:21:48.416Z"
   },
   {
    "duration": 1199,
    "start_time": "2022-04-08T15:21:48.489Z"
   },
   {
    "duration": 9076,
    "start_time": "2022-04-08T15:21:49.691Z"
   },
   {
    "duration": 318,
    "start_time": "2022-04-08T15:21:58.769Z"
   },
   {
    "duration": 4017,
    "start_time": "2022-04-08T15:21:59.091Z"
   },
   {
    "duration": 59564,
    "start_time": "2022-04-08T15:22:03.110Z"
   },
   {
    "duration": 201,
    "start_time": "2022-04-08T15:23:02.684Z"
   },
   {
    "duration": 123,
    "start_time": "2022-04-08T15:23:02.889Z"
   },
   {
    "duration": 204,
    "start_time": "2022-04-08T15:23:03.015Z"
   },
   {
    "duration": 0,
    "start_time": "2022-04-08T15:23:03.221Z"
   },
   {
    "duration": 0,
    "start_time": "2022-04-08T15:23:03.223Z"
   },
   {
    "duration": 0,
    "start_time": "2022-04-08T15:23:03.225Z"
   },
   {
    "duration": 0,
    "start_time": "2022-04-08T15:23:03.227Z"
   },
   {
    "duration": 0,
    "start_time": "2022-04-08T15:23:03.228Z"
   },
   {
    "duration": 0,
    "start_time": "2022-04-08T15:23:03.230Z"
   },
   {
    "duration": 0,
    "start_time": "2022-04-08T15:23:03.232Z"
   },
   {
    "duration": 0,
    "start_time": "2022-04-08T15:23:03.233Z"
   },
   {
    "duration": 54,
    "start_time": "2022-04-08T15:26:59.533Z"
   },
   {
    "duration": 424,
    "start_time": "2022-04-08T15:27:05.420Z"
   },
   {
    "duration": 55,
    "start_time": "2022-04-08T15:27:14.447Z"
   },
   {
    "duration": 60,
    "start_time": "2022-04-08T15:27:19.685Z"
   },
   {
    "duration": 61,
    "start_time": "2022-04-08T15:27:24.515Z"
   },
   {
    "duration": 66,
    "start_time": "2022-04-08T15:27:28.924Z"
   },
   {
    "duration": 69,
    "start_time": "2022-04-08T15:27:33.325Z"
   },
   {
    "duration": 58,
    "start_time": "2022-04-08T15:27:37.373Z"
   },
   {
    "duration": 62,
    "start_time": "2022-04-08T15:28:42.813Z"
   },
   {
    "duration": 585,
    "start_time": "2022-04-08T15:28:42.878Z"
   },
   {
    "duration": 223,
    "start_time": "2022-04-08T15:28:43.466Z"
   },
   {
    "duration": 95,
    "start_time": "2022-04-08T15:28:43.693Z"
   },
   {
    "duration": 35,
    "start_time": "2022-04-08T15:28:43.791Z"
   },
   {
    "duration": 228,
    "start_time": "2022-04-08T15:28:43.828Z"
   },
   {
    "duration": 226,
    "start_time": "2022-04-08T15:28:44.059Z"
   },
   {
    "duration": 7,
    "start_time": "2022-04-08T15:28:44.287Z"
   },
   {
    "duration": 599,
    "start_time": "2022-04-08T15:28:44.296Z"
   },
   {
    "duration": 424,
    "start_time": "2022-04-08T15:30:11.880Z"
   },
   {
    "duration": 652,
    "start_time": "2022-04-08T15:31:25.978Z"
   },
   {
    "duration": 581,
    "start_time": "2022-04-08T15:31:32.366Z"
   },
   {
    "duration": 528,
    "start_time": "2022-04-08T15:31:38.532Z"
   },
   {
    "duration": 616,
    "start_time": "2022-04-08T15:31:44.233Z"
   },
   {
    "duration": 246,
    "start_time": "2022-04-08T15:34:35.838Z"
   },
   {
    "duration": 114,
    "start_time": "2022-04-08T15:35:05.177Z"
   },
   {
    "duration": 571,
    "start_time": "2022-04-08T15:35:56.928Z"
   },
   {
    "duration": 122,
    "start_time": "2022-04-08T16:05:12.562Z"
   },
   {
    "duration": 172,
    "start_time": "2022-04-08T16:05:28.013Z"
   },
   {
    "duration": 38,
    "start_time": "2022-04-08T16:05:36.480Z"
   },
   {
    "duration": 64,
    "start_time": "2022-04-08T16:06:41.325Z"
   },
   {
    "duration": 6,
    "start_time": "2022-04-08T16:06:58.844Z"
   },
   {
    "duration": 54,
    "start_time": "2022-04-08T16:06:58.857Z"
   },
   {
    "duration": 22,
    "start_time": "2022-04-08T16:06:58.914Z"
   },
   {
    "duration": 222,
    "start_time": "2022-04-08T16:06:58.938Z"
   },
   {
    "duration": 22,
    "start_time": "2022-04-08T16:06:59.164Z"
   },
   {
    "duration": 203,
    "start_time": "2022-04-08T16:06:59.188Z"
   },
   {
    "duration": 6,
    "start_time": "2022-04-08T16:06:59.393Z"
   },
   {
    "duration": 11,
    "start_time": "2022-04-08T16:06:59.401Z"
   },
   {
    "duration": 20,
    "start_time": "2022-04-08T16:06:59.414Z"
   },
   {
    "duration": 51,
    "start_time": "2022-04-08T16:06:59.437Z"
   },
   {
    "duration": 17,
    "start_time": "2022-04-08T16:06:59.492Z"
   },
   {
    "duration": 22,
    "start_time": "2022-04-08T16:06:59.511Z"
   },
   {
    "duration": 17,
    "start_time": "2022-04-08T16:06:59.535Z"
   },
   {
    "duration": 72,
    "start_time": "2022-04-08T16:06:59.554Z"
   },
   {
    "duration": 1208,
    "start_time": "2022-04-08T16:06:59.628Z"
   },
   {
    "duration": 9487,
    "start_time": "2022-04-08T16:07:00.838Z"
   },
   {
    "duration": 365,
    "start_time": "2022-04-08T16:07:10.327Z"
   },
   {
    "duration": 3935,
    "start_time": "2022-04-08T16:13:56.817Z"
   },
   {
    "duration": 60399,
    "start_time": "2022-04-08T16:14:04.985Z"
   },
   {
    "duration": 642,
    "start_time": "2022-04-08T16:15:05.387Z"
   },
   {
    "duration": 156,
    "start_time": "2022-04-08T16:15:06.032Z"
   },
   {
    "duration": 308,
    "start_time": "2022-04-08T16:15:06.192Z"
   },
   {
    "duration": 567,
    "start_time": "2022-04-08T16:24:56.337Z"
   },
   {
    "duration": 61,
    "start_time": "2022-04-08T16:31:03.971Z"
   },
   {
    "duration": 56,
    "start_time": "2022-04-08T16:31:09.769Z"
   },
   {
    "duration": 66,
    "start_time": "2022-04-08T16:31:14.307Z"
   },
   {
    "duration": 63,
    "start_time": "2022-04-08T16:31:18.076Z"
   },
   {
    "duration": 59,
    "start_time": "2022-04-08T16:31:21.889Z"
   },
   {
    "duration": 55,
    "start_time": "2022-04-08T16:31:25.917Z"
   },
   {
    "duration": 57,
    "start_time": "2022-04-08T16:31:29.814Z"
   },
   {
    "duration": 51,
    "start_time": "2022-04-08T16:31:33.484Z"
   },
   {
    "duration": 55,
    "start_time": "2022-04-08T16:31:36.838Z"
   },
   {
    "duration": 86,
    "start_time": "2022-04-08T16:31:41.570Z"
   },
   {
    "duration": 670,
    "start_time": "2022-04-08T16:32:01.767Z"
   },
   {
    "duration": 700,
    "start_time": "2022-04-08T16:32:10.811Z"
   },
   {
    "duration": 739,
    "start_time": "2022-04-08T16:32:18.945Z"
   },
   {
    "duration": 693,
    "start_time": "2022-04-08T16:32:23.492Z"
   },
   {
    "duration": 176,
    "start_time": "2022-04-08T16:33:13.815Z"
   },
   {
    "duration": 209,
    "start_time": "2022-04-08T16:33:15.276Z"
   },
   {
    "duration": 106,
    "start_time": "2022-04-08T16:33:16.085Z"
   },
   {
    "duration": 240,
    "start_time": "2022-04-08T16:33:34.298Z"
   },
   {
    "duration": 71,
    "start_time": "2022-04-08T16:34:12.123Z"
   },
   {
    "duration": 102,
    "start_time": "2022-04-08T16:34:19.584Z"
   },
   {
    "duration": 233,
    "start_time": "2022-04-08T16:35:23.550Z"
   },
   {
    "duration": 35,
    "start_time": "2022-04-08T16:35:39.620Z"
   },
   {
    "duration": 51,
    "start_time": "2022-04-08T16:35:55.141Z"
   },
   {
    "duration": 69,
    "start_time": "2022-04-08T16:36:01.322Z"
   },
   {
    "duration": 64,
    "start_time": "2022-04-08T16:36:48.918Z"
   },
   {
    "duration": 60,
    "start_time": "2022-04-08T16:36:53.500Z"
   },
   {
    "duration": 65,
    "start_time": "2022-04-08T16:36:57.607Z"
   },
   {
    "duration": 7,
    "start_time": "2022-04-08T16:37:04.667Z"
   },
   {
    "duration": 86,
    "start_time": "2022-04-08T16:37:04.677Z"
   },
   {
    "duration": 23,
    "start_time": "2022-04-08T16:37:04.766Z"
   },
   {
    "duration": 224,
    "start_time": "2022-04-08T16:37:04.791Z"
   },
   {
    "duration": 10,
    "start_time": "2022-04-08T16:37:05.018Z"
   },
   {
    "duration": 232,
    "start_time": "2022-04-08T16:37:05.030Z"
   },
   {
    "duration": 6,
    "start_time": "2022-04-08T16:37:05.264Z"
   },
   {
    "duration": 43,
    "start_time": "2022-04-08T16:37:05.272Z"
   },
   {
    "duration": 43,
    "start_time": "2022-04-08T16:37:05.317Z"
   },
   {
    "duration": 33,
    "start_time": "2022-04-08T16:37:05.363Z"
   },
   {
    "duration": 25,
    "start_time": "2022-04-08T16:37:05.400Z"
   },
   {
    "duration": 27,
    "start_time": "2022-04-08T16:37:05.427Z"
   },
   {
    "duration": 30,
    "start_time": "2022-04-08T16:37:05.456Z"
   },
   {
    "duration": 47,
    "start_time": "2022-04-08T16:37:05.488Z"
   },
   {
    "duration": 1209,
    "start_time": "2022-04-08T16:37:05.537Z"
   },
   {
    "duration": 9511,
    "start_time": "2022-04-08T16:37:06.748Z"
   },
   {
    "duration": 323,
    "start_time": "2022-04-08T16:37:16.261Z"
   },
   {
    "duration": 3914,
    "start_time": "2022-04-08T16:37:16.586Z"
   },
   {
    "duration": 59934,
    "start_time": "2022-04-08T16:37:20.502Z"
   },
   {
    "duration": 150,
    "start_time": "2022-04-08T16:38:20.439Z"
   },
   {
    "duration": 98,
    "start_time": "2022-04-08T16:38:20.593Z"
   },
   {
    "duration": 63,
    "start_time": "2022-04-08T16:38:20.694Z"
   },
   {
    "duration": 739,
    "start_time": "2022-04-08T16:38:20.759Z"
   },
   {
    "duration": 186,
    "start_time": "2022-04-08T16:38:21.500Z"
   },
   {
    "duration": 96,
    "start_time": "2022-04-08T16:38:21.689Z"
   },
   {
    "duration": 35,
    "start_time": "2022-04-08T16:38:21.788Z"
   },
   {
    "duration": 270,
    "start_time": "2022-04-08T16:38:21.825Z"
   },
   {
    "duration": 188,
    "start_time": "2022-04-08T16:38:22.097Z"
   },
   {
    "duration": 96,
    "start_time": "2022-04-08T16:38:22.292Z"
   },
   {
    "duration": 607,
    "start_time": "2022-04-08T16:38:22.390Z"
   },
   {
    "duration": 1572,
    "start_time": "2022-04-09T13:50:05.502Z"
   },
   {
    "duration": 48,
    "start_time": "2022-04-09T13:50:07.076Z"
   },
   {
    "duration": 13,
    "start_time": "2022-04-09T13:50:07.126Z"
   },
   {
    "duration": 125,
    "start_time": "2022-04-09T13:50:07.141Z"
   },
   {
    "duration": 7,
    "start_time": "2022-04-09T13:50:07.268Z"
   },
   {
    "duration": 126,
    "start_time": "2022-04-09T13:50:07.277Z"
   },
   {
    "duration": 5,
    "start_time": "2022-04-09T13:50:07.405Z"
   },
   {
    "duration": 9,
    "start_time": "2022-04-09T13:50:07.412Z"
   },
   {
    "duration": 30,
    "start_time": "2022-04-09T13:50:07.423Z"
   },
   {
    "duration": 11,
    "start_time": "2022-04-09T13:50:07.456Z"
   },
   {
    "duration": 11,
    "start_time": "2022-04-09T13:50:07.468Z"
   },
   {
    "duration": 14,
    "start_time": "2022-04-09T13:50:07.481Z"
   },
   {
    "duration": 12,
    "start_time": "2022-04-09T13:50:07.497Z"
   },
   {
    "duration": 61,
    "start_time": "2022-04-09T13:50:07.511Z"
   },
   {
    "duration": 803,
    "start_time": "2022-04-09T13:50:07.574Z"
   },
   {
    "duration": 5777,
    "start_time": "2022-04-09T13:50:08.379Z"
   },
   {
    "duration": 293,
    "start_time": "2022-04-09T13:50:14.158Z"
   },
   {
    "duration": 2631,
    "start_time": "2022-04-09T13:50:14.453Z"
   },
   {
    "duration": 36645,
    "start_time": "2022-04-09T13:50:17.086Z"
   },
   {
    "duration": 116,
    "start_time": "2022-04-09T13:50:53.732Z"
   },
   {
    "duration": 6,
    "start_time": "2022-04-09T13:50:53.850Z"
   },
   {
    "duration": 40,
    "start_time": "2022-04-09T13:50:53.948Z"
   },
   {
    "duration": 415,
    "start_time": "2022-04-09T13:50:53.990Z"
   },
   {
    "duration": 144,
    "start_time": "2022-04-09T13:50:54.406Z"
   },
   {
    "duration": 96,
    "start_time": "2022-04-09T13:50:54.552Z"
   },
   {
    "duration": 25,
    "start_time": "2022-04-09T13:50:54.650Z"
   },
   {
    "duration": 176,
    "start_time": "2022-04-09T13:50:54.677Z"
   },
   {
    "duration": 93,
    "start_time": "2022-04-09T13:50:54.856Z"
   },
   {
    "duration": 97,
    "start_time": "2022-04-09T13:50:54.951Z"
   },
   {
    "duration": 358,
    "start_time": "2022-04-09T13:50:55.050Z"
   },
   {
    "duration": 362,
    "start_time": "2022-04-09T13:53:35.374Z"
   },
   {
    "duration": 2319,
    "start_time": "2022-04-09T14:39:38.715Z"
   },
   {
    "duration": 2283,
    "start_time": "2022-04-09T14:52:57.309Z"
   },
   {
    "duration": 20381,
    "start_time": "2022-04-09T14:53:02.600Z"
   },
   {
    "duration": 35980,
    "start_time": "2022-04-09T14:54:28.704Z"
   },
   {
    "duration": 2348,
    "start_time": "2022-04-09T17:14:44.371Z"
   },
   {
    "duration": 36498,
    "start_time": "2022-04-09T17:17:50.525Z"
   },
   {
    "duration": 873,
    "start_time": "2022-04-09T17:18:57.041Z"
   },
   {
    "duration": 67,
    "start_time": "2022-04-09T17:21:02.893Z"
   },
   {
    "duration": 37,
    "start_time": "2022-04-09T17:21:10.728Z"
   },
   {
    "duration": 58,
    "start_time": "2022-04-09T17:21:24.598Z"
   },
   {
    "duration": 69,
    "start_time": "2022-04-09T17:21:30.787Z"
   },
   {
    "duration": 887,
    "start_time": "2022-04-09T17:23:15.310Z"
   },
   {
    "duration": 888,
    "start_time": "2022-04-09T17:23:22.253Z"
   },
   {
    "duration": 5,
    "start_time": "2022-04-09T17:25:52.148Z"
   },
   {
    "duration": 48,
    "start_time": "2022-04-09T17:25:52.155Z"
   },
   {
    "duration": 13,
    "start_time": "2022-04-09T17:25:52.205Z"
   },
   {
    "duration": 128,
    "start_time": "2022-04-09T17:25:52.219Z"
   },
   {
    "duration": 7,
    "start_time": "2022-04-09T17:25:52.349Z"
   },
   {
    "duration": 130,
    "start_time": "2022-04-09T17:25:52.358Z"
   },
   {
    "duration": 4,
    "start_time": "2022-04-09T17:25:52.490Z"
   },
   {
    "duration": 9,
    "start_time": "2022-04-09T17:25:52.496Z"
   },
   {
    "duration": 21,
    "start_time": "2022-04-09T17:25:52.506Z"
   },
   {
    "duration": 23,
    "start_time": "2022-04-09T17:25:52.529Z"
   },
   {
    "duration": 11,
    "start_time": "2022-04-09T17:25:52.555Z"
   },
   {
    "duration": 15,
    "start_time": "2022-04-09T17:25:52.567Z"
   },
   {
    "duration": 12,
    "start_time": "2022-04-09T17:25:52.584Z"
   },
   {
    "duration": 55,
    "start_time": "2022-04-09T17:25:52.598Z"
   },
   {
    "duration": 784,
    "start_time": "2022-04-09T17:25:52.655Z"
   },
   {
    "duration": 5724,
    "start_time": "2022-04-09T17:25:53.441Z"
   },
   {
    "duration": 189,
    "start_time": "2022-04-09T17:25:59.167Z"
   },
   {
    "duration": 2567,
    "start_time": "2022-04-09T17:25:59.448Z"
   },
   {
    "duration": 36756,
    "start_time": "2022-04-09T17:26:02.016Z"
   },
   {
    "duration": 79,
    "start_time": "2022-04-09T17:26:38.774Z"
   },
   {
    "duration": 98,
    "start_time": "2022-04-09T17:26:38.854Z"
   },
   {
    "duration": 3275,
    "start_time": "2022-04-09T17:26:38.954Z"
   },
   {
    "duration": 49991,
    "start_time": "2022-04-09T17:26:42.231Z"
   },
   {
    "duration": 125,
    "start_time": "2022-04-09T17:27:32.224Z"
   },
   {
    "duration": 104,
    "start_time": "2022-04-09T17:27:32.353Z"
   },
   {
    "duration": 1382,
    "start_time": "2022-04-09T17:27:32.459Z"
   },
   {
    "duration": 21734,
    "start_time": "2022-04-09T17:27:33.848Z"
   },
   {
    "duration": 69,
    "start_time": "2022-04-09T17:27:55.584Z"
   },
   {
    "duration": 98,
    "start_time": "2022-04-09T17:27:55.656Z"
   },
   {
    "duration": 840,
    "start_time": "2022-04-09T17:27:55.755Z"
   },
   {
    "duration": 9,
    "start_time": "2022-04-09T17:30:18.601Z"
   },
   {
    "duration": 10,
    "start_time": "2022-04-09T17:30:26.936Z"
   },
   {
    "duration": 4,
    "start_time": "2022-04-09T17:31:14.493Z"
   },
   {
    "duration": 4,
    "start_time": "2022-04-09T17:31:49.954Z"
   },
   {
    "duration": 5,
    "start_time": "2022-04-09T17:32:19.338Z"
   },
   {
    "duration": 352,
    "start_time": "2022-04-09T17:32:25.077Z"
   },
   {
    "duration": 452,
    "start_time": "2022-04-09T17:33:03.565Z"
   },
   {
    "duration": 343,
    "start_time": "2022-04-09T17:33:15.200Z"
   },
   {
    "duration": 364,
    "start_time": "2022-04-09T17:38:30.701Z"
   },
   {
    "duration": 461,
    "start_time": "2022-04-09T17:38:34.986Z"
   },
   {
    "duration": 1619,
    "start_time": "2022-04-09T18:15:18.130Z"
   },
   {
    "duration": 67,
    "start_time": "2022-04-09T18:15:19.752Z"
   },
   {
    "duration": 20,
    "start_time": "2022-04-09T18:15:19.821Z"
   },
   {
    "duration": 162,
    "start_time": "2022-04-09T18:15:19.844Z"
   },
   {
    "duration": 11,
    "start_time": "2022-04-09T18:15:20.009Z"
   },
   {
    "duration": 215,
    "start_time": "2022-04-09T18:15:20.022Z"
   },
   {
    "duration": 6,
    "start_time": "2022-04-09T18:15:20.240Z"
   },
   {
    "duration": 39,
    "start_time": "2022-04-09T18:15:20.248Z"
   },
   {
    "duration": 34,
    "start_time": "2022-04-09T18:15:20.289Z"
   },
   {
    "duration": 13,
    "start_time": "2022-04-09T18:15:20.326Z"
   },
   {
    "duration": 45,
    "start_time": "2022-04-09T18:15:20.341Z"
   },
   {
    "duration": 21,
    "start_time": "2022-04-09T18:15:20.388Z"
   },
   {
    "duration": 17,
    "start_time": "2022-04-09T18:15:20.411Z"
   },
   {
    "duration": 48,
    "start_time": "2022-04-09T18:15:20.431Z"
   },
   {
    "duration": 931,
    "start_time": "2022-04-09T18:15:20.481Z"
   },
   {
    "duration": 6366,
    "start_time": "2022-04-09T18:15:21.414Z"
   },
   {
    "duration": 93,
    "start_time": "2022-04-09T18:15:27.782Z"
   },
   {
    "duration": 2869,
    "start_time": "2022-04-09T18:15:27.948Z"
   },
   {
    "duration": 41815,
    "start_time": "2022-04-09T18:15:30.819Z"
   },
   {
    "duration": 35,
    "start_time": "2022-04-09T18:16:12.635Z"
   },
   {
    "duration": 85,
    "start_time": "2022-04-09T18:16:12.672Z"
   },
   {
    "duration": 3582,
    "start_time": "2022-04-09T18:16:12.760Z"
   },
   {
    "duration": 54092,
    "start_time": "2022-04-09T18:16:16.344Z"
   },
   {
    "duration": 108,
    "start_time": "2022-04-09T18:17:10.439Z"
   },
   {
    "duration": 21,
    "start_time": "2022-04-09T18:17:10.556Z"
   },
   {
    "duration": 1278,
    "start_time": "2022-04-09T18:17:10.658Z"
   },
   {
    "duration": 23803,
    "start_time": "2022-04-09T18:17:11.937Z"
   },
   {
    "duration": 103,
    "start_time": "2022-04-09T18:17:35.747Z"
   },
   {
    "duration": 116,
    "start_time": "2022-04-09T18:17:35.852Z"
   },
   {
    "duration": 392,
    "start_time": "2022-04-09T18:17:35.969Z"
   },
   {
    "duration": 257,
    "start_time": "2022-04-09T18:18:52.280Z"
   },
   {
    "duration": 108,
    "start_time": "2022-04-09T18:18:59.090Z"
   },
   {
    "duration": 5,
    "start_time": "2022-04-09T18:24:44.708Z"
   },
   {
    "duration": 6,
    "start_time": "2022-04-09T18:25:22.566Z"
   },
   {
    "duration": 5,
    "start_time": "2022-04-09T18:25:57.094Z"
   },
   {
    "duration": 6,
    "start_time": "2022-04-09T18:26:08.899Z"
   },
   {
    "duration": 5,
    "start_time": "2022-04-09T18:26:41.864Z"
   },
   {
    "duration": 113,
    "start_time": "2022-04-09T19:08:20.529Z"
   },
   {
    "duration": 6,
    "start_time": "2022-04-09T19:08:26.777Z"
   },
   {
    "duration": 6,
    "start_time": "2022-04-09T19:09:06.726Z"
   },
   {
    "duration": 10,
    "start_time": "2022-04-09T19:10:34.515Z"
   },
   {
    "duration": 6,
    "start_time": "2022-04-09T19:10:43.462Z"
   },
   {
    "duration": 5,
    "start_time": "2022-04-09T19:23:06.273Z"
   },
   {
    "duration": 103,
    "start_time": "2022-04-09T19:24:28.931Z"
   },
   {
    "duration": 1470,
    "start_time": "2022-04-09T19:30:32.445Z"
   },
   {
    "duration": 47,
    "start_time": "2022-04-09T19:30:33.917Z"
   },
   {
    "duration": 14,
    "start_time": "2022-04-09T19:30:33.965Z"
   },
   {
    "duration": 130,
    "start_time": "2022-04-09T19:30:33.981Z"
   },
   {
    "duration": 8,
    "start_time": "2022-04-09T19:30:34.113Z"
   },
   {
    "duration": 126,
    "start_time": "2022-04-09T19:30:34.123Z"
   },
   {
    "duration": 5,
    "start_time": "2022-04-09T19:30:34.251Z"
   },
   {
    "duration": 7,
    "start_time": "2022-04-09T19:30:34.257Z"
   },
   {
    "duration": 21,
    "start_time": "2022-04-09T19:30:34.266Z"
   },
   {
    "duration": 10,
    "start_time": "2022-04-09T19:30:34.291Z"
   },
   {
    "duration": 14,
    "start_time": "2022-04-09T19:30:34.302Z"
   },
   {
    "duration": 30,
    "start_time": "2022-04-09T19:30:34.318Z"
   },
   {
    "duration": 6,
    "start_time": "2022-04-09T19:30:34.350Z"
   },
   {
    "duration": 14,
    "start_time": "2022-04-09T19:30:34.357Z"
   },
   {
    "duration": 30,
    "start_time": "2022-04-09T19:30:34.373Z"
   },
   {
    "duration": 788,
    "start_time": "2022-04-09T19:30:34.405Z"
   },
   {
    "duration": 5589,
    "start_time": "2022-04-09T19:30:35.195Z"
   },
   {
    "duration": 169,
    "start_time": "2022-04-09T19:30:40.785Z"
   },
   {
    "duration": 2652,
    "start_time": "2022-04-09T19:30:40.957Z"
   },
   {
    "duration": 36056,
    "start_time": "2022-04-09T19:30:43.611Z"
   },
   {
    "duration": 84,
    "start_time": "2022-04-09T19:31:19.669Z"
   },
   {
    "duration": 101,
    "start_time": "2022-04-09T19:31:19.756Z"
   },
   {
    "duration": 3338,
    "start_time": "2022-04-09T19:31:19.859Z"
   },
   {
    "duration": 49235,
    "start_time": "2022-04-09T19:31:23.198Z"
   },
   {
    "duration": 35,
    "start_time": "2022-04-09T19:32:12.435Z"
   },
   {
    "duration": 102,
    "start_time": "2022-04-09T19:32:12.549Z"
   },
   {
    "duration": 1195,
    "start_time": "2022-04-09T19:32:12.653Z"
   },
   {
    "duration": 21824,
    "start_time": "2022-04-09T19:32:13.851Z"
   },
   {
    "duration": 171,
    "start_time": "2022-04-09T19:32:35.677Z"
   },
   {
    "duration": 97,
    "start_time": "2022-04-09T19:32:35.851Z"
   },
   {
    "duration": 111,
    "start_time": "2022-04-09T19:32:35.950Z"
   },
   {
    "duration": 0,
    "start_time": "2022-04-09T19:32:36.062Z"
   },
   {
    "duration": 265,
    "start_time": "2022-04-09T19:33:15.218Z"
   },
   {
    "duration": 259,
    "start_time": "2022-04-09T19:33:24.244Z"
   },
   {
    "duration": 114,
    "start_time": "2022-04-09T19:33:24.505Z"
   },
   {
    "duration": 1446,
    "start_time": "2022-04-09T19:33:39.169Z"
   },
   {
    "duration": 45,
    "start_time": "2022-04-09T19:33:40.617Z"
   },
   {
    "duration": 13,
    "start_time": "2022-04-09T19:33:40.664Z"
   },
   {
    "duration": 133,
    "start_time": "2022-04-09T19:33:40.679Z"
   },
   {
    "duration": 6,
    "start_time": "2022-04-09T19:33:40.814Z"
   },
   {
    "duration": 128,
    "start_time": "2022-04-09T19:33:40.822Z"
   },
   {
    "duration": 5,
    "start_time": "2022-04-09T19:33:40.953Z"
   },
   {
    "duration": 9,
    "start_time": "2022-04-09T19:33:40.960Z"
   },
   {
    "duration": 18,
    "start_time": "2022-04-09T19:33:40.971Z"
   },
   {
    "duration": 12,
    "start_time": "2022-04-09T19:33:40.992Z"
   },
   {
    "duration": 43,
    "start_time": "2022-04-09T19:33:41.006Z"
   },
   {
    "duration": 13,
    "start_time": "2022-04-09T19:33:41.052Z"
   },
   {
    "duration": 7,
    "start_time": "2022-04-09T19:33:41.067Z"
   },
   {
    "duration": 15,
    "start_time": "2022-04-09T19:33:41.075Z"
   },
   {
    "duration": 66,
    "start_time": "2022-04-09T19:33:41.092Z"
   },
   {
    "duration": 765,
    "start_time": "2022-04-09T19:33:41.159Z"
   },
   {
    "duration": 5464,
    "start_time": "2022-04-09T19:33:41.926Z"
   },
   {
    "duration": 358,
    "start_time": "2022-04-09T19:33:47.391Z"
   },
   {
    "duration": 2504,
    "start_time": "2022-04-09T19:33:47.751Z"
   },
   {
    "duration": 36129,
    "start_time": "2022-04-09T19:33:50.258Z"
   },
   {
    "duration": 63,
    "start_time": "2022-04-09T19:34:26.390Z"
   },
   {
    "duration": 100,
    "start_time": "2022-04-09T19:34:26.456Z"
   },
   {
    "duration": 3188,
    "start_time": "2022-04-09T19:34:26.558Z"
   },
   {
    "duration": 50928,
    "start_time": "2022-04-09T19:34:29.748Z"
   },
   {
    "duration": 79,
    "start_time": "2022-04-09T19:35:20.677Z"
   },
   {
    "duration": 98,
    "start_time": "2022-04-09T19:35:20.759Z"
   },
   {
    "duration": 1327,
    "start_time": "2022-04-09T19:35:20.949Z"
   },
   {
    "duration": 22697,
    "start_time": "2022-04-09T19:35:22.279Z"
   },
   {
    "duration": 74,
    "start_time": "2022-04-09T19:35:44.977Z"
   },
   {
    "duration": 110,
    "start_time": "2022-04-09T19:35:45.054Z"
   },
   {
    "duration": 272,
    "start_time": "2022-04-09T19:35:45.166Z"
   },
   {
    "duration": 128,
    "start_time": "2022-04-09T19:35:45.439Z"
   }
  ],
  "kernelspec": {
   "display_name": "Python 3 (ipykernel)",
   "language": "python",
   "name": "python3"
  },
  "language_info": {
   "codemirror_mode": {
    "name": "ipython",
    "version": 3
   },
   "file_extension": ".py",
   "mimetype": "text/x-python",
   "name": "python",
   "nbconvert_exporter": "python",
   "pygments_lexer": "ipython3",
   "version": "3.9.5"
  },
  "toc": {
   "base_numbering": 1,
   "nav_menu": {},
   "number_sections": true,
   "sideBar": true,
   "skip_h1_title": true,
   "title_cell": "Содержание",
   "title_sidebar": "Contents",
   "toc_cell": true,
   "toc_position": {
    "height": "calc(100% - 180px)",
    "left": "10px",
    "top": "150px",
    "width": "165px"
   },
   "toc_section_display": true,
   "toc_window_display": true
  }
 },
 "nbformat": 4,
 "nbformat_minor": 2
}
